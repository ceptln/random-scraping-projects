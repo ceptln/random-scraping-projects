{
 "cells": [
  {
   "cell_type": "code",
   "execution_count": 132,
   "id": "approved-prize",
   "metadata": {},
   "outputs": [],
   "source": [
    "# Importing recquired packages\n",
    "from selenium import webdriver\n",
    "from selenium.webdriver.common.keys import Keys\n",
    "from bs4 import BeautifulSoup\n",
    "import time"
   ]
  },
  {
   "cell_type": "code",
   "execution_count": 133,
   "id": "representative-aluminum",
   "metadata": {},
   "outputs": [],
   "source": [
    "# Locating the driver\n",
    "driver_location = \"/Users/camilleepitalon/chromedriver\"\n",
    "driver = webdriver.Chrome(driver_location)\n",
    "\n",
    "# Activating the driver on frimm landing page\n",
    "driver.get('https://www.frimm.com/index.php?ac=frimm_cerca_agenzia_immobiliare')"
   ]
  },
  {
   "cell_type": "code",
   "execution_count": 66,
   "id": "equipped-progressive",
   "metadata": {},
   "outputs": [],
   "source": [
    "# Creating the list of cities\n",
    "cities_list = ['Roma', 'Milano', 'Napoli', 'Torino', 'Palermo', 'Genova', 'Bologna', 'Firenze', 'Catania', 'Bari']"
   ]
  },
  {
   "cell_type": "code",
   "execution_count": 134,
   "id": "determined-dimension",
   "metadata": {},
   "outputs": [],
   "source": [
    "# Starting research\n",
    "driver.find_element_by_xpath(\"//input[@class='search__input pac-target-input']\").send_keys(\"Roma\",Keys.ENTER)"
   ]
  },
  {
   "cell_type": "code",
   "execution_count": 46,
   "id": "administrative-voice",
   "metadata": {},
   "outputs": [],
   "source": [
    "#driver.find_element_by_xpath(\"//input[@value='Cerca']\").click()"
   ]
  },
  {
   "cell_type": "code",
   "execution_count": 135,
   "id": "specialized-junction",
   "metadata": {},
   "outputs": [
    {
     "name": "stdout",
     "output_type": "stream",
     "text": [
      "9\n"
     ]
    }
   ],
   "source": [
    "# Getting the number of results pages\n",
    "number_of_pages_text = driver.find_element_by_xpath(\"//span[@id='totale_risultati_1']\").text\n",
    "number_of_pages = int(number_of_pages_text[-1])\n",
    "print(number_of_pages)"
   ]
  },
  {
   "cell_type": "code",
   "execution_count": 136,
   "id": "clear-plenty",
   "metadata": {},
   "outputs": [],
   "source": [
    "# Getting all results of the research\n",
    "for i in range(number_of_pages-1):\n",
    "    driver.find_element_by_xpath(\"//a[text()='Mostra ulteriori risultati']\").click()"
   ]
  },
  {
   "cell_type": "code",
   "execution_count": 80,
   "id": "cubic-fashion",
   "metadata": {},
   "outputs": [
    {
     "name": "stdout",
     "output_type": "stream",
     "text": [
      "87\n"
     ]
    }
   ],
   "source": [
    "# Scraping all the boxes and putting them into a list\n",
    "soup = BeautifulSoup(driver.page_source, 'html')\n",
    "boxes_list = soup.select(\"div[class='media-body']\")\n",
    "print(len(boxes_list))"
   ]
  },
  {
   "cell_type": "code",
   "execution_count": 137,
   "id": "social-boutique",
   "metadata": {},
   "outputs": [
    {
     "name": "stdout",
     "output_type": "stream",
     "text": [
      "87\n",
      "[<selenium.webdriver.remote.webelement.WebElement (session=\"5064ac608ed593fd2d20fcdde29c0607\", element=\"37e8ab5f-d597-450d-a018-611920cbadc3\")>, <selenium.webdriver.remote.webelement.WebElement (session=\"5064ac608ed593fd2d20fcdde29c0607\", element=\"862cde60-6de9-4acd-93d0-f997f58bbf5c\")>, <selenium.webdriver.remote.webelement.WebElement (session=\"5064ac608ed593fd2d20fcdde29c0607\", element=\"d0e77010-3c1d-43a4-979a-5582dd893225\")>, <selenium.webdriver.remote.webelement.WebElement (session=\"5064ac608ed593fd2d20fcdde29c0607\", element=\"4d0a7926-9ea2-4c2a-af4c-b2aee6504ced\")>, <selenium.webdriver.remote.webelement.WebElement (session=\"5064ac608ed593fd2d20fcdde29c0607\", element=\"417356eb-eb32-4c9f-8a3f-14a2b106d3ee\")>, <selenium.webdriver.remote.webelement.WebElement (session=\"5064ac608ed593fd2d20fcdde29c0607\", element=\"86ac6456-24c3-442f-ae1e-8747ee63fa1b\")>, <selenium.webdriver.remote.webelement.WebElement (session=\"5064ac608ed593fd2d20fcdde29c0607\", element=\"c06d9baf-aaf9-4be3-8db3-2c21362494c7\")>, <selenium.webdriver.remote.webelement.WebElement (session=\"5064ac608ed593fd2d20fcdde29c0607\", element=\"699e3f7c-aa4a-4c15-a7f0-7b7de1ef7eb6\")>, <selenium.webdriver.remote.webelement.WebElement (session=\"5064ac608ed593fd2d20fcdde29c0607\", element=\"60a43950-02d9-4338-bfd1-534cfbdacb7b\")>, <selenium.webdriver.remote.webelement.WebElement (session=\"5064ac608ed593fd2d20fcdde29c0607\", element=\"696dfbc7-cd70-4462-9b56-2401442a9e46\")>, <selenium.webdriver.remote.webelement.WebElement (session=\"5064ac608ed593fd2d20fcdde29c0607\", element=\"666f7c29-c534-47f4-a10e-a0f51c3ce892\")>, <selenium.webdriver.remote.webelement.WebElement (session=\"5064ac608ed593fd2d20fcdde29c0607\", element=\"d7b47740-c3d1-4166-825d-a71f48b5d100\")>, <selenium.webdriver.remote.webelement.WebElement (session=\"5064ac608ed593fd2d20fcdde29c0607\", element=\"deab12ed-df40-4048-9f60-9335c69894e2\")>, <selenium.webdriver.remote.webelement.WebElement (session=\"5064ac608ed593fd2d20fcdde29c0607\", element=\"9de4de63-b759-4ebc-b478-c038b5035659\")>, <selenium.webdriver.remote.webelement.WebElement (session=\"5064ac608ed593fd2d20fcdde29c0607\", element=\"bdf41e6a-263d-4a8c-bc55-506876003bd2\")>, <selenium.webdriver.remote.webelement.WebElement (session=\"5064ac608ed593fd2d20fcdde29c0607\", element=\"0d6aa225-9c80-492d-954d-9bf7c8b27ba8\")>, <selenium.webdriver.remote.webelement.WebElement (session=\"5064ac608ed593fd2d20fcdde29c0607\", element=\"84d18b8b-6492-49da-93c3-ec76a0d98976\")>, <selenium.webdriver.remote.webelement.WebElement (session=\"5064ac608ed593fd2d20fcdde29c0607\", element=\"a9dce267-17af-4295-8759-938f38921a22\")>, <selenium.webdriver.remote.webelement.WebElement (session=\"5064ac608ed593fd2d20fcdde29c0607\", element=\"8315a594-68a2-4d19-9ef8-fac29b6fdeff\")>, <selenium.webdriver.remote.webelement.WebElement (session=\"5064ac608ed593fd2d20fcdde29c0607\", element=\"dfef3a28-5bbc-4f6a-a1da-f587590a9614\")>, <selenium.webdriver.remote.webelement.WebElement (session=\"5064ac608ed593fd2d20fcdde29c0607\", element=\"a95a354b-4a41-4517-a151-9274276c669e\")>, <selenium.webdriver.remote.webelement.WebElement (session=\"5064ac608ed593fd2d20fcdde29c0607\", element=\"a6ad2c5d-e9b2-49dc-b27e-fe14d35ef734\")>, <selenium.webdriver.remote.webelement.WebElement (session=\"5064ac608ed593fd2d20fcdde29c0607\", element=\"70257beb-dc0a-4655-8626-70152df1f18e\")>, <selenium.webdriver.remote.webelement.WebElement (session=\"5064ac608ed593fd2d20fcdde29c0607\", element=\"89095a07-fc5f-4905-a276-5bd652dcd3e1\")>, <selenium.webdriver.remote.webelement.WebElement (session=\"5064ac608ed593fd2d20fcdde29c0607\", element=\"ae3f42b3-0154-4a2f-b003-02598c245a7b\")>, <selenium.webdriver.remote.webelement.WebElement (session=\"5064ac608ed593fd2d20fcdde29c0607\", element=\"56e14662-0e3f-46b2-97ea-e639cd13a173\")>, <selenium.webdriver.remote.webelement.WebElement (session=\"5064ac608ed593fd2d20fcdde29c0607\", element=\"bca19360-41de-4637-a32f-1fca127c296b\")>, <selenium.webdriver.remote.webelement.WebElement (session=\"5064ac608ed593fd2d20fcdde29c0607\", element=\"ee9e5f53-fa2b-4172-9d7d-031619ac7432\")>, <selenium.webdriver.remote.webelement.WebElement (session=\"5064ac608ed593fd2d20fcdde29c0607\", element=\"ebecade4-c5ad-4074-b8ef-9cf0b7791d6d\")>, <selenium.webdriver.remote.webelement.WebElement (session=\"5064ac608ed593fd2d20fcdde29c0607\", element=\"062709d3-369e-4c79-a430-539c628a0dd5\")>, <selenium.webdriver.remote.webelement.WebElement (session=\"5064ac608ed593fd2d20fcdde29c0607\", element=\"2e614295-be65-4976-a5b4-138e0a81bed4\")>, <selenium.webdriver.remote.webelement.WebElement (session=\"5064ac608ed593fd2d20fcdde29c0607\", element=\"5ae8ddae-795e-4947-95d2-a625d2f10e50\")>, <selenium.webdriver.remote.webelement.WebElement (session=\"5064ac608ed593fd2d20fcdde29c0607\", element=\"8b242579-0168-401f-904b-b3ecec624ea3\")>, <selenium.webdriver.remote.webelement.WebElement (session=\"5064ac608ed593fd2d20fcdde29c0607\", element=\"9b9eb919-887a-48e6-a94f-8a6afe6d531b\")>, <selenium.webdriver.remote.webelement.WebElement (session=\"5064ac608ed593fd2d20fcdde29c0607\", element=\"a129b571-dd5f-48d8-8f54-7d4323245a6b\")>, <selenium.webdriver.remote.webelement.WebElement (session=\"5064ac608ed593fd2d20fcdde29c0607\", element=\"b1cf834e-fc68-4c32-9764-37ac4d33892f\")>, <selenium.webdriver.remote.webelement.WebElement (session=\"5064ac608ed593fd2d20fcdde29c0607\", element=\"2fa475f6-3cdd-4121-ab49-03d389a2a2b8\")>, <selenium.webdriver.remote.webelement.WebElement (session=\"5064ac608ed593fd2d20fcdde29c0607\", element=\"03193b47-007f-4e70-b084-83418e47f762\")>, <selenium.webdriver.remote.webelement.WebElement (session=\"5064ac608ed593fd2d20fcdde29c0607\", element=\"cc879160-f361-4d47-911b-fba717d4e44a\")>, <selenium.webdriver.remote.webelement.WebElement (session=\"5064ac608ed593fd2d20fcdde29c0607\", element=\"a1c7afa5-59d0-4d55-8760-671c0a7026d8\")>, <selenium.webdriver.remote.webelement.WebElement (session=\"5064ac608ed593fd2d20fcdde29c0607\", element=\"fdda1594-6021-41f7-8080-7dc9547cce5a\")>, <selenium.webdriver.remote.webelement.WebElement (session=\"5064ac608ed593fd2d20fcdde29c0607\", element=\"c186c1b6-177b-48e5-9e4b-0750c4031ae3\")>, <selenium.webdriver.remote.webelement.WebElement (session=\"5064ac608ed593fd2d20fcdde29c0607\", element=\"e57b927e-f0e7-4799-b30d-d71d3086e46d\")>, <selenium.webdriver.remote.webelement.WebElement (session=\"5064ac608ed593fd2d20fcdde29c0607\", element=\"3d8f5ab1-9345-4613-a4a4-976a38cef512\")>, <selenium.webdriver.remote.webelement.WebElement (session=\"5064ac608ed593fd2d20fcdde29c0607\", element=\"42ecb612-26db-4b90-9f77-e5ae3a92a7a6\")>, <selenium.webdriver.remote.webelement.WebElement (session=\"5064ac608ed593fd2d20fcdde29c0607\", element=\"727b62ab-3b83-476f-ace4-a284bc841952\")>, <selenium.webdriver.remote.webelement.WebElement (session=\"5064ac608ed593fd2d20fcdde29c0607\", element=\"a97c0f24-b794-4abf-8534-80c555cefc20\")>, <selenium.webdriver.remote.webelement.WebElement (session=\"5064ac608ed593fd2d20fcdde29c0607\", element=\"40127dee-a3b8-4344-b8c0-75f8d2066682\")>, <selenium.webdriver.remote.webelement.WebElement (session=\"5064ac608ed593fd2d20fcdde29c0607\", element=\"7a84208a-449f-436a-b59d-78db63ef9422\")>, <selenium.webdriver.remote.webelement.WebElement (session=\"5064ac608ed593fd2d20fcdde29c0607\", element=\"a2ca64bc-461d-4ef1-b9ff-cc9f4a06030f\")>, <selenium.webdriver.remote.webelement.WebElement (session=\"5064ac608ed593fd2d20fcdde29c0607\", element=\"df8e1846-7edb-47ce-9e09-f8c31332f51e\")>, <selenium.webdriver.remote.webelement.WebElement (session=\"5064ac608ed593fd2d20fcdde29c0607\", element=\"7d5daa8a-a4a9-4e4d-8451-8367985b3e4f\")>, <selenium.webdriver.remote.webelement.WebElement (session=\"5064ac608ed593fd2d20fcdde29c0607\", element=\"ee6383c3-f304-4081-801e-38a8e6b60a27\")>, <selenium.webdriver.remote.webelement.WebElement (session=\"5064ac608ed593fd2d20fcdde29c0607\", element=\"e0fdf8dc-6934-495e-88c4-24ff39a5a92d\")>, <selenium.webdriver.remote.webelement.WebElement (session=\"5064ac608ed593fd2d20fcdde29c0607\", element=\"6a28e844-a4ee-400b-9da3-0541deb8a4fa\")>, <selenium.webdriver.remote.webelement.WebElement (session=\"5064ac608ed593fd2d20fcdde29c0607\", element=\"1450f371-d839-4287-b495-91c6baf5bd18\")>, <selenium.webdriver.remote.webelement.WebElement (session=\"5064ac608ed593fd2d20fcdde29c0607\", element=\"b6eef041-e4f3-4568-a52e-f41a12709a99\")>, <selenium.webdriver.remote.webelement.WebElement (session=\"5064ac608ed593fd2d20fcdde29c0607\", element=\"e6a4d6be-2640-4dc4-8290-22ea05cf031c\")>, <selenium.webdriver.remote.webelement.WebElement (session=\"5064ac608ed593fd2d20fcdde29c0607\", element=\"0b6cc13a-a775-4db0-90f5-cca388224e7c\")>, <selenium.webdriver.remote.webelement.WebElement (session=\"5064ac608ed593fd2d20fcdde29c0607\", element=\"b19bbbd8-a674-4708-a17b-c8af943dc7a4\")>, <selenium.webdriver.remote.webelement.WebElement (session=\"5064ac608ed593fd2d20fcdde29c0607\", element=\"03a788a7-06ca-4dfc-870f-04dac8dd4d46\")>, <selenium.webdriver.remote.webelement.WebElement (session=\"5064ac608ed593fd2d20fcdde29c0607\", element=\"f0f2d184-fc70-42e5-b425-f04385df1f3a\")>, <selenium.webdriver.remote.webelement.WebElement (session=\"5064ac608ed593fd2d20fcdde29c0607\", element=\"a6f0251b-5d72-4be9-8022-8df4bcf71a7b\")>, <selenium.webdriver.remote.webelement.WebElement (session=\"5064ac608ed593fd2d20fcdde29c0607\", element=\"bd7692f9-16ae-4ced-84d0-92ded5319392\")>, <selenium.webdriver.remote.webelement.WebElement (session=\"5064ac608ed593fd2d20fcdde29c0607\", element=\"adc356cf-5b55-40b0-883c-01f2bae94b7b\")>, <selenium.webdriver.remote.webelement.WebElement (session=\"5064ac608ed593fd2d20fcdde29c0607\", element=\"cbd47224-7e14-4f0a-93c6-5d2fc9ce3bbf\")>, <selenium.webdriver.remote.webelement.WebElement (session=\"5064ac608ed593fd2d20fcdde29c0607\", element=\"55a4c2e9-b4e9-4666-8c44-e60b62f6c788\")>, <selenium.webdriver.remote.webelement.WebElement (session=\"5064ac608ed593fd2d20fcdde29c0607\", element=\"5282c3e7-c4fc-4541-b95d-ff0531c3f289\")>, <selenium.webdriver.remote.webelement.WebElement (session=\"5064ac608ed593fd2d20fcdde29c0607\", element=\"8fbb75e4-1a2b-4856-8af2-8d2dad0a3c5f\")>, <selenium.webdriver.remote.webelement.WebElement (session=\"5064ac608ed593fd2d20fcdde29c0607\", element=\"342081dd-a2a3-48ac-9b22-80d10813f739\")>, <selenium.webdriver.remote.webelement.WebElement (session=\"5064ac608ed593fd2d20fcdde29c0607\", element=\"f2317cd6-d07d-437c-a149-9b2cc1d7034a\")>, <selenium.webdriver.remote.webelement.WebElement (session=\"5064ac608ed593fd2d20fcdde29c0607\", element=\"efdf6bfe-79bf-4f07-835c-2aaa5e4e9df3\")>, <selenium.webdriver.remote.webelement.WebElement (session=\"5064ac608ed593fd2d20fcdde29c0607\", element=\"ab1f246c-3357-48c4-9b6f-ae9712499425\")>, <selenium.webdriver.remote.webelement.WebElement (session=\"5064ac608ed593fd2d20fcdde29c0607\", element=\"01ff0739-4d07-4392-98ce-9fc2010fa21a\")>, <selenium.webdriver.remote.webelement.WebElement (session=\"5064ac608ed593fd2d20fcdde29c0607\", element=\"8fe148a3-2a4e-456c-9143-e70e676238c1\")>, <selenium.webdriver.remote.webelement.WebElement (session=\"5064ac608ed593fd2d20fcdde29c0607\", element=\"7acf87f1-1472-4e91-8a4a-b8a514303cfe\")>, <selenium.webdriver.remote.webelement.WebElement (session=\"5064ac608ed593fd2d20fcdde29c0607\", element=\"118ede43-f0f6-41e7-b517-0ddaccf68666\")>, <selenium.webdriver.remote.webelement.WebElement (session=\"5064ac608ed593fd2d20fcdde29c0607\", element=\"761ae222-d910-4d59-aa05-5590e0e2ecc2\")>, <selenium.webdriver.remote.webelement.WebElement (session=\"5064ac608ed593fd2d20fcdde29c0607\", element=\"e817512e-6585-4ecf-88d4-d9a09220721e\")>, <selenium.webdriver.remote.webelement.WebElement (session=\"5064ac608ed593fd2d20fcdde29c0607\", element=\"0154949c-136e-4647-8707-7631b5401d47\")>, <selenium.webdriver.remote.webelement.WebElement (session=\"5064ac608ed593fd2d20fcdde29c0607\", element=\"53c59f09-1ff9-4f12-ba32-d61c409534aa\")>, <selenium.webdriver.remote.webelement.WebElement (session=\"5064ac608ed593fd2d20fcdde29c0607\", element=\"735ca398-f753-4a56-9bd8-3683d5a42346\")>, <selenium.webdriver.remote.webelement.WebElement (session=\"5064ac608ed593fd2d20fcdde29c0607\", element=\"d8d81150-8ebd-46fa-b27b-fe56082f5017\")>, <selenium.webdriver.remote.webelement.WebElement (session=\"5064ac608ed593fd2d20fcdde29c0607\", element=\"02d660df-508e-47b9-82de-23e8d3bb80f4\")>, <selenium.webdriver.remote.webelement.WebElement (session=\"5064ac608ed593fd2d20fcdde29c0607\", element=\"346774d2-3a34-4d53-b3e9-897f53480d42\")>, <selenium.webdriver.remote.webelement.WebElement (session=\"5064ac608ed593fd2d20fcdde29c0607\", element=\"cd5d4eb6-87e1-48c2-be8f-b0793a21fa43\")>, <selenium.webdriver.remote.webelement.WebElement (session=\"5064ac608ed593fd2d20fcdde29c0607\", element=\"e7bf55a3-b597-4dda-8958-9ea7b601dfbb\")>]\n"
     ]
    }
   ],
   "source": [
    "# Extracting all wanted fields from each boxes\n",
    "\n",
    "boxes_list = driver.find_elements_by_xpath('//div[@class=\"media-body\"]')\n",
    "print(len(boxes_list))\n",
    "print(boxes_list)"
   ]
  },
  {
   "cell_type": "raw",
   "id": "continued-smell",
   "metadata": {},
   "source": [
    "## Doesn't work, only parses the first element (parses the whole page each time I guess). \n",
    "\n",
    "for box in boxes_list:\n",
    "    # Agency name and ID\n",
    "    title = box.find_element_by_xpath('//h5/b').text\n",
    "    agency_id = box.find_element_by_xpath('//div[@class=\"actions__toggle\"]/b').text\n",
    "\n",
    "    # Agency address elements\n",
    "    address_concat = box.find_element_by_xpath(\"//div[@class='media-body']//small\").text\n",
    "    address_list = address_concat.split(' | ')\n",
    "    street = address_list[0]\n",
    "    zip_code = address_list[1]\n",
    "    city = address_list[2]\n",
    "    zone = address_list[3][6:]\n",
    "\n",
    "    # Agency contact info\n",
    "    phone = box.find_element_by_xpath(\"//div[@class='media-body']//li[1]/nobr\").text\n",
    "    email = box.find_element_by_xpath(\"//div[@class='media-body']//li[2]/nobr\").text\n",
    "    website = box.find_element_by_xpath(\"//div[@class='media-body']//li[3]/nobr\").text\n",
    "    \n",
    "    box_dict = {'Title':title,'Agency_ID':agency_id,'Street':street,'Zip_Code':zip_code,'City':city,'Zone':zone}\n",
    "    print(box_dict)"
   ]
  },
  {
   "cell_type": "code",
   "execution_count": 153,
   "id": "amended-chosen",
   "metadata": {},
   "outputs": [
    {
     "name": "stdout",
     "output_type": "stream",
     "text": [
      "['EffettoCasa Srl Aff. Frimm  ', 'ID: 228', 'Via Marco Valerio Corvo 115 | 00174 | Roma | Zona: Tuscolano - Appio Claudio', ' 067108235 - 067108236  effettocasa.tuscolana@gmail.com  www.effettocasaroma.it']\n",
      "[' 067108235 - 067108236', 'effettocasa.tuscolana@gmail.com', 'www.effettocasaroma.it']\n"
     ]
    }
   ],
   "source": [
    "for box in boxes_list:\n",
    "    text = box.text\n",
    "    text_splited = text.split('\\n')\n",
    "    # Agency name and ID\n",
    "    title = text_splited[0]\n",
    "    agency_id = int(text_splited[1].replace('ID:',''))\n",
    "    address_list = text_splited[2]\n",
    "\n",
    "    # Agency address elements\n",
    "    address_concat = box.find_element_by_xpath(\"//div[@class='media-body']//small\").text\n",
    "    address_list = address_concat.split(' | ')\n",
    "    street = address_list[0]\n",
    "    zip_code = address_list[1]\n",
    "    city = address_list[2]\n",
    "    zone = address_list[3][6:]\n",
    "\n",
    "    # Agency contact info\n",
    "    phone = box.find_element_by_xpath(\"//div[@class='media-body']//li[1]/nobr\").text\n",
    "    email = box.find_element_by_xpath(\"//div[@class='media-body']//li[2]/nobr\").text\n",
    "    website = box.find_element_by_xpath(\"//div[@class='media-body']//li[3]/nobr\").text\n",
    "    \n",
    "    box_dict = {'Title':title,'Agency_ID':agency_id,'Street':street,'Zip_Code':zip_code,'City':city,'Zone':zone}\n",
    "    print(box_dict)\n",
    "\n",
    "boxx = box.text\n",
    "test = boxx.split('\\n')\n",
    "print(test)\n",
    "test2 = test[-1].split('  ')\n",
    "print(test2)"
   ]
  },
  {
   "cell_type": "code",
   "execution_count": 141,
   "id": "binary-experiment",
   "metadata": {},
   "outputs": [
    {
     "name": "stdout",
     "output_type": "stream",
     "text": [
      "Casagregoryre Srl Semplificata  \n",
      "ID: 66\n",
      "Largo Gregorio Xiii 5 | 00167 | Roma | Zona: Boccea\n",
      " 066633692  casagregoryre@gmail.com  www.casagregoryre.it\n",
      "Selling Immobiliare Di Paola Peppoloni  \n",
      "ID: 190\n",
      "Via Tommaso Da Celano 61 | 00179 | Roma | Zona: Appio Latino\n",
      " +39 064065880 3453067475 3383496619  selling.immobiliare@gmail.com  www.sellingimmobiliare.com\n"
     ]
    }
   ],
   "source": [
    "print(boxes_list[2].text)\n",
    "print(boxes_list[3].text)"
   ]
  },
  {
   "cell_type": "code",
   "execution_count": 155,
   "id": "thrown-replication",
   "metadata": {},
   "outputs": [
    {
     "ename": "ValueError",
     "evalue": "invalid literal for int() with base 10: 'er 2'",
     "output_type": "error",
     "traceback": [
      "\u001b[0;31m---------------------------------------------------------------------------\u001b[0m",
      "\u001b[0;31mValueError\u001b[0m                                Traceback (most recent call last)",
      "\u001b[0;32m<ipython-input-155-4bf7160e93c5>\u001b[0m in \u001b[0;36m<module>\u001b[0;34m\u001b[0m\n\u001b[0;32m----> 1\u001b[0;31m \u001b[0mint\u001b[0m\u001b[0;34m(\u001b[0m\u001b[0;34m'er 2'\u001b[0m\u001b[0;34m)\u001b[0m\u001b[0;34m\u001b[0m\u001b[0;34m\u001b[0m\u001b[0m\n\u001b[0m",
      "\u001b[0;31mValueError\u001b[0m: invalid literal for int() with base 10: 'er 2'"
     ]
    }
   ],
   "source": []
  },
  {
   "cell_type": "code",
   "execution_count": null,
   "id": "hollywood-quest",
   "metadata": {},
   "outputs": [],
   "source": []
  }
 ],
 "metadata": {
  "kernelspec": {
   "display_name": "Python 3",
   "language": "python",
   "name": "python3"
  },
  "language_info": {
   "codemirror_mode": {
    "name": "ipython",
    "version": 3
   },
   "file_extension": ".py",
   "mimetype": "text/x-python",
   "name": "python",
   "nbconvert_exporter": "python",
   "pygments_lexer": "ipython3",
   "version": "3.9.1"
  }
 },
 "nbformat": 4,
 "nbformat_minor": 5
}
