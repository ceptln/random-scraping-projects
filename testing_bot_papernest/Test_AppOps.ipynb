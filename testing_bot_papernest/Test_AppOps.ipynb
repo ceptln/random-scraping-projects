{
 "cells": [
  {
   "cell_type": "code",
   "execution_count": 2,
   "id": "continuous-roulette",
   "metadata": {},
   "outputs": [],
   "source": [
    "# Importing recquired packages\n",
    "from selenium import webdriver\n",
    "from selenium.webdriver.common.keys import Keys\n",
    "import time\n",
    "import pandas as pd"
   ]
  },
  {
   "cell_type": "code",
   "execution_count": 3,
   "id": "median-cement",
   "metadata": {},
   "outputs": [],
   "source": [
    "# Locating the driver\n",
    "driver_location = \"/Users/camilleepitalon/chromedriver\"\n",
    "driver = webdriver.Chrome(driver_location)\n",
    "\n",
    "# Activating the driver on frimm landing page\n",
    "driver.get('https://papernest--staging.lightning.force.com/lightning/o/Lead/list?filterName=Recent')"
   ]
  },
  {
   "cell_type": "code",
   "execution_count": 7,
   "id": "organizational-france",
   "metadata": {},
   "outputs": [],
   "source": [
    "# Login on Salesforce\n",
    "email = 'florian.said@papernest.com.staging'\n",
    "password = 'E9H$$T3ati$AGkiG'\n",
    "\n",
    "driver.find_element_by_xpath(\"//input[@type='email']\").clear()\n",
    "driver.find_element_by_xpath(\"//input[@type='email']\").send_keys(email)\n",
    "driver.find_element_by_xpath(\"//input[@type='password']\").clear()\n",
    "driver.find_element_by_xpath(\"//input[@type='password']\").send_keys(password,Keys.ENTER)\n",
    "\n",
    "time.sleep(3)"
   ]
  },
  {
   "cell_type": "code",
   "execution_count": null,
   "id": "polished-extent",
   "metadata": {},
   "outputs": [],
   "source": [
    "# Starting to add a lead\n",
    "driver.find_element_by_xpath(\"//a[@title='Onglet Pistes']\").click()\n",
    "time.sleep(2)\n",
    "driver.find_element_by_xpath(\"//a[@title='Nouveau']]\").click()\n",
    "time.sleep(2)\n",
    "driver.find_element_by_xpath(\"//button[./span[text()='Suivant']]\").click()\n",
    "time.sleep(2)"
   ]
  },
  {
   "cell_type": "code",
   "execution_count": null,
   "id": "russian-nursery",
   "metadata": {},
   "outputs": [],
   "source": [
    "# Filling client_identification page\n",
    "first_name = 'test cam'\n",
    "last_name = 'test cam'\n",
    "phone_number = '0033674806360'\n",
    "driver.find_element_by_xpath(\"//input[@name='firstName']\").send_keys(fist_name)\n",
    "driver.find_element_by_xpath(\"//input[@name='lastName']\").send_keys(last_name)\n",
    "driver.find_element_by_xpath(\"//input[@name='Phone']\").send_keys(phone_number)\n",
    "driver.find_element_by_xpath(\"//input[@placeholder='Rechercher une adresse']\").send_keys(phone_number, Keys.ENTER)\n",
    "driver.find_element_by_xpath(\"//button[@name='SaveEdit']\").click()\n",
    "time.sleep(2)"
   ]
  },
  {
   "cell_type": "code",
   "execution_count": 51,
   "id": "laden-marketing",
   "metadata": {},
   "outputs": [],
   "source": [
    "# Opportunity type\n",
    "opportunity_type = \"France : Opportunité Energie\"\n",
    "driver.find_element_by_xpath(\"//select[@id='18259:0']\").click()\n",
    "driver.find_element_by_xpath(\"//select[@id='18259:0']\").send_keys(opportunity_type, Keys.ENTER)\n",
    "driver.find_element_by_xpath(\"//div[@data-aura-rendered-by='18321:0']/button[@title='Suivant']\").click()\n",
    "time.sleep(2)"
   ]
  },
  {
   "cell_type": "code",
   "execution_count": null,
   "id": "effective-claim",
   "metadata": {},
   "outputs": [],
   "source": [
    "# housing identification?\n",
    "moving_date = \"30 juin 2021\"\n",
    "driver.find_element_by_xpath(\"//input[@name='Moving_Date']\").send_keys(moving_date)\n",
    "driver.find_element_by_xpath(\"//label[@id='RADIO-LABEL-0-1154']/span[@class='slds-radio_faux']\").click()\n",
    "# Résidence principale\n",
    "driver.find_element_by_xpath(\"//label[@id='RADIO-LABEL-0-1155']/span[@class='slds-radio_faux']\").click()\n",
    "driver.find_element_by_xpath(\"//button[@title='Suivant']\").click()\n",
    "time.sleep(2)"
   ]
  },
  {
   "cell_type": "code",
   "execution_count": null,
   "id": "nuclear-mexican",
   "metadata": {},
   "outputs": [],
   "source": [
    "# ?\n",
    "surface = '30'\n",
    "nb_of_occupants = 2\n",
    "driver.find_element_by_xpath(\"//input[@name='Surface']\").send_keys(surface)\n",
    "driver.find_element_by_xpath(\"//input[@name='Number_of_occupants']\").send_keys(nb_of_occupants)\n",
    "\n",
    "driver.find_element_by_xpath(\"//button[@title='Suivant']\").click()\n",
    "time.sleep(2)"
   ]
  },
  {
   "cell_type": "code",
   "execution_count": null,
   "id": "configured-services",
   "metadata": {},
   "outputs": [],
   "source": [
    "# energy_contract_type\n",
    "\n",
    "# Typologie de contrat : Mise En Service\n",
    "driver.find_element_by_xpath(\"//label[@id='RADIO-LABEL-0-1194']/span[@class='slds-radio_faux']\").click()\n",
    "# Energie : Electricité\n",
    "driver.find_element_by_xpath(\"//label[@id='RADIO-LABEL-0-1196']/span[@class='slds-radio_faux']\").click()\n",
    "\n",
    "driver.find_element_by_xpath(\"//button[@title='Suivant']\").click()\n",
    "time.sleep(2)"
   ]
  },
  {
   "cell_type": "code",
   "execution_count": null,
   "id": "compliant-smith",
   "metadata": {},
   "outputs": [],
   "source": [
    "# energy_counter_identification\n",
    "\n",
    "pdl = '123456789012345678901234'\n",
    "driver.find_element_by_xpath(\"//input[@name='Previous_Occupant_0']\").send_keys(pdl)\n",
    "driver.find_element_by_xpath(\"//label[@id='RADIO-LABEL-0-1232']/span[@class='slds-radio_faux']\").click()\n",
    "\n",
    "driver.find_element_by_xpath(\"//button[@title='Suivant']\").click()\n",
    "time.sleep(2)"
   ]
  },
  {
   "cell_type": "code",
   "execution_count": null,
   "id": "micro-dover",
   "metadata": {},
   "outputs": [],
   "source": [
    "#energy_counter_option\n",
    "\n",
    "elec_power = '9'\n",
    "driver.find_element_by_xpath(\"//select[@id='4389:0']\").send_keys(elec_power, Keys.ENTER)\n",
    "\n",
    "driver.find_element_by_xpath(\"//button[@title='Suivant']\").click()\n",
    "time.sleep(2)"
   ]
  },
  {
   "cell_type": "code",
   "execution_count": null,
   "id": "duplicate-behavior",
   "metadata": {},
   "outputs": [],
   "source": [
    "# energy_consumption_informations\n",
    "\n",
    "driver.find_element_by_xpath(\"//label[@id='RADIO-LABEL-0-1253']/span[@class='slds-radio_faux']\").click()\n",
    "\n",
    "driver.find_element_by_xpath(\"//button[@title='Suivant']\").click()\n",
    "time.sleep(2)"
   ]
  },
  {
   "cell_type": "code",
   "execution_count": null,
   "id": "higher-inquiry",
   "metadata": {},
   "outputs": [],
   "source": [
    "# info logement\n",
    "\n",
    "# Mode de chauffage : Electrique\n",
    "driver.find_element_by_xpath(\"//label[@id='RADIO-LABEL-1-1265']/span[@class='slds-radio_faux']\").click()\n",
    "# Mode d'eau chaude : Chaudière individuelle à gaz de ville\n",
    "driver.find_element_by_xpath(\"//label[@id='RADIO-LABEL-0-1283']/span[@class='slds-radio_faux']\").click()\n",
    "# Mode de cuisson : Electrique\n",
    "driver.find_element_by_xpath(\"//label[@id='RADIO-LABEL-0-1267']/span[@class='slds-radio_faux']\").click()\n",
    "\n",
    "driver.find_element_by_xpath(\"//button[@title='Suivant']\").click()\n",
    "time.sleep(2)"
   ]
  },
  {
   "cell_type": "code",
   "execution_count": null,
   "id": "banned-custody",
   "metadata": {},
   "outputs": [],
   "source": [
    "driver.find_element_by_xpath(\"//button[@title='Suivant']\").click()\n",
    "time.sleep(2)"
   ]
  },
  {
   "cell_type": "code",
   "execution_count": null,
   "id": "cellular-worry",
   "metadata": {},
   "outputs": [],
   "source": [
    "# Posture commerciale : Marquer Étape comme terminée\n",
    "driver.find_element_by_xpath(\"//button[.//span[text()='Marquer Étape comme terminé(e)']]\").click()\n"
   ]
  }
 ],
 "metadata": {
  "kernelspec": {
   "display_name": "Python 3",
   "language": "python",
   "name": "python3"
  },
  "language_info": {
   "codemirror_mode": {
    "name": "ipython",
    "version": 3
   },
   "file_extension": ".py",
   "mimetype": "text/x-python",
   "name": "python",
   "nbconvert_exporter": "python",
   "pygments_lexer": "ipython3",
   "version": "3.9.1"
  }
 },
 "nbformat": 4,
 "nbformat_minor": 5
}
