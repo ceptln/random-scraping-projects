{
 "cells": [
  {
   "cell_type": "code",
   "execution_count": 2,
   "id": "continuous-roulette",
   "metadata": {},
   "outputs": [],
   "source": [
    "# Importing recquired packages\n",
    "from selenium import webdriver\n",
    "from selenium.webdriver.common.keys import Keys\n",
    "import time\n",
    "import pandas as pd"
   ]
  },
  {
   "cell_type": "code",
   "execution_count": 3,
   "id": "median-cement",
   "metadata": {},
   "outputs": [],
   "source": [
    "# Locating the driver\n",
    "driver_location = \"/Users/camilleepitalon/chromedriver\"\n",
    "driver = webdriver.Chrome(driver_location)\n",
    "\n",
    "# Activating the driver on frimm landing page\n",
    "driver.get('https://www.trustpilot.com/review/papernest.es')\n",
    "time.sleep(3)\n",
    "\n",
    "# Closing the cookies pop-up banner\n",
    "driver.find_element_by_xpath(\"//button[text()='I accept']\").click()"
   ]
  },
  {
   "cell_type": "code",
   "execution_count": 5,
   "id": "canadian-place",
   "metadata": {},
   "outputs": [
    {
     "name": "stdout",
     "output_type": "stream",
     "text": [
      "                       Date Location            Reviewer               Score  \\\n",
      "0  2021-03-26T11:35:45.000Z       GB     Phillippe Dewes  5 stars: Excellent   \n",
      "1  2021-02-24T09:01:24.000Z       ES  Zeeshan zeeghumman      4 stars: Great   \n",
      "2  2021-02-05T08:21:22.000Z       ES  Mariano Bordas Mon  5 stars: Excellent   \n",
      "3  2020-11-12T09:11:33.000Z       ES             Joaquin  5 stars: Excellent   \n",
      "4  2020-03-30T12:14:42.000Z       ES       Aina Palacios  5 stars: Excellent   \n",
      "5  2020-02-12T10:45:17.000Z       ES       Carlos Moreno  5 stars: Excellent   \n",
      "\n",
      "                                      Title  \\\n",
      "0  Great Customer Service and very helpful…   \n",
      "1                    Your service excellent   \n",
      "2                     Personal and eficient   \n",
      "3      LA ATENCION DEL SR.JERONIMO HA SIDO…   \n",
      "4                               Recommended   \n",
      "5                      Philippe was amazing   \n",
      "\n",
      "                                              Review  \n",
      "0  Great Customer Service and very helpful especi...  \n",
      "1                                                  -  \n",
      "2  Today you need personal advise to find the bes...  \n",
      "3  LA ATENCION DEL SR.JERONIMO HA SIDO EXQUISITA ...  \n",
      "4                                                  -  \n",
      "5  Philippe was amazing! One of the most spectacu...  \n"
     ]
    }
   ],
   "source": [
    "# Creating lists to store scraped data\n",
    "name_list = []\n",
    "date_list = []\n",
    "location_list = []\n",
    "rate_list = []\n",
    "title_list = []\n",
    "review_list = []\n",
    "\n",
    "# Scraping reviewers' name\n",
    "name_elements = driver.find_elements_by_xpath('//div[@class=\"consumer-information__name\"]')\n",
    "for name in name_elements:\n",
    "    name_list.append(name.text)\n",
    "\n",
    "# Scraping date of review\n",
    "date_elements = driver.find_elements_by_xpath('//time')\n",
    "for date in date_elements:\n",
    "    date_list.append(date.get_attribute('datetime'))\n",
    "    \n",
    "# Scraping reviewers' location\n",
    "location_elements = driver.find_elements_by_xpath('//div[@class=\"consumer-information__location\"]/span')\n",
    "for loc in location_elements:\n",
    "    location_list.append(loc.text)\n",
    "\n",
    "# Scraping rate/score\n",
    "rate_elements = driver.find_elements_by_xpath('//div[@class=\"star-rating star-rating--medium\"]/img')\n",
    "for rate in rate_elements:\n",
    "    rate_list.append(rate.get_attribute('alt'))\n",
    "\n",
    "# Scraping the review itself\n",
    "content_elements = driver.find_elements_by_xpath(\"//div[@class='review-content__body']\")\n",
    "for content in content_elements:\n",
    "    text = content.text\n",
    "    split_text = text.split('\\n')\n",
    "    if len(split_text)<2 :\n",
    "        title = split_text[0]\n",
    "        review = '-'\n",
    "    else :\n",
    "        title = split_text[0]\n",
    "        review = ''.join(split_text[1:]) \n",
    "    title_list.append(title)\n",
    "    review_list.append(review)\n",
    "\n",
    "# Merging the results in a dictionary\n",
    "dict = {'Date' : date_list, 'Location' : location_list, 'Reviewer': name_list, 'Score': rate_list, 'Title': title_list, 'Review' : review_list}\n",
    "\n",
    "# Turning the dictionary into a dataframe\n",
    "df = pd.DataFrame(dict)\n",
    "\n",
    "# Printing the dataframe\n",
    "print(df)"
   ]
  },
  {
   "cell_type": "code",
   "execution_count": 87,
   "id": "laden-marketing",
   "metadata": {},
   "outputs": [],
   "source": [
    "# Exporting the dataframe to a CSV file\n",
    "df.to_csv(r'/Users/camilleepitalon/Python/Scraping_Trustpilot/output_2.csv', index = False)"
   ]
  }
 ],
 "metadata": {
  "kernelspec": {
   "display_name": "Python 3",
   "language": "python",
   "name": "python3"
  },
  "language_info": {
   "codemirror_mode": {
    "name": "ipython",
    "version": 3
   },
   "file_extension": ".py",
   "mimetype": "text/x-python",
   "name": "python",
   "nbconvert_exporter": "python",
   "pygments_lexer": "ipython3",
   "version": "3.9.1"
  }
 },
 "nbformat": 4,
 "nbformat_minor": 5
}
