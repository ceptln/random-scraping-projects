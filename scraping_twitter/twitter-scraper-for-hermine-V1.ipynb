{
 "cells": [
  {
   "cell_type": "code",
   "execution_count": 1,
   "metadata": {},
   "outputs": [],
   "source": [
    "# Import recquired packages\n",
    "from selenium import webdriver\n",
    "from selenium.webdriver.common.keys import Keys\n",
    "import time\n",
    "import pandas as pd"
   ]
  },
  {
   "cell_type": "code",
   "execution_count": 2,
   "metadata": {},
   "outputs": [],
   "source": [
    "# Locate the driver\n",
    "# You need to download it first: https://chromedriver.chromium.org/downloads\n",
    "driver_location = \"/Users/macbook16decamille/chromedriver\"\n",
    "driver = webdriver.Chrome(driver_location)\n",
    "\n",
    "# Activate the driver on filtered twitter research page\n",
    "# To find the url you want enter your parameters there (https://twitter.com/search-advanced?lang=en) and press OK\n",
    "driver.get('https://twitter.com/search?lang=en&q=(%23pregnancy)%20until%3A2021-09-29%20since%3A2021-09-01&src=typed_query')\n",
    "time.sleep(2)\n",
    "\n",
    "# Create the empty dataframe\n",
    "df = pd.DataFrame(columns=['name', 'pseudo', 'date', 'tweet', 'interaction'])"
   ]
  },
  {
   "cell_type": "code",
   "execution_count": 4,
   "metadata": {},
   "outputs": [
    {
     "name": "stdout",
     "output_type": "stream",
     "text": [
      "                                 name            pseudo    date  \\\n",
      "0                            Pregakem         @pregakem  Sep 23   \n",
      "1                      Michele Lapini    @MicheleLapini  Sep 26   \n",
      "2                       Angela Taylor   @retrowedding68  Sep 26   \n",
      "3                        Zenny's Club        @ClubZenny  Sep 23   \n",
      "4                   Savana Signatures          @savsign  Sep 24   \n",
      "..                                ...               ...     ...   \n",
      "730               Victor Cruz Urrutia      @vcurrutiaMD  Sep 23   \n",
      "731  Harper the Fox Top 1.2% OnlyFans     @HarperTheFox  Sep 21   \n",
      "732             Chloé Johnson Bartles   @JohnsonBartles  Sep 27   \n",
      "733          Fetal Care Center Dallas  @FetalCareDallas  Sep 27   \n",
      "734            The Child Therapy List   @Childthrpy_dir  Sep 24   \n",
      "\n",
      "                                                 tweet interaction  \n",
      "0    Constipation in infants is common but can be a...         146  \n",
      "1    In #SanMarino, the 'Yes' (77,30%) vote to #dec...          30  \n",
      "2    The #FTA addresses the fact that even as late ...         137  \n",
      "3    Remember to not get impregnated when attemptin...         189  \n",
      "4    Role-playing has been an effective tool to fos...          17  \n",
      "..                                                 ...         ...  \n",
      "730  Large study on an important topic! Congrats  |...          18  \n",
      "731  New #pregnancy video pack to debut on http://O...          30  \n",
      "732  8 Months Mark..... | Mixed emotions, very exha...           1  \n",
      "733  The CDC has released guidelines recommending t...           5  \n",
      "734  We’re in the midst of a COVID baby boom which ...           4  \n",
      "\n",
      "[735 rows x 5 columns]\n"
     ]
    }
   ],
   "source": [
    "for j in range(0,50):\n",
    "    \n",
    "    # Scroll manually the results page (otherwise only scraps 8-10 results - ça clc)\n",
    "    driver.execute_script(\"window.scrollTo(0,\"+str(2000*j)+\")\")\n",
    "    time.sleep(3)\n",
    "    \n",
    "    # Create a list with the different Selenium objects (= tweets) that we'll parse\n",
    "    all_tweets = driver.find_elements_by_xpath(\"//div[@aria-label='Timeline: Search timeline']/div/div\")\n",
    "    \n",
    "    # Loop over each element to parse it\n",
    "    for tweet in all_tweets :\n",
    "        \n",
    "        # Condition to avoid shit elements which are not tweets (\"See more\", blabla)\n",
    "        if len(tweet.text) > 10 : \n",
    "            \n",
    "            # Create an empty list which we'll append to df (adding 1 more row)\n",
    "            tweet_row = []\n",
    "            \n",
    "            # Split the text we get to separate main elements (name, pseudo, blabla)\n",
    "            split_list = tweet.text.splitlines()\n",
    "            \n",
    "            name = split_list[0]\n",
    "            tweet_row.append(name)\n",
    "            \n",
    "            pseudo = split_list[1]\n",
    "            tweet_row.append(pseudo)\n",
    "            \n",
    "            date = split_list[3]\n",
    "            tweet_row.append(date)\n",
    "            \n",
    "            content = \" | \".join([i for i in split_list[4:] if len(i)>6])\n",
    "            tweet_row.append(content)\n",
    "            \n",
    "            tweet_row.append(str(sum([int(i) for i in split_list[-3:] if i > \"0\" and i < '99999999' and len(i)<6]+ [0])))\n",
    "            \n",
    "            # Exclude the tweet badly scraped (no content for instance)\n",
    "            if len(tweet_row)==5 : \n",
    "                \n",
    "                # Appending the new tweet to the dataframe df\n",
    "                df.loc[len(df)]=tweet_row\n",
    "\n",
    "# Remove the duplicates (as the scrolling tips I used is not really precise)\n",
    "df.drop_duplicates()\n",
    "\n",
    "print(df)"
   ]
  },
  {
   "cell_type": "code",
   "execution_count": 5,
   "metadata": {},
   "outputs": [],
   "source": [
    "# Extracti the data to a CSV file\n",
    "df.to_csv(r\"/Users/macbook16decamille/Desktop/pregnancy.csv\", index = False)"
   ]
  }
 ],
 "metadata": {
  "kernelspec": {
   "display_name": "Python 3",
   "language": "python",
   "name": "python3"
  },
  "language_info": {
   "codemirror_mode": {
    "name": "ipython",
    "version": 3
   },
   "file_extension": ".py",
   "mimetype": "text/x-python",
   "name": "python",
   "nbconvert_exporter": "python",
   "pygments_lexer": "ipython3",
   "version": "3.8.3"
  }
 },
 "nbformat": 4,
 "nbformat_minor": 4
}
