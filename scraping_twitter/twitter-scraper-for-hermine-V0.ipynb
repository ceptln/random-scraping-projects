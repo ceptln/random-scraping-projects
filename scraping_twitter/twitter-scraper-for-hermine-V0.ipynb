{
 "cells": [
  {
   "cell_type": "code",
   "execution_count": 302,
   "metadata": {},
   "outputs": [],
   "source": [
    "# Importing recquired packages\n",
    "from selenium import webdriver\n",
    "from selenium.webdriver.common.keys import Keys\n",
    "import time\n",
    "import pandas as pd"
   ]
  },
  {
   "cell_type": "code",
   "execution_count": 245,
   "metadata": {},
   "outputs": [],
   "source": [
    "# Locating the driver\n",
    "driver_location = \"/Users/macbook16decamille/chromedriver\"\n",
    "driver = webdriver.Chrome(driver_location)\n",
    "\n",
    "# Activating the driver on filtered twitter research page\n",
    "driver.get('https://twitter.com/search?lang=en&q=(%23pregnancy)%20until%3A2021-09-29%20since%3A2021-09-01&src=typed_query')\n",
    "time.sleep(2)"
   ]
  },
  {
   "cell_type": "code",
   "execution_count": 237,
   "metadata": {},
   "outputs": [],
   "source": [
    "# Scrolling down to get all results\n",
    "driver.execute_script(\"window.scrollTo(0, 2000)\")"
   ]
  },
  {
   "cell_type": "code",
   "execution_count": 225,
   "metadata": {},
   "outputs": [],
   "source": [
    "all_tweets = driver.find_elements_by_xpath(\"//div[@aria-label='Timeline: Search timeline']/div/div\")"
   ]
  },
  {
   "cell_type": "code",
   "execution_count": 226,
   "metadata": {},
   "outputs": [
    {
     "data": {
      "text/plain": [
       "10"
      ]
     },
     "execution_count": 226,
     "metadata": {},
     "output_type": "execute_result"
    }
   ],
   "source": [
    "#print(html[1].find_element_by_xpath(\"//article[@role='article']//span[contains(text(),'@')]\").text)\n",
    "len(all_tweets)"
   ]
  },
  {
   "cell_type": "code",
   "execution_count": 303,
   "metadata": {},
   "outputs": [],
   "source": [
    "# Locating the driver\n",
    "driver_location = \"/Users/macbook16decamille/chromedriver\"\n",
    "driver = webdriver.Chrome(driver_location)\n",
    "\n",
    "# Activating the driver on filtered twitter research page\n",
    "driver.get('https://twitter.com/search?lang=en&q=(%23pregnancy)%20until%3A2021-09-29%20since%3A2021-09-01&src=typed_query')\n",
    "time.sleep(2)\n",
    "\n",
    "\n",
    "df = pd.DataFrame(columns=['name', 'pseudo', 'date', 'tweet', 'interaction'])"
   ]
  },
  {
   "cell_type": "code",
   "execution_count": 255,
   "metadata": {},
   "outputs": [
    {
     "ename": "TypeError",
     "evalue": "join() takes exactly one argument (3 given)",
     "output_type": "error",
     "traceback": [
      "\u001b[0;31m---------------------------------------------------------------------------\u001b[0m",
      "\u001b[0;31mTypeError\u001b[0m                                 Traceback (most recent call last)",
      "\u001b[0;32m<ipython-input-255-55be1719492b>\u001b[0m in \u001b[0;36m<module>\u001b[0;34m\u001b[0m\n\u001b[0;32m----> 1\u001b[0;31m \u001b[0;34m''\u001b[0m\u001b[0;34m.\u001b[0m\u001b[0mjoin\u001b[0m\u001b[0;34m(\u001b[0m\u001b[0;34m\"window.scrollTo(0,\"\u001b[0m\u001b[0;34m,\u001b[0m\u001b[0mstr\u001b[0m\u001b[0;34m(\u001b[0m\u001b[0;36m2000\u001b[0m\u001b[0;34m)\u001b[0m\u001b[0;34m,\u001b[0m\u001b[0;34m\")\"\u001b[0m\u001b[0;34m)\u001b[0m\u001b[0;34m\u001b[0m\u001b[0;34m\u001b[0m\u001b[0m\n\u001b[0m",
      "\u001b[0;31mTypeError\u001b[0m: join() takes exactly one argument (3 given)"
     ]
    }
   ],
   "source": []
  },
  {
   "cell_type": "code",
   "execution_count": 313,
   "metadata": {},
   "outputs": [
    {
     "name": "stdout",
     "output_type": "stream",
     "text": [
      "['Sonia Rosua-Clyne McKie', '@soniarosuaclyne', 'Sep 28', 'The more I read this weekly #pregnancy app memo, the angrier I get. Women being reminded to make themselves desirable in wk26 and partners being reminded to take  control of the house finances. Welcome to 1955.', '1']\n",
      "['Avis Favaro', '@CTV_AvisFavaro', 'Sep 22', 'Listening in to #ACIP meeting on booster shots in the US with this striking chart on #pregnancy and Covid - they are seeing the highest rate of death in this recent wave and the vast majority in #unvaccinated pregnant women.', '9']\n",
      "['Fionnuala McAuliffe NMH & UCD', '@ProfFMcAuliffe', 'Sep 21', 'Evidence of passive immunity from Mum to baby with covid in #pregnancy  | @donalb5 |  @UCDMedicine |  @ucddublin |  @DrShaneHiggins8 |  @RogerMcMorrow |  @_TheNMH |  @RotundaHospital | All Source Pregnancy | @PregnancyAll |  · Sep 21 | Immunological assessment of SARS-CoV-2 infection in pregnancy from diagnosis to delivery: A multicentre prospective study: @ProfFMcAuliffe @drjendonnelly @drscorcoran @PLOSONE #COVID19 #pregnancy | https://journals.plos.org/plosone/article?id=10.1371/journal.pone.0253090…', '46']\n",
      "['MCHP', '@ManHealthPsych', 'Sep 24', 'Third workshop in our  | @divhealthpsych |  funded seminar series on #pregnancy as a #teachablemoment. Focus today on partners  | @DebbieMSmith1 |  @sjkp121 |  @AbigailLocke |  @LaurenRockliffe', '11']\n",
      "['Centre for Reproductive Research & Communication', '@CRRC_BPAS', 'Sep 23', \"Our WRISK Project is drawing to a close. We learnt a lot about respectful risk communication and pregnancy by speaking with over 7,000 women. | We've shared what we found in our new film  | #pregnancy #publichealth #risk | The WRISK Project | Women who are planning a pregnancy or who are pregnant receive many public health messages that are intended to guide their decision making. For example, the... | youtube.com\", '30']\n",
      "['Leanne M. Redman, PhD', '@DrLeanneRedman', 'Sep 23', 'I’m locking arms with  | @CTurlington | @everymomcounts |  to amplify the desperate need for extending prenatal care to 12-months postpartum! #maternalhealth #maternalmortality #pregnancy #postpartum | Every Mother Counts | @everymomcounts |  · Sep 20 | We are calling on Congress to address  the US #maternalmortality crisis and improve maternal health by making 12-month postpartum #Medicaid coverage mandatory and investing in #Momnibus programs that center Black birthing people. #MomsCantWait | https://acog.org/-/media/project/acog/acogorg/files/advocacy/letters/2021/09/build-back-better-maternal-health-stakeholders-letter.pdf…', '28']\n",
      "['JackieGillies', '@JackieGilliesTV', 'Sep 22', 'A little #BTS fun shoot for  | @foxtel |  magazine .  | Always fun shooting with my girls  | @gamble_breaux |  @janetroachhw |   #alwayslaughing  | #rhomelbourne #SEASON5 #pregnancy #twins #jackiegillies @bridgetbellstylist  | @rhomelbourne |  @arenatv', '85']\n",
      "['Fungai Murau', '@JorjaPublishing', 'Sep 22', 'We had a wonderful workshop today discussing The Pregnancy journey while living with HIV. Was honoured to have facilitated this with my super co-facilitator. We look forward to tomorrow when we host the second part of the workshop  | @4Mproject |  #hiv #pregnancy #babies #education', '12']\n",
      "['ESWI', '@ESWInfluenza', 'Sep 24', 'First #ESWI webinar: Risks groups should be vaccinated against #flu and #Covid, including women planning #pregnancy; 4 #covidvaccines have shown proof of efficacy and safety data; and #Equitablevaccine, no one is safe until everyone is safe #COVAX   | https://player.vimeo.com/video/613339407', '6']\n",
      "['Dr. Fatu Forna', '@DrFatuForna', 'Sep 26', 'Black women are 3-4X more likely to die during & after pregnancy than white women in the US. #MaternalDeaths are preventable! I will be sharing 10 things every black woman should do to have a safe #pregnancy over the next few days. Tag or share with a #BlackWoman you love. #1/10', '8']\n",
      "['Thanh Neville, MD, MSHS', '@thanh_neville', 'Sep 22', '#Pregnancy is a really scary time to get #COVID19. \"I was ok until I wasn\\'t...I thought I was going to die\". #GetVaccinated #UCLAHealth #ECMO  | @NidaQadirMD |  @ChrisHanMFM |  Expectant mother, on life support at #UCLAMedicalCenter. | Expectant mother, on life support at UCLA Medical Center, survives COVID with her pregnancy intact | A pregnant Seal Beach woman survived a harrowing COVID infection after UCLA doctors took extraordinary measures to save her life and the life of her unborn baby. | abc7.com', '75']\n"
     ]
    },
    {
     "ename": "MaxRetryError",
     "evalue": "HTTPConnectionPool(host='127.0.0.1', port=59628): Max retries exceeded with url: /session/8cc4d89a0850955a964112f2790d20fd/elements (Caused by NewConnectionError('<urllib3.connection.HTTPConnection object at 0x7fe4c0281e80>: Failed to establish a new connection: [Errno 61] Connection refused'))",
     "output_type": "error",
     "traceback": [
      "\u001b[0;31m---------------------------------------------------------------------------\u001b[0m",
      "\u001b[0;31mConnectionRefusedError\u001b[0m                    Traceback (most recent call last)",
      "\u001b[0;32m/opt/anaconda3/lib/python3.8/site-packages/urllib3/connection.py\u001b[0m in \u001b[0;36m_new_conn\u001b[0;34m(self)\u001b[0m\n\u001b[1;32m    158\u001b[0m         \u001b[0;32mtry\u001b[0m\u001b[0;34m:\u001b[0m\u001b[0;34m\u001b[0m\u001b[0;34m\u001b[0m\u001b[0m\n\u001b[0;32m--> 159\u001b[0;31m             conn = connection.create_connection(\n\u001b[0m\u001b[1;32m    160\u001b[0m                 \u001b[0;34m(\u001b[0m\u001b[0mself\u001b[0m\u001b[0;34m.\u001b[0m\u001b[0m_dns_host\u001b[0m\u001b[0;34m,\u001b[0m \u001b[0mself\u001b[0m\u001b[0;34m.\u001b[0m\u001b[0mport\u001b[0m\u001b[0;34m)\u001b[0m\u001b[0;34m,\u001b[0m \u001b[0mself\u001b[0m\u001b[0;34m.\u001b[0m\u001b[0mtimeout\u001b[0m\u001b[0;34m,\u001b[0m \u001b[0;34m**\u001b[0m\u001b[0mextra_kw\u001b[0m\u001b[0;34m\u001b[0m\u001b[0;34m\u001b[0m\u001b[0m\n",
      "\u001b[0;32m/opt/anaconda3/lib/python3.8/site-packages/urllib3/util/connection.py\u001b[0m in \u001b[0;36mcreate_connection\u001b[0;34m(address, timeout, source_address, socket_options)\u001b[0m\n\u001b[1;32m     83\u001b[0m     \u001b[0;32mif\u001b[0m \u001b[0merr\u001b[0m \u001b[0;32mis\u001b[0m \u001b[0;32mnot\u001b[0m \u001b[0;32mNone\u001b[0m\u001b[0;34m:\u001b[0m\u001b[0;34m\u001b[0m\u001b[0;34m\u001b[0m\u001b[0m\n\u001b[0;32m---> 84\u001b[0;31m         \u001b[0;32mraise\u001b[0m \u001b[0merr\u001b[0m\u001b[0;34m\u001b[0m\u001b[0;34m\u001b[0m\u001b[0m\n\u001b[0m\u001b[1;32m     85\u001b[0m \u001b[0;34m\u001b[0m\u001b[0m\n",
      "\u001b[0;32m/opt/anaconda3/lib/python3.8/site-packages/urllib3/util/connection.py\u001b[0m in \u001b[0;36mcreate_connection\u001b[0;34m(address, timeout, source_address, socket_options)\u001b[0m\n\u001b[1;32m     73\u001b[0m                 \u001b[0msock\u001b[0m\u001b[0;34m.\u001b[0m\u001b[0mbind\u001b[0m\u001b[0;34m(\u001b[0m\u001b[0msource_address\u001b[0m\u001b[0;34m)\u001b[0m\u001b[0;34m\u001b[0m\u001b[0;34m\u001b[0m\u001b[0m\n\u001b[0;32m---> 74\u001b[0;31m             \u001b[0msock\u001b[0m\u001b[0;34m.\u001b[0m\u001b[0mconnect\u001b[0m\u001b[0;34m(\u001b[0m\u001b[0msa\u001b[0m\u001b[0;34m)\u001b[0m\u001b[0;34m\u001b[0m\u001b[0;34m\u001b[0m\u001b[0m\n\u001b[0m\u001b[1;32m     75\u001b[0m             \u001b[0;32mreturn\u001b[0m \u001b[0msock\u001b[0m\u001b[0;34m\u001b[0m\u001b[0;34m\u001b[0m\u001b[0m\n",
      "\u001b[0;31mConnectionRefusedError\u001b[0m: [Errno 61] Connection refused",
      "\nDuring handling of the above exception, another exception occurred:\n",
      "\u001b[0;31mNewConnectionError\u001b[0m                        Traceback (most recent call last)",
      "\u001b[0;32m/opt/anaconda3/lib/python3.8/site-packages/urllib3/connectionpool.py\u001b[0m in \u001b[0;36murlopen\u001b[0;34m(self, method, url, body, headers, retries, redirect, assert_same_host, timeout, pool_timeout, release_conn, chunked, body_pos, **response_kw)\u001b[0m\n\u001b[1;32m    669\u001b[0m             \u001b[0;31m# Make the request on the httplib connection object.\u001b[0m\u001b[0;34m\u001b[0m\u001b[0;34m\u001b[0m\u001b[0;34m\u001b[0m\u001b[0m\n\u001b[0;32m--> 670\u001b[0;31m             httplib_response = self._make_request(\n\u001b[0m\u001b[1;32m    671\u001b[0m                 \u001b[0mconn\u001b[0m\u001b[0;34m,\u001b[0m\u001b[0;34m\u001b[0m\u001b[0;34m\u001b[0m\u001b[0m\n",
      "\u001b[0;32m/opt/anaconda3/lib/python3.8/site-packages/urllib3/connectionpool.py\u001b[0m in \u001b[0;36m_make_request\u001b[0;34m(self, conn, method, url, timeout, chunked, **httplib_request_kw)\u001b[0m\n\u001b[1;32m    391\u001b[0m         \u001b[0;32melse\u001b[0m\u001b[0;34m:\u001b[0m\u001b[0;34m\u001b[0m\u001b[0;34m\u001b[0m\u001b[0m\n\u001b[0;32m--> 392\u001b[0;31m             \u001b[0mconn\u001b[0m\u001b[0;34m.\u001b[0m\u001b[0mrequest\u001b[0m\u001b[0;34m(\u001b[0m\u001b[0mmethod\u001b[0m\u001b[0;34m,\u001b[0m \u001b[0murl\u001b[0m\u001b[0;34m,\u001b[0m \u001b[0;34m**\u001b[0m\u001b[0mhttplib_request_kw\u001b[0m\u001b[0;34m)\u001b[0m\u001b[0;34m\u001b[0m\u001b[0;34m\u001b[0m\u001b[0m\n\u001b[0m\u001b[1;32m    393\u001b[0m \u001b[0;34m\u001b[0m\u001b[0m\n",
      "\u001b[0;32m/opt/anaconda3/lib/python3.8/http/client.py\u001b[0m in \u001b[0;36mrequest\u001b[0;34m(self, method, url, body, headers, encode_chunked)\u001b[0m\n\u001b[1;32m   1239\u001b[0m         \u001b[0;34m\"\"\"Send a complete request to the server.\"\"\"\u001b[0m\u001b[0;34m\u001b[0m\u001b[0;34m\u001b[0m\u001b[0m\n\u001b[0;32m-> 1240\u001b[0;31m         \u001b[0mself\u001b[0m\u001b[0;34m.\u001b[0m\u001b[0m_send_request\u001b[0m\u001b[0;34m(\u001b[0m\u001b[0mmethod\u001b[0m\u001b[0;34m,\u001b[0m \u001b[0murl\u001b[0m\u001b[0;34m,\u001b[0m \u001b[0mbody\u001b[0m\u001b[0;34m,\u001b[0m \u001b[0mheaders\u001b[0m\u001b[0;34m,\u001b[0m \u001b[0mencode_chunked\u001b[0m\u001b[0;34m)\u001b[0m\u001b[0;34m\u001b[0m\u001b[0;34m\u001b[0m\u001b[0m\n\u001b[0m\u001b[1;32m   1241\u001b[0m \u001b[0;34m\u001b[0m\u001b[0m\n",
      "\u001b[0;32m/opt/anaconda3/lib/python3.8/http/client.py\u001b[0m in \u001b[0;36m_send_request\u001b[0;34m(self, method, url, body, headers, encode_chunked)\u001b[0m\n\u001b[1;32m   1285\u001b[0m             \u001b[0mbody\u001b[0m \u001b[0;34m=\u001b[0m \u001b[0m_encode\u001b[0m\u001b[0;34m(\u001b[0m\u001b[0mbody\u001b[0m\u001b[0;34m,\u001b[0m \u001b[0;34m'body'\u001b[0m\u001b[0;34m)\u001b[0m\u001b[0;34m\u001b[0m\u001b[0;34m\u001b[0m\u001b[0m\n\u001b[0;32m-> 1286\u001b[0;31m         \u001b[0mself\u001b[0m\u001b[0;34m.\u001b[0m\u001b[0mendheaders\u001b[0m\u001b[0;34m(\u001b[0m\u001b[0mbody\u001b[0m\u001b[0;34m,\u001b[0m \u001b[0mencode_chunked\u001b[0m\u001b[0;34m=\u001b[0m\u001b[0mencode_chunked\u001b[0m\u001b[0;34m)\u001b[0m\u001b[0;34m\u001b[0m\u001b[0;34m\u001b[0m\u001b[0m\n\u001b[0m\u001b[1;32m   1287\u001b[0m \u001b[0;34m\u001b[0m\u001b[0m\n",
      "\u001b[0;32m/opt/anaconda3/lib/python3.8/http/client.py\u001b[0m in \u001b[0;36mendheaders\u001b[0;34m(self, message_body, encode_chunked)\u001b[0m\n\u001b[1;32m   1234\u001b[0m             \u001b[0;32mraise\u001b[0m \u001b[0mCannotSendHeader\u001b[0m\u001b[0;34m(\u001b[0m\u001b[0;34m)\u001b[0m\u001b[0;34m\u001b[0m\u001b[0;34m\u001b[0m\u001b[0m\n\u001b[0;32m-> 1235\u001b[0;31m         \u001b[0mself\u001b[0m\u001b[0;34m.\u001b[0m\u001b[0m_send_output\u001b[0m\u001b[0;34m(\u001b[0m\u001b[0mmessage_body\u001b[0m\u001b[0;34m,\u001b[0m \u001b[0mencode_chunked\u001b[0m\u001b[0;34m=\u001b[0m\u001b[0mencode_chunked\u001b[0m\u001b[0;34m)\u001b[0m\u001b[0;34m\u001b[0m\u001b[0;34m\u001b[0m\u001b[0m\n\u001b[0m\u001b[1;32m   1236\u001b[0m \u001b[0;34m\u001b[0m\u001b[0m\n",
      "\u001b[0;32m/opt/anaconda3/lib/python3.8/http/client.py\u001b[0m in \u001b[0;36m_send_output\u001b[0;34m(self, message_body, encode_chunked)\u001b[0m\n\u001b[1;32m   1005\u001b[0m         \u001b[0;32mdel\u001b[0m \u001b[0mself\u001b[0m\u001b[0;34m.\u001b[0m\u001b[0m_buffer\u001b[0m\u001b[0;34m[\u001b[0m\u001b[0;34m:\u001b[0m\u001b[0;34m]\u001b[0m\u001b[0;34m\u001b[0m\u001b[0;34m\u001b[0m\u001b[0m\n\u001b[0;32m-> 1006\u001b[0;31m         \u001b[0mself\u001b[0m\u001b[0;34m.\u001b[0m\u001b[0msend\u001b[0m\u001b[0;34m(\u001b[0m\u001b[0mmsg\u001b[0m\u001b[0;34m)\u001b[0m\u001b[0;34m\u001b[0m\u001b[0;34m\u001b[0m\u001b[0m\n\u001b[0m\u001b[1;32m   1007\u001b[0m \u001b[0;34m\u001b[0m\u001b[0m\n",
      "\u001b[0;32m/opt/anaconda3/lib/python3.8/http/client.py\u001b[0m in \u001b[0;36msend\u001b[0;34m(self, data)\u001b[0m\n\u001b[1;32m    945\u001b[0m             \u001b[0;32mif\u001b[0m \u001b[0mself\u001b[0m\u001b[0;34m.\u001b[0m\u001b[0mauto_open\u001b[0m\u001b[0;34m:\u001b[0m\u001b[0;34m\u001b[0m\u001b[0;34m\u001b[0m\u001b[0m\n\u001b[0;32m--> 946\u001b[0;31m                 \u001b[0mself\u001b[0m\u001b[0;34m.\u001b[0m\u001b[0mconnect\u001b[0m\u001b[0;34m(\u001b[0m\u001b[0;34m)\u001b[0m\u001b[0;34m\u001b[0m\u001b[0;34m\u001b[0m\u001b[0m\n\u001b[0m\u001b[1;32m    947\u001b[0m             \u001b[0;32melse\u001b[0m\u001b[0;34m:\u001b[0m\u001b[0;34m\u001b[0m\u001b[0;34m\u001b[0m\u001b[0m\n",
      "\u001b[0;32m/opt/anaconda3/lib/python3.8/site-packages/urllib3/connection.py\u001b[0m in \u001b[0;36mconnect\u001b[0;34m(self)\u001b[0m\n\u001b[1;32m    186\u001b[0m     \u001b[0;32mdef\u001b[0m \u001b[0mconnect\u001b[0m\u001b[0;34m(\u001b[0m\u001b[0mself\u001b[0m\u001b[0;34m)\u001b[0m\u001b[0;34m:\u001b[0m\u001b[0;34m\u001b[0m\u001b[0;34m\u001b[0m\u001b[0m\n\u001b[0;32m--> 187\u001b[0;31m         \u001b[0mconn\u001b[0m \u001b[0;34m=\u001b[0m \u001b[0mself\u001b[0m\u001b[0;34m.\u001b[0m\u001b[0m_new_conn\u001b[0m\u001b[0;34m(\u001b[0m\u001b[0;34m)\u001b[0m\u001b[0;34m\u001b[0m\u001b[0;34m\u001b[0m\u001b[0m\n\u001b[0m\u001b[1;32m    188\u001b[0m         \u001b[0mself\u001b[0m\u001b[0;34m.\u001b[0m\u001b[0m_prepare_conn\u001b[0m\u001b[0;34m(\u001b[0m\u001b[0mconn\u001b[0m\u001b[0;34m)\u001b[0m\u001b[0;34m\u001b[0m\u001b[0;34m\u001b[0m\u001b[0m\n",
      "\u001b[0;32m/opt/anaconda3/lib/python3.8/site-packages/urllib3/connection.py\u001b[0m in \u001b[0;36m_new_conn\u001b[0;34m(self)\u001b[0m\n\u001b[1;32m    170\u001b[0m         \u001b[0;32mexcept\u001b[0m \u001b[0mSocketError\u001b[0m \u001b[0;32mas\u001b[0m \u001b[0me\u001b[0m\u001b[0;34m:\u001b[0m\u001b[0;34m\u001b[0m\u001b[0;34m\u001b[0m\u001b[0m\n\u001b[0;32m--> 171\u001b[0;31m             raise NewConnectionError(\n\u001b[0m\u001b[1;32m    172\u001b[0m                 \u001b[0mself\u001b[0m\u001b[0;34m,\u001b[0m \u001b[0;34m\"Failed to establish a new connection: %s\"\u001b[0m \u001b[0;34m%\u001b[0m \u001b[0me\u001b[0m\u001b[0;34m\u001b[0m\u001b[0;34m\u001b[0m\u001b[0m\n",
      "\u001b[0;31mNewConnectionError\u001b[0m: <urllib3.connection.HTTPConnection object at 0x7fe4c0281e80>: Failed to establish a new connection: [Errno 61] Connection refused",
      "\nDuring handling of the above exception, another exception occurred:\n",
      "\u001b[0;31mMaxRetryError\u001b[0m                             Traceback (most recent call last)",
      "\u001b[0;32m<ipython-input-313-fd1af25868ef>\u001b[0m in \u001b[0;36m<module>\u001b[0;34m\u001b[0m\n\u001b[1;32m      3\u001b[0m     \u001b[0mdriver\u001b[0m\u001b[0;34m.\u001b[0m\u001b[0mexecute_script\u001b[0m\u001b[0;34m(\u001b[0m\u001b[0;34m\"window.scrollTo(0,\"\u001b[0m\u001b[0;34m+\u001b[0m\u001b[0mstr\u001b[0m\u001b[0;34m(\u001b[0m\u001b[0;36m2000\u001b[0m\u001b[0;34m*\u001b[0m\u001b[0mj\u001b[0m\u001b[0;34m)\u001b[0m\u001b[0;34m+\u001b[0m\u001b[0;34m\")\"\u001b[0m\u001b[0;34m)\u001b[0m\u001b[0;34m\u001b[0m\u001b[0;34m\u001b[0m\u001b[0m\n\u001b[1;32m      4\u001b[0m     \u001b[0mtime\u001b[0m\u001b[0;34m.\u001b[0m\u001b[0msleep\u001b[0m\u001b[0;34m(\u001b[0m\u001b[0;36m3\u001b[0m\u001b[0;34m)\u001b[0m\u001b[0;34m\u001b[0m\u001b[0;34m\u001b[0m\u001b[0m\n\u001b[0;32m----> 5\u001b[0;31m     \u001b[0mall_tweets\u001b[0m \u001b[0;34m=\u001b[0m \u001b[0mdriver\u001b[0m\u001b[0;34m.\u001b[0m\u001b[0mfind_elements_by_xpath\u001b[0m\u001b[0;34m(\u001b[0m\u001b[0;34m\"//div[@aria-label='Timeline: Search timeline']/div/div\"\u001b[0m\u001b[0;34m)\u001b[0m\u001b[0;34m\u001b[0m\u001b[0;34m\u001b[0m\u001b[0m\n\u001b[0m\u001b[1;32m      6\u001b[0m \u001b[0;34m\u001b[0m\u001b[0m\n\u001b[1;32m      7\u001b[0m     \u001b[0;32mfor\u001b[0m \u001b[0mtweet\u001b[0m \u001b[0;32min\u001b[0m \u001b[0mall_tweets\u001b[0m \u001b[0;34m:\u001b[0m\u001b[0;34m\u001b[0m\u001b[0;34m\u001b[0m\u001b[0m\n",
      "\u001b[0;32m/opt/anaconda3/lib/python3.8/site-packages/selenium/webdriver/remote/webdriver.py\u001b[0m in \u001b[0;36mfind_elements_by_xpath\u001b[0;34m(self, xpath)\u001b[0m\n\u001b[1;32m    408\u001b[0m             \u001b[0melements\u001b[0m \u001b[0;34m=\u001b[0m \u001b[0mdriver\u001b[0m\u001b[0;34m.\u001b[0m\u001b[0mfind_elements_by_xpath\u001b[0m\u001b[0;34m(\u001b[0m\u001b[0;34m\"//div[contains(@class, 'foo')]\"\u001b[0m\u001b[0;34m)\u001b[0m\u001b[0;34m\u001b[0m\u001b[0;34m\u001b[0m\u001b[0m\n\u001b[1;32m    409\u001b[0m         \"\"\"\n\u001b[0;32m--> 410\u001b[0;31m         \u001b[0;32mreturn\u001b[0m \u001b[0mself\u001b[0m\u001b[0;34m.\u001b[0m\u001b[0mfind_elements\u001b[0m\u001b[0;34m(\u001b[0m\u001b[0mby\u001b[0m\u001b[0;34m=\u001b[0m\u001b[0mBy\u001b[0m\u001b[0;34m.\u001b[0m\u001b[0mXPATH\u001b[0m\u001b[0;34m,\u001b[0m \u001b[0mvalue\u001b[0m\u001b[0;34m=\u001b[0m\u001b[0mxpath\u001b[0m\u001b[0;34m)\u001b[0m\u001b[0;34m\u001b[0m\u001b[0;34m\u001b[0m\u001b[0m\n\u001b[0m\u001b[1;32m    411\u001b[0m \u001b[0;34m\u001b[0m\u001b[0m\n\u001b[1;32m    412\u001b[0m     \u001b[0;32mdef\u001b[0m \u001b[0mfind_element_by_link_text\u001b[0m\u001b[0;34m(\u001b[0m\u001b[0mself\u001b[0m\u001b[0;34m,\u001b[0m \u001b[0mlink_text\u001b[0m\u001b[0;34m)\u001b[0m\u001b[0;34m:\u001b[0m\u001b[0;34m\u001b[0m\u001b[0;34m\u001b[0m\u001b[0m\n",
      "\u001b[0;32m/opt/anaconda3/lib/python3.8/site-packages/selenium/webdriver/remote/webdriver.py\u001b[0m in \u001b[0;36mfind_elements\u001b[0;34m(self, by, value)\u001b[0m\n\u001b[1;32m   1003\u001b[0m         \u001b[0;31m# Return empty list if driver returns null\u001b[0m\u001b[0;34m\u001b[0m\u001b[0;34m\u001b[0m\u001b[0;34m\u001b[0m\u001b[0m\n\u001b[1;32m   1004\u001b[0m         \u001b[0;31m# See https://github.com/SeleniumHQ/selenium/issues/4555\u001b[0m\u001b[0;34m\u001b[0m\u001b[0;34m\u001b[0m\u001b[0;34m\u001b[0m\u001b[0m\n\u001b[0;32m-> 1005\u001b[0;31m         return self.execute(Command.FIND_ELEMENTS, {\n\u001b[0m\u001b[1;32m   1006\u001b[0m             \u001b[0;34m'using'\u001b[0m\u001b[0;34m:\u001b[0m \u001b[0mby\u001b[0m\u001b[0;34m,\u001b[0m\u001b[0;34m\u001b[0m\u001b[0;34m\u001b[0m\u001b[0m\n\u001b[1;32m   1007\u001b[0m             'value': value})['value'] or []\n",
      "\u001b[0;32m/opt/anaconda3/lib/python3.8/site-packages/selenium/webdriver/remote/webdriver.py\u001b[0m in \u001b[0;36mexecute\u001b[0;34m(self, driver_command, params)\u001b[0m\n\u001b[1;32m    317\u001b[0m \u001b[0;34m\u001b[0m\u001b[0m\n\u001b[1;32m    318\u001b[0m         \u001b[0mparams\u001b[0m \u001b[0;34m=\u001b[0m \u001b[0mself\u001b[0m\u001b[0;34m.\u001b[0m\u001b[0m_wrap_value\u001b[0m\u001b[0;34m(\u001b[0m\u001b[0mparams\u001b[0m\u001b[0;34m)\u001b[0m\u001b[0;34m\u001b[0m\u001b[0;34m\u001b[0m\u001b[0m\n\u001b[0;32m--> 319\u001b[0;31m         \u001b[0mresponse\u001b[0m \u001b[0;34m=\u001b[0m \u001b[0mself\u001b[0m\u001b[0;34m.\u001b[0m\u001b[0mcommand_executor\u001b[0m\u001b[0;34m.\u001b[0m\u001b[0mexecute\u001b[0m\u001b[0;34m(\u001b[0m\u001b[0mdriver_command\u001b[0m\u001b[0;34m,\u001b[0m \u001b[0mparams\u001b[0m\u001b[0;34m)\u001b[0m\u001b[0;34m\u001b[0m\u001b[0;34m\u001b[0m\u001b[0m\n\u001b[0m\u001b[1;32m    320\u001b[0m         \u001b[0;32mif\u001b[0m \u001b[0mresponse\u001b[0m\u001b[0;34m:\u001b[0m\u001b[0;34m\u001b[0m\u001b[0;34m\u001b[0m\u001b[0m\n\u001b[1;32m    321\u001b[0m             \u001b[0mself\u001b[0m\u001b[0;34m.\u001b[0m\u001b[0merror_handler\u001b[0m\u001b[0;34m.\u001b[0m\u001b[0mcheck_response\u001b[0m\u001b[0;34m(\u001b[0m\u001b[0mresponse\u001b[0m\u001b[0;34m)\u001b[0m\u001b[0;34m\u001b[0m\u001b[0;34m\u001b[0m\u001b[0m\n",
      "\u001b[0;32m/opt/anaconda3/lib/python3.8/site-packages/selenium/webdriver/remote/remote_connection.py\u001b[0m in \u001b[0;36mexecute\u001b[0;34m(self, command, params)\u001b[0m\n\u001b[1;32m    372\u001b[0m         \u001b[0mdata\u001b[0m \u001b[0;34m=\u001b[0m \u001b[0mutils\u001b[0m\u001b[0;34m.\u001b[0m\u001b[0mdump_json\u001b[0m\u001b[0;34m(\u001b[0m\u001b[0mparams\u001b[0m\u001b[0;34m)\u001b[0m\u001b[0;34m\u001b[0m\u001b[0;34m\u001b[0m\u001b[0m\n\u001b[1;32m    373\u001b[0m         \u001b[0murl\u001b[0m \u001b[0;34m=\u001b[0m \u001b[0;34m'%s%s'\u001b[0m \u001b[0;34m%\u001b[0m \u001b[0;34m(\u001b[0m\u001b[0mself\u001b[0m\u001b[0;34m.\u001b[0m\u001b[0m_url\u001b[0m\u001b[0;34m,\u001b[0m \u001b[0mpath\u001b[0m\u001b[0;34m)\u001b[0m\u001b[0;34m\u001b[0m\u001b[0;34m\u001b[0m\u001b[0m\n\u001b[0;32m--> 374\u001b[0;31m         \u001b[0;32mreturn\u001b[0m \u001b[0mself\u001b[0m\u001b[0;34m.\u001b[0m\u001b[0m_request\u001b[0m\u001b[0;34m(\u001b[0m\u001b[0mcommand_info\u001b[0m\u001b[0;34m[\u001b[0m\u001b[0;36m0\u001b[0m\u001b[0;34m]\u001b[0m\u001b[0;34m,\u001b[0m \u001b[0murl\u001b[0m\u001b[0;34m,\u001b[0m \u001b[0mbody\u001b[0m\u001b[0;34m=\u001b[0m\u001b[0mdata\u001b[0m\u001b[0;34m)\u001b[0m\u001b[0;34m\u001b[0m\u001b[0;34m\u001b[0m\u001b[0m\n\u001b[0m\u001b[1;32m    375\u001b[0m \u001b[0;34m\u001b[0m\u001b[0m\n\u001b[1;32m    376\u001b[0m     \u001b[0;32mdef\u001b[0m \u001b[0m_request\u001b[0m\u001b[0;34m(\u001b[0m\u001b[0mself\u001b[0m\u001b[0;34m,\u001b[0m \u001b[0mmethod\u001b[0m\u001b[0;34m,\u001b[0m \u001b[0murl\u001b[0m\u001b[0;34m,\u001b[0m \u001b[0mbody\u001b[0m\u001b[0;34m=\u001b[0m\u001b[0;32mNone\u001b[0m\u001b[0;34m)\u001b[0m\u001b[0;34m:\u001b[0m\u001b[0;34m\u001b[0m\u001b[0;34m\u001b[0m\u001b[0m\n",
      "\u001b[0;32m/opt/anaconda3/lib/python3.8/site-packages/selenium/webdriver/remote/remote_connection.py\u001b[0m in \u001b[0;36m_request\u001b[0;34m(self, method, url, body)\u001b[0m\n\u001b[1;32m    395\u001b[0m \u001b[0;34m\u001b[0m\u001b[0m\n\u001b[1;32m    396\u001b[0m         \u001b[0;32mif\u001b[0m \u001b[0mself\u001b[0m\u001b[0;34m.\u001b[0m\u001b[0mkeep_alive\u001b[0m\u001b[0;34m:\u001b[0m\u001b[0;34m\u001b[0m\u001b[0;34m\u001b[0m\u001b[0m\n\u001b[0;32m--> 397\u001b[0;31m             \u001b[0mresp\u001b[0m \u001b[0;34m=\u001b[0m \u001b[0mself\u001b[0m\u001b[0;34m.\u001b[0m\u001b[0m_conn\u001b[0m\u001b[0;34m.\u001b[0m\u001b[0mrequest\u001b[0m\u001b[0;34m(\u001b[0m\u001b[0mmethod\u001b[0m\u001b[0;34m,\u001b[0m \u001b[0murl\u001b[0m\u001b[0;34m,\u001b[0m \u001b[0mbody\u001b[0m\u001b[0;34m=\u001b[0m\u001b[0mbody\u001b[0m\u001b[0;34m,\u001b[0m \u001b[0mheaders\u001b[0m\u001b[0;34m=\u001b[0m\u001b[0mheaders\u001b[0m\u001b[0;34m)\u001b[0m\u001b[0;34m\u001b[0m\u001b[0;34m\u001b[0m\u001b[0m\n\u001b[0m\u001b[1;32m    398\u001b[0m \u001b[0;34m\u001b[0m\u001b[0m\n\u001b[1;32m    399\u001b[0m             \u001b[0mstatuscode\u001b[0m \u001b[0;34m=\u001b[0m \u001b[0mresp\u001b[0m\u001b[0;34m.\u001b[0m\u001b[0mstatus\u001b[0m\u001b[0;34m\u001b[0m\u001b[0;34m\u001b[0m\u001b[0m\n",
      "\u001b[0;32m/opt/anaconda3/lib/python3.8/site-packages/urllib3/request.py\u001b[0m in \u001b[0;36mrequest\u001b[0;34m(self, method, url, fields, headers, **urlopen_kw)\u001b[0m\n\u001b[1;32m     77\u001b[0m             )\n\u001b[1;32m     78\u001b[0m         \u001b[0;32melse\u001b[0m\u001b[0;34m:\u001b[0m\u001b[0;34m\u001b[0m\u001b[0;34m\u001b[0m\u001b[0m\n\u001b[0;32m---> 79\u001b[0;31m             return self.request_encode_body(\n\u001b[0m\u001b[1;32m     80\u001b[0m                 \u001b[0mmethod\u001b[0m\u001b[0;34m,\u001b[0m \u001b[0murl\u001b[0m\u001b[0;34m,\u001b[0m \u001b[0mfields\u001b[0m\u001b[0;34m=\u001b[0m\u001b[0mfields\u001b[0m\u001b[0;34m,\u001b[0m \u001b[0mheaders\u001b[0m\u001b[0;34m=\u001b[0m\u001b[0mheaders\u001b[0m\u001b[0;34m,\u001b[0m \u001b[0;34m**\u001b[0m\u001b[0murlopen_kw\u001b[0m\u001b[0;34m\u001b[0m\u001b[0;34m\u001b[0m\u001b[0m\n\u001b[1;32m     81\u001b[0m             )\n",
      "\u001b[0;32m/opt/anaconda3/lib/python3.8/site-packages/urllib3/request.py\u001b[0m in \u001b[0;36mrequest_encode_body\u001b[0;34m(self, method, url, fields, headers, encode_multipart, multipart_boundary, **urlopen_kw)\u001b[0m\n\u001b[1;32m    169\u001b[0m         \u001b[0mextra_kw\u001b[0m\u001b[0;34m.\u001b[0m\u001b[0mupdate\u001b[0m\u001b[0;34m(\u001b[0m\u001b[0murlopen_kw\u001b[0m\u001b[0;34m)\u001b[0m\u001b[0;34m\u001b[0m\u001b[0;34m\u001b[0m\u001b[0m\n\u001b[1;32m    170\u001b[0m \u001b[0;34m\u001b[0m\u001b[0m\n\u001b[0;32m--> 171\u001b[0;31m         \u001b[0;32mreturn\u001b[0m \u001b[0mself\u001b[0m\u001b[0;34m.\u001b[0m\u001b[0murlopen\u001b[0m\u001b[0;34m(\u001b[0m\u001b[0mmethod\u001b[0m\u001b[0;34m,\u001b[0m \u001b[0murl\u001b[0m\u001b[0;34m,\u001b[0m \u001b[0;34m**\u001b[0m\u001b[0mextra_kw\u001b[0m\u001b[0;34m)\u001b[0m\u001b[0;34m\u001b[0m\u001b[0;34m\u001b[0m\u001b[0m\n\u001b[0m",
      "\u001b[0;32m/opt/anaconda3/lib/python3.8/site-packages/urllib3/poolmanager.py\u001b[0m in \u001b[0;36murlopen\u001b[0;34m(self, method, url, redirect, **kw)\u001b[0m\n\u001b[1;32m    334\u001b[0m             \u001b[0mresponse\u001b[0m \u001b[0;34m=\u001b[0m \u001b[0mconn\u001b[0m\u001b[0;34m.\u001b[0m\u001b[0murlopen\u001b[0m\u001b[0;34m(\u001b[0m\u001b[0mmethod\u001b[0m\u001b[0;34m,\u001b[0m \u001b[0murl\u001b[0m\u001b[0;34m,\u001b[0m \u001b[0;34m**\u001b[0m\u001b[0mkw\u001b[0m\u001b[0;34m)\u001b[0m\u001b[0;34m\u001b[0m\u001b[0;34m\u001b[0m\u001b[0m\n\u001b[1;32m    335\u001b[0m         \u001b[0;32melse\u001b[0m\u001b[0;34m:\u001b[0m\u001b[0;34m\u001b[0m\u001b[0;34m\u001b[0m\u001b[0m\n\u001b[0;32m--> 336\u001b[0;31m             \u001b[0mresponse\u001b[0m \u001b[0;34m=\u001b[0m \u001b[0mconn\u001b[0m\u001b[0;34m.\u001b[0m\u001b[0murlopen\u001b[0m\u001b[0;34m(\u001b[0m\u001b[0mmethod\u001b[0m\u001b[0;34m,\u001b[0m \u001b[0mu\u001b[0m\u001b[0;34m.\u001b[0m\u001b[0mrequest_uri\u001b[0m\u001b[0;34m,\u001b[0m \u001b[0;34m**\u001b[0m\u001b[0mkw\u001b[0m\u001b[0;34m)\u001b[0m\u001b[0;34m\u001b[0m\u001b[0;34m\u001b[0m\u001b[0m\n\u001b[0m\u001b[1;32m    337\u001b[0m \u001b[0;34m\u001b[0m\u001b[0m\n\u001b[1;32m    338\u001b[0m         \u001b[0mredirect_location\u001b[0m \u001b[0;34m=\u001b[0m \u001b[0mredirect\u001b[0m \u001b[0;32mand\u001b[0m \u001b[0mresponse\u001b[0m\u001b[0;34m.\u001b[0m\u001b[0mget_redirect_location\u001b[0m\u001b[0;34m(\u001b[0m\u001b[0;34m)\u001b[0m\u001b[0;34m\u001b[0m\u001b[0;34m\u001b[0m\u001b[0m\n",
      "\u001b[0;32m/opt/anaconda3/lib/python3.8/site-packages/urllib3/connectionpool.py\u001b[0m in \u001b[0;36murlopen\u001b[0;34m(self, method, url, body, headers, retries, redirect, assert_same_host, timeout, pool_timeout, release_conn, chunked, body_pos, **response_kw)\u001b[0m\n\u001b[1;32m    750\u001b[0m                 \u001b[0;34m\"Retrying (%r) after connection broken by '%r': %s\"\u001b[0m\u001b[0;34m,\u001b[0m \u001b[0mretries\u001b[0m\u001b[0;34m,\u001b[0m \u001b[0merr\u001b[0m\u001b[0;34m,\u001b[0m \u001b[0murl\u001b[0m\u001b[0;34m\u001b[0m\u001b[0;34m\u001b[0m\u001b[0m\n\u001b[1;32m    751\u001b[0m             )\n\u001b[0;32m--> 752\u001b[0;31m             return self.urlopen(\n\u001b[0m\u001b[1;32m    753\u001b[0m                 \u001b[0mmethod\u001b[0m\u001b[0;34m,\u001b[0m\u001b[0;34m\u001b[0m\u001b[0;34m\u001b[0m\u001b[0m\n\u001b[1;32m    754\u001b[0m                 \u001b[0murl\u001b[0m\u001b[0;34m,\u001b[0m\u001b[0;34m\u001b[0m\u001b[0;34m\u001b[0m\u001b[0m\n",
      "\u001b[0;32m/opt/anaconda3/lib/python3.8/site-packages/urllib3/connectionpool.py\u001b[0m in \u001b[0;36murlopen\u001b[0;34m(self, method, url, body, headers, retries, redirect, assert_same_host, timeout, pool_timeout, release_conn, chunked, body_pos, **response_kw)\u001b[0m\n\u001b[1;32m    750\u001b[0m                 \u001b[0;34m\"Retrying (%r) after connection broken by '%r': %s\"\u001b[0m\u001b[0;34m,\u001b[0m \u001b[0mretries\u001b[0m\u001b[0;34m,\u001b[0m \u001b[0merr\u001b[0m\u001b[0;34m,\u001b[0m \u001b[0murl\u001b[0m\u001b[0;34m\u001b[0m\u001b[0;34m\u001b[0m\u001b[0m\n\u001b[1;32m    751\u001b[0m             )\n\u001b[0;32m--> 752\u001b[0;31m             return self.urlopen(\n\u001b[0m\u001b[1;32m    753\u001b[0m                 \u001b[0mmethod\u001b[0m\u001b[0;34m,\u001b[0m\u001b[0;34m\u001b[0m\u001b[0;34m\u001b[0m\u001b[0m\n\u001b[1;32m    754\u001b[0m                 \u001b[0murl\u001b[0m\u001b[0;34m,\u001b[0m\u001b[0;34m\u001b[0m\u001b[0;34m\u001b[0m\u001b[0m\n",
      "\u001b[0;32m/opt/anaconda3/lib/python3.8/site-packages/urllib3/connectionpool.py\u001b[0m in \u001b[0;36murlopen\u001b[0;34m(self, method, url, body, headers, retries, redirect, assert_same_host, timeout, pool_timeout, release_conn, chunked, body_pos, **response_kw)\u001b[0m\n\u001b[1;32m    750\u001b[0m                 \u001b[0;34m\"Retrying (%r) after connection broken by '%r': %s\"\u001b[0m\u001b[0;34m,\u001b[0m \u001b[0mretries\u001b[0m\u001b[0;34m,\u001b[0m \u001b[0merr\u001b[0m\u001b[0;34m,\u001b[0m \u001b[0murl\u001b[0m\u001b[0;34m\u001b[0m\u001b[0;34m\u001b[0m\u001b[0m\n\u001b[1;32m    751\u001b[0m             )\n\u001b[0;32m--> 752\u001b[0;31m             return self.urlopen(\n\u001b[0m\u001b[1;32m    753\u001b[0m                 \u001b[0mmethod\u001b[0m\u001b[0;34m,\u001b[0m\u001b[0;34m\u001b[0m\u001b[0;34m\u001b[0m\u001b[0m\n\u001b[1;32m    754\u001b[0m                 \u001b[0murl\u001b[0m\u001b[0;34m,\u001b[0m\u001b[0;34m\u001b[0m\u001b[0;34m\u001b[0m\u001b[0m\n",
      "\u001b[0;32m/opt/anaconda3/lib/python3.8/site-packages/urllib3/connectionpool.py\u001b[0m in \u001b[0;36murlopen\u001b[0;34m(self, method, url, body, headers, retries, redirect, assert_same_host, timeout, pool_timeout, release_conn, chunked, body_pos, **response_kw)\u001b[0m\n\u001b[1;32m    722\u001b[0m                 \u001b[0me\u001b[0m \u001b[0;34m=\u001b[0m \u001b[0mProtocolError\u001b[0m\u001b[0;34m(\u001b[0m\u001b[0;34m\"Connection aborted.\"\u001b[0m\u001b[0;34m,\u001b[0m \u001b[0me\u001b[0m\u001b[0;34m)\u001b[0m\u001b[0;34m\u001b[0m\u001b[0;34m\u001b[0m\u001b[0m\n\u001b[1;32m    723\u001b[0m \u001b[0;34m\u001b[0m\u001b[0m\n\u001b[0;32m--> 724\u001b[0;31m             retries = retries.increment(\n\u001b[0m\u001b[1;32m    725\u001b[0m                 \u001b[0mmethod\u001b[0m\u001b[0;34m,\u001b[0m \u001b[0murl\u001b[0m\u001b[0;34m,\u001b[0m \u001b[0merror\u001b[0m\u001b[0;34m=\u001b[0m\u001b[0me\u001b[0m\u001b[0;34m,\u001b[0m \u001b[0m_pool\u001b[0m\u001b[0;34m=\u001b[0m\u001b[0mself\u001b[0m\u001b[0;34m,\u001b[0m \u001b[0m_stacktrace\u001b[0m\u001b[0;34m=\u001b[0m\u001b[0msys\u001b[0m\u001b[0;34m.\u001b[0m\u001b[0mexc_info\u001b[0m\u001b[0;34m(\u001b[0m\u001b[0;34m)\u001b[0m\u001b[0;34m[\u001b[0m\u001b[0;36m2\u001b[0m\u001b[0;34m]\u001b[0m\u001b[0;34m\u001b[0m\u001b[0;34m\u001b[0m\u001b[0m\n\u001b[1;32m    726\u001b[0m             )\n",
      "\u001b[0;32m/opt/anaconda3/lib/python3.8/site-packages/urllib3/util/retry.py\u001b[0m in \u001b[0;36mincrement\u001b[0;34m(self, method, url, response, error, _pool, _stacktrace)\u001b[0m\n\u001b[1;32m    437\u001b[0m \u001b[0;34m\u001b[0m\u001b[0m\n\u001b[1;32m    438\u001b[0m         \u001b[0;32mif\u001b[0m \u001b[0mnew_retry\u001b[0m\u001b[0;34m.\u001b[0m\u001b[0mis_exhausted\u001b[0m\u001b[0;34m(\u001b[0m\u001b[0;34m)\u001b[0m\u001b[0;34m:\u001b[0m\u001b[0;34m\u001b[0m\u001b[0;34m\u001b[0m\u001b[0m\n\u001b[0;32m--> 439\u001b[0;31m             \u001b[0;32mraise\u001b[0m \u001b[0mMaxRetryError\u001b[0m\u001b[0;34m(\u001b[0m\u001b[0m_pool\u001b[0m\u001b[0;34m,\u001b[0m \u001b[0murl\u001b[0m\u001b[0;34m,\u001b[0m \u001b[0merror\u001b[0m \u001b[0;32mor\u001b[0m \u001b[0mResponseError\u001b[0m\u001b[0;34m(\u001b[0m\u001b[0mcause\u001b[0m\u001b[0;34m)\u001b[0m\u001b[0;34m)\u001b[0m\u001b[0;34m\u001b[0m\u001b[0;34m\u001b[0m\u001b[0m\n\u001b[0m\u001b[1;32m    440\u001b[0m \u001b[0;34m\u001b[0m\u001b[0m\n\u001b[1;32m    441\u001b[0m         \u001b[0mlog\u001b[0m\u001b[0;34m.\u001b[0m\u001b[0mdebug\u001b[0m\u001b[0;34m(\u001b[0m\u001b[0;34m\"Incremented Retry for (url='%s'): %r\"\u001b[0m\u001b[0;34m,\u001b[0m \u001b[0murl\u001b[0m\u001b[0;34m,\u001b[0m \u001b[0mnew_retry\u001b[0m\u001b[0;34m)\u001b[0m\u001b[0;34m\u001b[0m\u001b[0;34m\u001b[0m\u001b[0m\n",
      "\u001b[0;31mMaxRetryError\u001b[0m: HTTPConnectionPool(host='127.0.0.1', port=59628): Max retries exceeded with url: /session/8cc4d89a0850955a964112f2790d20fd/elements (Caused by NewConnectionError('<urllib3.connection.HTTPConnection object at 0x7fe4c0281e80>: Failed to establish a new connection: [Errno 61] Connection refused'))"
     ]
    }
   ],
   "source": [
    "for j in range(0,50):\n",
    "    \n",
    "    driver.execute_script(\"window.scrollTo(0,\"+str(2000*j)+\")\")\n",
    "    time.sleep(3)\n",
    "    all_tweets = driver.find_elements_by_xpath(\"//div[@aria-label='Timeline: Search timeline']/div/div\")\n",
    "    \n",
    "    for tweet in all_tweets :\n",
    "        if len(tweet.text) > 10 : \n",
    "            tweet_row = []\n",
    "            split_list = tweet.text.splitlines()\n",
    "            name = split_list[0]\n",
    "            tweet_row.append(name)\n",
    "            pseudo = split_list[1]\n",
    "            tweet_row.append(pseudo)\n",
    "            date = split_list[3]\n",
    "            tweet_row.append(date)\n",
    "            content = \" | \".join([i for i in split_list[4:] if len(i)>6])\n",
    "            tweet_row.append(content)\n",
    "            tweet_row.append(str(sum([int(i) for i in split_list[-3:] if i > \"0\" and i < '99999999' and len(i)<6]+ [0])))\n",
    "            if len(tweet_row)==5 : \n",
    "                df.loc[len(df)]=tweet_row\n",
    "            print(tweet_row)\n",
    "\n",
    "df.drop_duplicates()\n",
    "\n",
    "print(df)"
   ]
  },
  {
   "cell_type": "code",
   "execution_count": 312,
   "metadata": {},
   "outputs": [],
   "source": [
    "df.to_csv(r\"/Users/macbook16decamille/Desktop/pregnancy.csv\", index = False)"
   ]
  },
  {
   "cell_type": "code",
   "execution_count": 300,
   "metadata": {},
   "outputs": [
    {
     "name": "stdout",
     "output_type": "stream",
     "text": [
      "['Pregakem', '@pregakem', 'Sep 23', 'Constipation in infants is common but can be a cause of concern for new parents. Here are some at home remedies you can try for common symptoms.\\nLet us know in the comments below if you found them helpful.\\n#Pregakem #PregnancyDetectionKit #Pregnant #Pregnancy #Infant #Infancy', '146']\n",
      "['Angela Taylor', '@retrowedding68', 'Sep 26', \"The #FTA addresses the fact that even as late as 1980's women often needed guarantor for a mortgage of their own. 1950's sufferered this injustice our whole lives, now they steal £50k our state pension and call it #equality \\n#women #Suffrage #childcare #pregnancy #pension\", '137']\n",
      "['Nature Reviews Gastroenterology & Hepatology', '@NatRevGastroHep', 'Sep 23', '#TBT REVIEW | Viral #hepatitis and #pregnancy\\nhttps://go.nature.com/2IqXNgT', '24']\n",
      "['Michele Lapini', '@MicheleLapini', 'Sep 26', \"In #SanMarino, the 'Yes' (77,30%) vote to #decriminalise  the voluntary interruption of #pregnancy won. #Abortion will no longer be a #crime.\\n#photojournalism #igv #aborto #unionedonnesammarinesi #donne #womensrights #uds #reportage #freelance #voto #photooftheday #Feminism\", '30']\n",
      "[\"Zenny's Club\", '@ClubZenny', 'Sep 23', 'Remember to not get impregnated when attempting to rescue a close friend on your emergency space mission!\\n#DeadOrAlive #Honoka #Alien #Pregnancy #Tentacle #Pregnant #rapidPregnancy #Belly #Bellyexpansion #Blender\\nThe following media includes potentially sensitive content. Change settings', '189']\n",
      "['Pregnancy.Org', '@pregnancyorg', 'By Parents For Parents™. Bringing people together during pregnancy & beyond. Powered by Optum. COVID-19 FAQs https://bit.ly/2L8c2W9. Shares/RTs ≠ endorsement.', '', '0']\n",
      "['Savana Signatures', '@savsign', 'Sep 24', 'Role-playing has been an effective tool to foster change. #Students of Mafi-Dugame JHS, Volta region performed a play on the effects of teenage #pregnancy & gender-based violence. The initiative seeks to improve adolescents health & personal development through community support.', '17']\n",
      "['Dr. Carin Anne Bondar', '@carinbondar', 'Sep 24', \"Don't know where this started...but it's too good not to share: #mybodymyrights #ovaries #womensrights #feminism #abortion #women #pregnancy\", '34']\n",
      "['Victoria Blake', '@VicLinneaBlake', 'Sep 25', \"#Pregnancy can be kind of isolating.\\nThe non stop advice and mom shaming you see online is so awful it makes me not want to have any mom friends at all TBH.\\nAt the same time it can create space for this new little life and can open your eyes to who shouldn't be there \", '9']\n",
      "['Nature Reviews Endocrinology', '@NatureRevEndo', 'Sep 23', 'Online now: A new #ConsensusStatement calls for greater caution in the use of #paracetamol during #pregnancy. https://go.nature.com/2ZgHITq\\nShow this thread', '23']\n",
      "['ZoeGaroufalia', '@ZGaroufalia', 'Sep 24', 'IBD and tha pregnant patient-A very difficult subject wonderfully presented by Christian Selinger\\n#SoMe4Surgery #IBD #pregnancy\\n@ColorectalDis\\n @escp_tweets\\n @YouESCP\\n @ZaffaroniGloria\\n @GianlucaPellino\\n @MiguelFCunha86\\n @IBDPRDresearch', '31']\n",
      "                                            name            pseudo  \\\n",
      "0                                       Pregakem         @pregakem   \n",
      "1                                  Angela Taylor   @retrowedding68   \n",
      "2   Nature Reviews Gastroenterology & Hepatology  @NatRevGastroHep   \n",
      "3                                 Michele Lapini    @MicheleLapini   \n",
      "4                                   Zenny's Club        @ClubZenny   \n",
      "5                                  Pregnancy.Org     @pregnancyorg   \n",
      "6                              Savana Signatures          @savsign   \n",
      "7                          Dr. Carin Anne Bondar      @carinbondar   \n",
      "8                                 Victoria Blake   @VicLinneaBlake   \n",
      "9                   Nature Reviews Endocrinology    @NatureRevEndo   \n",
      "10                                 ZoeGaroufalia      @ZGaroufalia   \n",
      "\n",
      "                                                 date  \\\n",
      "0                                              Sep 23   \n",
      "1                                              Sep 26   \n",
      "2                                              Sep 23   \n",
      "3                                              Sep 26   \n",
      "4                                              Sep 23   \n",
      "5   By Parents For Parents™. Bringing people toget...   \n",
      "6                                              Sep 24   \n",
      "7                                              Sep 24   \n",
      "8                                              Sep 25   \n",
      "9                                              Sep 23   \n",
      "10                                             Sep 24   \n",
      "\n",
      "                                                tweet interaction  \n",
      "0   Constipation in infants is common but can be a...         146  \n",
      "1   The #FTA addresses the fact that even as late ...         137  \n",
      "2   #TBT REVIEW | Viral #hepatitis and #pregnancy\\...          24  \n",
      "3   In #SanMarino, the 'Yes' (77,30%) vote to #dec...          30  \n",
      "4   Remember to not get impregnated when attemptin...         189  \n",
      "5                                                               0  \n",
      "6   Role-playing has been an effective tool to fos...          17  \n",
      "7   Don't know where this started...but it's too g...          34  \n",
      "8   #Pregnancy can be kind of isolating.\\nThe non ...           9  \n",
      "9   Online now: A new #ConsensusStatement calls fo...          23  \n",
      "10  IBD and tha pregnant patient-A very difficult ...          31  \n"
     ]
    }
   ],
   "source": [
    "driver.execute_script(\"window.scrollTo(0,2000)\")\n",
    "all_tweets = driver.find_elements_by_xpath(\"//div[@aria-label='Timeline: Search timeline']/div/div\")\n",
    "time.sleep(2)\n",
    "df = pd.DataFrame(columns=['name', 'pseudo', 'date', 'tweet', 'interaction'])\n",
    "for tweet in all_tweets :\n",
    "    if len(tweet.text) > 10 : \n",
    "        tweet_row = []\n",
    "        split_list = tweet.text.splitlines()\n",
    "        name = split_list[0]\n",
    "        tweet_row.append(name)\n",
    "        pseudo = split_list[1]\n",
    "        tweet_row.append(pseudo)\n",
    "        date = split_list[3]\n",
    "        tweet_row.append(date)\n",
    "        content = \"\\n\".join([i for i in split_list[4:] if len(i)>6])\n",
    "        tweet_row.append(content)\n",
    "        tweet_row.append(str(sum([int(i) for i in split_list[-3:] if i > \"0\" and i < '99999999']+ [0])))\n",
    "        if len(tweet_row)==5 : \n",
    "            df.loc[len(df)]=tweet_row\n",
    "        print(tweet_row)\n",
    "print(df)"
   ]
  },
  {
   "cell_type": "code",
   "execution_count": 291,
   "metadata": {},
   "outputs": [
    {
     "data": {
      "text/plain": [
       "''"
      ]
     },
     "execution_count": 291,
     "metadata": {},
     "output_type": "execute_result"
    }
   ],
   "source": [
    "all_tweets[5].text"
   ]
  },
  {
   "cell_type": "code",
   "execution_count": 228,
   "metadata": {},
   "outputs": [
    {
     "name": "stdout",
     "output_type": "stream",
     "text": [
      "                                              Name         Pseudo    Date  \\\n",
      "0                                   Sarah Ali FRSA  @AliRacaniere  Sep 28   \n",
      "1                                           Dawnie      @Moodwife  Sep 28   \n",
      "2                                   Bprophetable ⧖  @bprophetable  Sep 28   \n",
      "3                      Origin of Speakcies Podcast     @speakcies  Sep 28   \n",
      "4                                           Dawnie      @Moodwife  Sep 28   \n",
      "5  Alliance for Reproductive Health Rights (Ghana)     @arhrghana  Sep 28   \n",
      "6                                 Barbara Ebel, MD   @BarbaraEbel  Sep 28   \n",
      "7                                    PLOS Medicine  @PLOSMedicine  Sep 28   \n",
      "8                                    PLOS Medicine  @PLOSMedicine  Sep 28   \n",
      "\n",
      "                                               Tweet  Interactions  \n",
      "0  Many faces of #diabetes in #pregnancy #MaxineL...            26  \n",
      "1  Interesting thoughts on the C-peptide levels i...            24  \n",
      "2  #Pregnancy #Prison sadistic #UK legal system r...             4  \n",
      "3  New Origin of \\n@Speakcies\\nEp. 121 - #Knocked...             4  \n",
      "4  A comparison between Lantus & Levemir in #T1D ...            14  \n",
      "5  #Condom as a #contraceptive method provides du...            13  \n",
      "6  #BookTwitter #ASMSG #pregnancy #pregnant #BYNR...            10  \n",
      "7  Replying to \\n@PLOSMedicine\\nIn a cross-sectio...            32  \n",
      "8  Andrea Weckman and co-workers study associatio...            17  \n"
     ]
    }
   ],
   "source": [
    "tweet_dict = {'Name' : name_list, 'Pseudo' : pseudo_list, 'Date': date_list, 'Tweet': tweet_list, 'Interactions': interaction_list}\n",
    "df = pd.DataFrame(tweet_dict)\n",
    "\n",
    "print(df)"
   ]
  },
  {
   "cell_type": "code",
   "execution_count": 213,
   "metadata": {},
   "outputs": [
    {
     "name": "stdout",
     "output_type": "stream",
     "text": [
      "           Name          Pseudo    Date  \\\n",
      "0  UTSW Science    @UTSWScience  Sep 29   \n",
      "1  George Obeid        @DIEBO37  Sep 24   \n",
      "2          PMHP      @PMHPatUCT  Sep 28   \n",
      "3   Maegan Wren  @themaeganwren  Sep 27   \n",
      "\n",
      "                                               Tweet  Interactions  \n",
      "0  New findings from reproductive #biology resear...             9  \n",
      "1  Right Light on Mother’s Belly May Be Important...            56  \n",
      "2  Counsellors for Mothers was started so that yo...            14  \n",
      "3  Baby hiccups are so stinkin’ cute but I don’t ...             0  \n"
     ]
    }
   ],
   "source": []
  },
  {
   "cell_type": "code",
   "execution_count": 127,
   "metadata": {},
   "outputs": [],
   "source": [
    "pseudo = []\n",
    "datetime = [] \n",
    "for i in range(1,len(html)):\n",
    "    p = html[i].find_element_by_xpath(\"//article[@role='article']//span[contains(text(),'@')]\")\n",
    "    d = html[i].find_element_by_xpath(\"//article[@role='article']//a//time\").get_attribute(\"datetime\")\n",
    "    pseudo.append(p.text)\n",
    "    datetime.append(d)"
   ]
  },
  {
   "cell_type": "code",
   "execution_count": 128,
   "metadata": {},
   "outputs": [
    {
     "name": "stdout",
     "output_type": "stream",
     "text": [
      "['@UTSWScience', '@UTSWScience', '@UTSWScience', '@UTSWScience', '@UTSWScience', '@UTSWScience', '@UTSWScience', '@UTSWScience']\n"
     ]
    }
   ],
   "source": [
    "print(pseudo)"
   ]
  },
  {
   "cell_type": "code",
   "execution_count": 111,
   "metadata": {},
   "outputs": [
    {
     "name": "stdout",
     "output_type": "stream",
     "text": [
      "['2021-09-28T21:48:32.000Z', '2021-09-28T21:48:32.000Z', '2021-09-28T21:48:32.000Z', '2021-09-28T21:48:32.000Z', '2021-09-28T21:48:32.000Z', '2021-09-28T21:48:32.000Z', '2021-09-28T21:48:32.000Z', '2021-09-28T21:48:32.000Z', '2021-09-28T21:48:32.000Z', '2021-09-28T21:48:32.000Z', '2021-09-28T21:48:32.000Z', '2021-09-28T21:48:32.000Z', '2021-09-28T21:48:32.000Z', '2021-09-28T21:48:32.000Z', '2021-09-28T21:48:32.000Z', '2021-09-28T21:48:32.000Z', '2021-09-28T21:48:32.000Z', '2021-09-28T21:48:32.000Z', '2021-09-28T21:48:32.000Z', '2021-09-28T21:48:32.000Z', '2021-09-28T21:48:32.000Z', '2021-09-28T21:48:32.000Z', '2021-09-28T21:48:32.000Z', '2021-09-28T21:48:32.000Z', '2021-09-28T21:48:32.000Z', '2021-09-28T21:48:32.000Z', '2021-09-28T21:48:32.000Z', '2021-09-28T21:48:32.000Z', '2021-09-28T21:48:32.000Z', '2021-09-28T21:48:32.000Z', '2021-09-28T21:48:32.000Z', '2021-09-28T21:48:32.000Z', '2021-09-28T21:48:32.000Z', '2021-09-28T21:48:32.000Z', '2021-09-28T21:48:32.000Z', '2021-09-28T21:48:32.000Z', '2021-09-28T21:48:32.000Z', '2021-09-28T21:48:32.000Z', '2021-09-28T21:48:32.000Z', '2021-09-28T21:48:32.000Z', '2021-09-28T21:48:32.000Z', '2021-09-28T21:48:32.000Z', '2021-09-28T21:48:32.000Z', '2021-09-28T21:48:32.000Z', '2021-09-28T21:48:32.000Z', '2021-09-28T21:48:32.000Z', '2021-09-28T21:48:32.000Z', '2021-09-28T21:48:32.000Z', '2021-09-28T21:48:32.000Z', '2021-09-28T21:48:32.000Z', '2021-09-28T21:48:32.000Z', '2021-09-28T21:48:32.000Z', '2021-09-28T21:48:32.000Z', '2021-09-28T21:48:32.000Z', '2021-09-28T21:48:32.000Z', '2021-09-28T21:48:32.000Z', '2021-09-28T21:48:32.000Z', '2021-09-28T21:48:32.000Z', '2021-09-28T21:48:32.000Z', '2021-09-28T21:48:32.000Z', '2021-09-28T21:48:32.000Z', '2021-09-28T21:48:32.000Z', '2021-09-28T21:48:32.000Z', '2021-09-28T21:48:32.000Z', '2021-09-28T21:48:32.000Z', '2021-09-28T21:48:32.000Z', '2021-09-28T21:48:32.000Z', '2021-09-28T21:48:32.000Z', '2021-09-28T21:48:32.000Z', '2021-09-28T21:48:32.000Z', '2021-09-28T21:48:32.000Z', '2021-09-28T21:48:32.000Z', '2021-09-28T21:48:32.000Z', '2021-09-28T21:48:32.000Z', '2021-09-28T21:48:32.000Z', '2021-09-28T21:48:32.000Z', '2021-09-28T21:48:32.000Z', '2021-09-28T21:48:32.000Z', '2021-09-28T21:48:32.000Z', '2021-09-28T21:48:32.000Z', '2021-09-28T21:48:32.000Z', '2021-09-28T21:48:32.000Z', '2021-09-28T21:48:32.000Z', '2021-09-28T21:48:32.000Z', '2021-09-28T21:48:32.000Z', '2021-09-28T21:48:32.000Z', '2021-09-28T21:48:32.000Z', '2021-09-28T21:48:32.000Z', '2021-09-28T21:48:32.000Z', '2021-09-28T21:48:32.000Z', '2021-09-28T21:48:32.000Z', '2021-09-28T21:48:32.000Z', '2021-09-28T21:48:32.000Z', '2021-09-28T21:48:32.000Z', '2021-09-28T21:48:32.000Z', '2021-09-28T21:48:32.000Z', '2021-09-28T21:48:32.000Z', '2021-09-28T21:48:32.000Z', '2021-09-28T21:48:32.000Z', '2021-09-28T21:48:32.000Z', '2021-09-28T21:48:32.000Z', '2021-09-28T21:48:32.000Z', '2021-09-28T21:48:32.000Z', '2021-09-28T21:48:32.000Z', '2021-09-28T21:48:32.000Z', '2021-09-28T21:48:32.000Z', '2021-09-28T21:48:32.000Z', '2021-09-28T21:48:32.000Z', '2021-09-28T21:48:32.000Z', '2021-09-28T21:48:32.000Z', '2021-09-28T21:48:32.000Z', '2021-09-28T21:48:32.000Z', '2021-09-28T21:48:32.000Z', '2021-09-28T21:48:32.000Z', '2021-09-28T21:48:32.000Z', '2021-09-28T21:48:32.000Z', '2021-09-28T21:48:32.000Z', '2021-09-28T21:48:32.000Z', '2021-09-28T21:48:32.000Z', '2021-09-28T21:48:32.000Z', '2021-09-28T21:48:32.000Z', '2021-09-28T21:48:32.000Z', '2021-09-28T21:48:32.000Z', '2021-09-28T21:48:32.000Z', '2021-09-28T21:48:32.000Z', '2021-09-28T21:48:32.000Z', '2021-09-28T21:48:32.000Z', '2021-09-28T21:48:32.000Z', '2021-09-28T21:48:32.000Z', '2021-09-28T21:48:32.000Z', '2021-09-28T21:48:32.000Z', '2021-09-28T21:48:32.000Z', '2021-09-28T21:48:32.000Z', '2021-09-28T21:48:32.000Z', '2021-09-28T21:48:32.000Z', '2021-09-28T21:48:32.000Z', '2021-09-28T21:48:32.000Z', '2021-09-28T21:48:32.000Z', '2021-09-28T21:48:32.000Z', '2021-09-28T21:48:32.000Z', '2021-09-28T21:48:32.000Z', '2021-09-28T21:48:32.000Z', '2021-09-28T21:48:32.000Z', '2021-09-28T21:48:32.000Z', '2021-09-28T21:48:32.000Z', '2021-09-28T21:48:32.000Z', '2021-09-28T21:48:32.000Z', '2021-09-28T21:48:32.000Z', '2021-09-28T21:48:32.000Z', '2021-09-28T21:48:32.000Z', '2021-09-28T21:48:32.000Z', '2021-09-28T21:48:32.000Z', '2021-09-28T21:48:32.000Z', '2021-09-28T21:48:32.000Z', '2021-09-28T21:48:32.000Z', '2021-09-28T21:48:32.000Z', '2021-09-28T21:48:32.000Z', '2021-09-28T21:48:32.000Z', '2021-09-28T21:48:32.000Z', '2021-09-28T21:48:32.000Z', '2021-09-28T21:48:32.000Z', '2021-09-28T21:48:32.000Z', '2021-09-28T21:48:32.000Z', '2021-09-28T21:48:32.000Z', '2021-09-28T21:48:32.000Z', '2021-09-28T21:48:32.000Z', '2021-09-28T21:48:32.000Z', '2021-09-28T21:48:32.000Z', '2021-09-28T21:48:32.000Z', '2021-09-28T21:48:32.000Z', '2021-09-28T21:48:32.000Z', '2021-09-28T21:48:32.000Z', '2021-09-28T21:48:32.000Z', '2021-09-28T21:48:32.000Z', '2021-09-28T21:48:32.000Z', '2021-09-28T21:48:32.000Z', '2021-09-28T21:48:32.000Z', '2021-09-28T21:48:32.000Z', '2021-09-28T21:48:32.000Z', '2021-09-28T21:48:32.000Z', '2021-09-28T21:48:32.000Z', '2021-09-28T21:48:32.000Z', '2021-09-28T21:48:32.000Z', '2021-09-28T21:48:32.000Z', '2021-09-28T21:48:32.000Z', '2021-09-28T21:48:32.000Z', '2021-09-28T21:48:32.000Z', '2021-09-28T21:48:32.000Z', '2021-09-28T21:48:32.000Z', '2021-09-28T21:48:32.000Z', '2021-09-28T21:48:32.000Z', '2021-09-28T21:48:32.000Z', '2021-09-28T21:48:32.000Z', '2021-09-28T21:48:32.000Z', '2021-09-28T21:48:32.000Z', '2021-09-28T21:48:32.000Z', '2021-09-28T21:48:32.000Z', '2021-09-28T21:48:32.000Z', '2021-09-28T21:48:32.000Z', '2021-09-28T21:48:32.000Z', '2021-09-28T21:48:32.000Z', '2021-09-28T21:48:32.000Z', '2021-09-28T21:48:32.000Z', '2021-09-28T21:48:32.000Z', '2021-09-28T21:48:32.000Z', '2021-09-28T21:48:32.000Z', '2021-09-28T21:48:32.000Z', '2021-09-28T21:48:32.000Z', '2021-09-28T21:48:32.000Z', '2021-09-28T21:48:32.000Z', '2021-09-28T21:48:32.000Z', '2021-09-28T21:48:32.000Z', '2021-09-28T21:48:32.000Z', '2021-09-28T21:48:32.000Z', '2021-09-28T21:48:32.000Z', '2021-09-28T21:48:32.000Z', '2021-09-28T21:48:32.000Z', '2021-09-28T21:48:32.000Z', '2021-09-28T21:48:32.000Z', '2021-09-28T21:48:32.000Z', '2021-09-28T21:48:32.000Z', '2021-09-28T21:48:32.000Z', '2021-09-28T21:48:32.000Z', '2021-09-28T21:48:32.000Z', '2021-09-28T21:48:32.000Z', '2021-09-28T21:48:32.000Z', '2021-09-28T21:48:32.000Z', '2021-09-28T21:48:32.000Z', '2021-09-28T21:48:32.000Z', '2021-09-28T21:48:32.000Z', '2021-09-28T21:48:32.000Z', '2021-09-28T21:48:32.000Z', '2021-09-28T21:48:32.000Z', '2021-09-28T21:48:32.000Z', '2021-09-28T21:48:32.000Z', '2021-09-28T21:48:32.000Z', '2021-09-28T21:48:32.000Z', '2021-09-28T21:48:32.000Z', '2021-09-28T21:48:32.000Z', '2021-09-28T21:48:32.000Z', '2021-09-28T21:48:32.000Z', '2021-09-28T21:48:32.000Z', '2021-09-28T21:48:32.000Z', '2021-09-28T21:48:32.000Z', '2021-09-28T21:48:32.000Z', '2021-09-28T21:48:32.000Z', '2021-09-28T21:48:32.000Z', '2021-09-28T21:48:32.000Z', '2021-09-28T21:48:32.000Z', '2021-09-28T21:48:32.000Z', '2021-09-28T21:48:32.000Z', '2021-09-28T21:48:32.000Z', '2021-09-28T21:48:32.000Z', '2021-09-28T21:48:32.000Z', '2021-09-28T21:48:32.000Z', '2021-09-28T21:48:32.000Z', '2021-09-28T21:48:32.000Z', '2021-09-28T21:48:32.000Z', '2021-09-28T21:48:32.000Z', '2021-09-28T21:48:32.000Z', '2021-09-28T21:48:32.000Z', '2021-09-28T21:48:32.000Z', '2021-09-28T21:48:32.000Z', '2021-09-28T21:48:32.000Z', '2021-09-28T21:48:32.000Z', '2021-09-28T21:48:32.000Z', '2021-09-28T21:48:32.000Z', '2021-09-28T21:48:32.000Z', '2021-09-28T21:48:32.000Z', '2021-09-28T21:48:32.000Z', '2021-09-28T21:48:32.000Z', '2021-09-28T21:48:32.000Z', '2021-09-28T21:48:32.000Z', '2021-09-28T21:48:32.000Z', '2021-09-28T21:48:32.000Z', '2021-09-28T21:48:32.000Z', '2021-09-28T21:48:32.000Z', '2021-09-28T21:48:32.000Z', '2021-09-28T21:48:32.000Z', '2021-09-28T21:48:32.000Z', '2021-09-28T21:48:32.000Z', '2021-09-28T21:48:32.000Z', '2021-09-28T21:48:32.000Z', '2021-09-28T21:48:32.000Z', '2021-09-28T21:48:32.000Z', '2021-09-28T21:48:32.000Z', '2021-09-28T21:48:32.000Z', '2021-09-28T21:48:32.000Z', '2021-09-28T21:48:32.000Z', '2021-09-28T21:48:32.000Z', '2021-09-28T21:48:32.000Z', '2021-09-28T21:48:32.000Z', '2021-09-28T21:48:32.000Z', '2021-09-28T21:48:32.000Z', '2021-09-28T21:48:32.000Z', '2021-09-28T21:48:32.000Z', '2021-09-28T21:48:32.000Z', '2021-09-28T21:48:32.000Z', '2021-09-28T21:48:32.000Z', '2021-09-28T21:48:32.000Z', '2021-09-28T21:48:32.000Z', '2021-09-28T21:48:32.000Z', '2021-09-28T21:48:32.000Z', '2021-09-28T21:48:32.000Z', '2021-09-28T21:48:32.000Z', '2021-09-28T21:48:32.000Z', '2021-09-28T21:48:32.000Z', '2021-09-28T21:48:32.000Z', '2021-09-28T21:48:32.000Z', '2021-09-28T21:48:32.000Z', '2021-09-28T21:48:32.000Z', '2021-09-28T21:48:32.000Z', '2021-09-28T21:48:32.000Z', '2021-09-28T21:48:32.000Z', '2021-09-28T21:48:32.000Z', '2021-09-28T21:48:32.000Z', '2021-09-28T21:48:32.000Z', '2021-09-28T21:48:32.000Z', '2021-09-28T21:48:32.000Z', '2021-09-28T21:48:32.000Z', '2021-09-28T21:48:32.000Z', '2021-09-28T21:48:32.000Z', '2021-09-28T21:48:32.000Z', '2021-09-28T21:48:32.000Z', '2021-09-28T21:48:32.000Z', '2021-09-28T21:48:32.000Z', '2021-09-28T21:48:32.000Z', '2021-09-28T21:48:32.000Z', '2021-09-28T21:48:32.000Z', '2021-09-28T21:48:32.000Z', '2021-09-28T21:48:32.000Z', '2021-09-28T21:48:32.000Z', '2021-09-28T21:48:32.000Z', '2021-09-28T21:48:32.000Z', '2021-09-28T21:48:32.000Z', '2021-09-28T21:48:32.000Z', '2021-09-28T21:48:32.000Z', '2021-09-28T21:48:32.000Z', '2021-09-28T21:48:32.000Z', '2021-09-28T21:48:32.000Z', '2021-09-28T21:48:32.000Z', '2021-09-28T21:48:32.000Z', '2021-09-28T21:48:32.000Z', '2021-09-28T21:48:32.000Z', '2021-09-28T21:48:32.000Z', '2021-09-28T21:48:32.000Z', '2021-09-28T21:48:32.000Z', '2021-09-28T21:48:32.000Z', '2021-09-28T21:48:32.000Z', '2021-09-28T21:48:32.000Z', '2021-09-28T21:48:32.000Z', '2021-09-28T21:48:32.000Z', '2021-09-28T21:48:32.000Z', '2021-09-28T21:48:32.000Z', '2021-09-28T21:48:32.000Z', '2021-09-28T21:48:32.000Z', '2021-09-28T21:48:32.000Z', '2021-09-28T21:48:32.000Z', '2021-09-28T21:48:32.000Z', '2021-09-28T21:48:32.000Z', '2021-09-28T21:48:32.000Z', '2021-09-28T21:48:32.000Z', '2021-09-28T21:48:32.000Z', '2021-09-28T21:48:32.000Z', '2021-09-28T21:48:32.000Z', '2021-09-28T21:48:32.000Z', '2021-09-28T21:48:32.000Z', '2021-09-28T21:48:32.000Z', '2021-09-28T21:48:32.000Z', '2021-09-28T21:48:32.000Z', '2021-09-28T21:48:32.000Z', '2021-09-28T21:48:32.000Z', '2021-09-28T21:48:32.000Z', '2021-09-28T21:48:32.000Z', '2021-09-28T21:48:32.000Z', '2021-09-28T21:48:32.000Z', '2021-09-28T21:48:32.000Z', '2021-09-28T21:48:32.000Z', '2021-09-28T21:48:32.000Z', '2021-09-28T21:48:32.000Z', '2021-09-28T21:48:32.000Z', '2021-09-28T21:48:32.000Z', '2021-09-28T21:48:32.000Z', '2021-09-28T21:48:32.000Z', '2021-09-28T21:48:32.000Z', '2021-09-28T21:48:32.000Z', '2021-09-28T21:48:32.000Z', '2021-09-28T21:48:32.000Z', '2021-09-28T21:48:32.000Z', '2021-09-28T21:48:32.000Z', '2021-09-28T21:48:32.000Z', '2021-09-28T21:48:32.000Z', '2021-09-28T21:48:32.000Z', '2021-09-28T21:48:32.000Z', '2021-09-28T21:48:32.000Z', '2021-09-28T21:48:32.000Z', '2021-09-28T21:48:32.000Z', '2021-09-28T21:48:32.000Z', '2021-09-28T21:48:32.000Z', '2021-09-28T21:48:32.000Z', '2021-09-28T21:48:32.000Z', '2021-09-28T21:48:32.000Z', '2021-09-28T21:48:32.000Z', '2021-09-28T21:48:32.000Z', '2021-09-28T21:48:32.000Z', '2021-09-28T21:48:32.000Z', '2021-09-28T21:48:32.000Z', '2021-09-28T21:48:32.000Z', '2021-09-28T21:48:32.000Z', '2021-09-28T21:48:32.000Z', '2021-09-28T21:48:32.000Z', '2021-09-28T21:48:32.000Z', '2021-09-28T21:48:32.000Z', '2021-09-28T21:48:32.000Z', '2021-09-28T21:48:32.000Z', '2021-09-28T21:48:32.000Z', '2021-09-28T21:48:32.000Z', '2021-09-28T21:48:32.000Z', '2021-09-28T21:48:32.000Z', '2021-09-28T21:48:32.000Z', '2021-09-28T21:48:32.000Z', '2021-09-28T21:48:32.000Z', '2021-09-28T21:48:32.000Z', '2021-09-28T21:48:32.000Z', '2021-09-28T21:48:32.000Z', '2021-09-28T21:48:32.000Z', '2021-09-28T21:48:32.000Z', '2021-09-28T21:48:32.000Z', '2021-09-28T21:48:32.000Z', '2021-09-28T21:48:32.000Z', '2021-09-28T21:48:32.000Z', '2021-09-28T21:48:32.000Z', '2021-09-28T21:48:32.000Z', '2021-09-28T21:48:32.000Z', '2021-09-28T21:48:32.000Z', '2021-09-28T21:48:32.000Z', '2021-09-28T21:48:32.000Z', '2021-09-28T21:48:32.000Z', '2021-09-28T21:48:32.000Z', '2021-09-28T21:48:32.000Z', '2021-09-28T21:48:32.000Z', '2021-09-28T21:48:32.000Z', '2021-09-28T21:48:32.000Z', '2021-09-28T21:48:32.000Z', '2021-09-28T21:48:32.000Z', '2021-09-28T21:48:32.000Z', '2021-09-28T21:48:32.000Z', '2021-09-28T21:48:32.000Z', '2021-09-28T21:48:32.000Z', '2021-09-28T21:48:32.000Z', '2021-09-28T21:48:32.000Z', '2021-09-28T21:48:32.000Z', '2021-09-28T21:48:32.000Z', '2021-09-28T21:48:32.000Z', '2021-09-28T21:48:32.000Z', '2021-09-28T21:48:32.000Z', '2021-09-28T21:48:32.000Z', '2021-09-28T21:48:32.000Z', '2021-09-28T21:48:32.000Z', '2021-09-28T21:48:32.000Z', '2021-09-28T21:48:32.000Z', '2021-09-28T21:48:32.000Z', '2021-09-28T21:48:32.000Z', '2021-09-28T21:48:32.000Z', '2021-09-28T21:48:32.000Z', '2021-09-28T21:48:32.000Z', '2021-09-28T21:48:32.000Z', '2021-09-28T21:48:32.000Z', '2021-09-28T21:48:32.000Z', '2021-09-28T21:48:32.000Z', '2021-09-28T21:48:32.000Z', '2021-09-28T21:48:32.000Z', '2021-09-28T21:48:32.000Z', '2021-09-28T21:48:32.000Z', '2021-09-28T21:48:32.000Z', '2021-09-28T21:48:32.000Z', '2021-09-28T21:48:32.000Z', '2021-09-28T21:48:32.000Z', '2021-09-28T21:48:32.000Z', '2021-09-28T21:48:32.000Z', '2021-09-28T21:48:32.000Z', '2021-09-28T21:48:32.000Z', '2021-09-28T21:48:32.000Z', '2021-09-28T21:48:32.000Z', '2021-09-28T21:48:32.000Z', '2021-09-28T21:48:32.000Z', '2021-09-28T21:48:32.000Z', '2021-09-28T21:48:32.000Z', '2021-09-28T21:48:32.000Z', '2021-09-28T21:48:32.000Z', '2021-09-28T21:48:32.000Z', '2021-09-28T21:48:32.000Z', '2021-09-28T21:48:32.000Z', '2021-09-28T21:48:32.000Z', '2021-09-28T21:48:32.000Z', '2021-09-28T21:48:32.000Z', '2021-09-28T21:48:32.000Z', '2021-09-28T21:48:32.000Z', '2021-09-28T21:48:32.000Z', '2021-09-28T21:48:32.000Z', '2021-09-28T21:48:32.000Z', '2021-09-28T21:48:32.000Z', '2021-09-28T21:48:32.000Z', '2021-09-28T21:48:32.000Z', '2021-09-28T21:48:32.000Z', '2021-09-28T21:48:32.000Z', '2021-09-28T21:48:32.000Z', '2021-09-28T21:48:32.000Z', '2021-09-28T21:48:32.000Z', '2021-09-28T21:48:32.000Z', '2021-09-28T21:48:32.000Z', '2021-09-28T21:48:32.000Z', '2021-09-28T21:48:32.000Z', '2021-09-28T21:48:32.000Z', '2021-09-28T21:48:32.000Z', '2021-09-28T21:48:32.000Z', '2021-09-28T21:48:32.000Z', '2021-09-28T21:48:32.000Z', '2021-09-28T21:48:32.000Z', '2021-09-28T21:48:32.000Z', '2021-09-28T21:48:32.000Z', '2021-09-28T21:48:32.000Z', '2021-09-28T21:48:32.000Z', '2021-09-28T21:48:32.000Z', '2021-09-28T21:48:32.000Z', '2021-09-28T21:48:32.000Z', '2021-09-28T21:48:32.000Z', '2021-09-28T21:48:32.000Z', '2021-09-28T21:48:32.000Z', '2021-09-28T21:48:32.000Z', '2021-09-28T21:48:32.000Z', '2021-09-28T21:48:32.000Z', '2021-09-28T21:48:32.000Z', '2021-09-28T21:48:32.000Z', '2021-09-28T21:48:32.000Z', '2021-09-28T21:48:32.000Z', '2021-09-28T21:48:32.000Z', '2021-09-28T21:48:32.000Z', '2021-09-28T21:48:32.000Z', '2021-09-28T21:48:32.000Z', '2021-09-28T21:48:32.000Z', '2021-09-28T21:48:32.000Z', '2021-09-28T21:48:32.000Z', '2021-09-28T21:48:32.000Z', '2021-09-28T21:48:32.000Z', '2021-09-28T21:48:32.000Z', '2021-09-28T21:48:32.000Z', '2021-09-28T21:48:32.000Z', '2021-09-28T21:48:32.000Z', '2021-09-28T21:48:32.000Z', '2021-09-28T21:48:32.000Z', '2021-09-28T21:48:32.000Z', '2021-09-28T21:48:32.000Z', '2021-09-28T21:48:32.000Z', '2021-09-28T21:48:32.000Z', '2021-09-28T21:48:32.000Z', '2021-09-28T21:48:32.000Z', '2021-09-28T21:48:32.000Z', '2021-09-28T21:48:32.000Z', '2021-09-28T21:48:32.000Z', '2021-09-28T21:48:32.000Z', '2021-09-28T21:48:32.000Z', '2021-09-28T21:48:32.000Z', '2021-09-28T21:48:32.000Z', '2021-09-28T21:48:32.000Z', '2021-09-28T21:48:32.000Z', '2021-09-28T21:48:32.000Z', '2021-09-28T21:48:32.000Z', '2021-09-28T21:48:32.000Z', '2021-09-28T21:48:32.000Z', '2021-09-28T21:48:32.000Z', '2021-09-28T21:48:32.000Z', '2021-09-28T21:48:32.000Z', '2021-09-28T21:48:32.000Z', '2021-09-28T21:48:32.000Z', '2021-09-28T21:48:32.000Z', '2021-09-28T21:48:32.000Z', '2021-09-28T21:48:32.000Z', '2021-09-28T21:48:32.000Z', '2021-09-28T21:48:32.000Z', '2021-09-28T21:48:32.000Z', '2021-09-28T21:48:32.000Z', '2021-09-28T21:48:32.000Z', '2021-09-28T21:48:32.000Z', '2021-09-28T21:48:32.000Z', '2021-09-28T21:48:32.000Z', '2021-09-28T21:48:32.000Z', '2021-09-28T21:48:32.000Z', '2021-09-28T21:48:32.000Z', '2021-09-28T21:48:32.000Z', '2021-09-28T21:48:32.000Z', '2021-09-28T21:48:32.000Z', '2021-09-28T21:48:32.000Z', '2021-09-28T21:48:32.000Z', '2021-09-28T21:48:32.000Z', '2021-09-28T21:48:32.000Z', '2021-09-28T21:48:32.000Z', '2021-09-28T21:48:32.000Z', '2021-09-28T21:48:32.000Z', '2021-09-28T21:48:32.000Z', '2021-09-28T21:48:32.000Z', '2021-09-28T21:48:32.000Z', '2021-09-28T21:48:32.000Z', '2021-09-28T21:48:32.000Z', '2021-09-28T21:48:32.000Z', '2021-09-28T21:48:32.000Z', '2021-09-28T21:48:32.000Z', '2021-09-28T21:48:32.000Z', '2021-09-28T21:48:32.000Z', '2021-09-28T21:48:32.000Z', '2021-09-28T21:48:32.000Z', '2021-09-28T21:48:32.000Z', '2021-09-28T21:48:32.000Z', '2021-09-28T21:48:32.000Z', '2021-09-28T21:48:32.000Z', '2021-09-28T21:48:32.000Z', '2021-09-28T21:48:32.000Z', '2021-09-28T21:48:32.000Z', '2021-09-28T21:48:32.000Z', '2021-09-28T21:48:32.000Z', '2021-09-28T21:48:32.000Z', '2021-09-28T21:48:32.000Z', '2021-09-28T21:48:32.000Z', '2021-09-28T21:48:32.000Z', '2021-09-28T21:48:32.000Z', '2021-09-28T21:48:32.000Z', '2021-09-28T21:48:32.000Z', '2021-09-28T21:48:32.000Z', '2021-09-28T21:48:32.000Z', '2021-09-28T21:48:32.000Z', '2021-09-28T21:48:32.000Z', '2021-09-28T21:48:32.000Z', '2021-09-28T21:48:32.000Z', '2021-09-28T21:48:32.000Z', '2021-09-28T21:48:32.000Z', '2021-09-28T21:48:32.000Z', '2021-09-28T21:48:32.000Z', '2021-09-28T21:48:32.000Z', '2021-09-28T21:48:32.000Z', '2021-09-28T21:48:32.000Z', '2021-09-28T21:48:32.000Z', '2021-09-28T21:48:32.000Z', '2021-09-28T21:48:32.000Z', '2021-09-28T21:48:32.000Z', '2021-09-28T21:48:32.000Z', '2021-09-28T21:48:32.000Z', '2021-09-28T21:48:32.000Z', '2021-09-28T21:48:32.000Z', '2021-09-28T21:48:32.000Z', '2021-09-28T21:48:32.000Z', '2021-09-28T21:48:32.000Z', '2021-09-28T21:48:32.000Z', '2021-09-28T21:48:32.000Z', '2021-09-28T21:48:32.000Z', '2021-09-28T21:48:32.000Z', '2021-09-28T21:48:32.000Z', '2021-09-28T21:48:32.000Z', '2021-09-28T21:48:32.000Z', '2021-09-28T21:48:32.000Z', '2021-09-28T21:48:32.000Z', '2021-09-28T21:48:32.000Z', '2021-09-28T21:48:32.000Z', '2021-09-28T21:48:32.000Z', '2021-09-28T21:48:32.000Z', '2021-09-28T21:48:32.000Z', '2021-09-28T21:48:32.000Z', '2021-09-28T21:48:32.000Z', '2021-09-28T21:48:32.000Z', '2021-09-28T21:48:32.000Z', '2021-09-28T21:48:32.000Z', '2021-09-28T21:48:32.000Z', '2021-09-28T21:48:32.000Z', '2021-09-28T21:48:32.000Z', '2021-09-28T21:48:32.000Z', '2021-09-28T21:48:32.000Z', '2021-09-28T21:48:32.000Z', '2021-09-28T21:48:32.000Z', '2021-09-28T21:48:32.000Z', '2021-09-28T21:48:32.000Z', '2021-09-28T21:48:32.000Z', '2021-09-28T21:48:32.000Z', '2021-09-28T21:48:32.000Z', '2021-09-28T21:48:32.000Z', '2021-09-28T21:48:32.000Z', '2021-09-28T21:48:32.000Z', '2021-09-28T21:48:32.000Z', '2021-09-28T21:48:32.000Z', '2021-09-28T21:48:32.000Z', '2021-09-28T21:48:32.000Z', '2021-09-28T21:48:32.000Z', '2021-09-28T21:48:32.000Z', '2021-09-28T21:48:32.000Z', '2021-09-28T21:48:32.000Z', '2021-09-28T21:48:32.000Z', '2021-09-28T21:48:32.000Z', '2021-09-28T21:48:32.000Z', '2021-09-28T21:48:32.000Z', '2021-09-28T21:48:32.000Z', '2021-09-28T21:48:32.000Z', '2021-09-28T21:48:32.000Z', '2021-09-28T21:48:32.000Z', '2021-09-28T21:48:32.000Z', '2021-09-28T21:48:32.000Z', '2021-09-28T21:48:32.000Z', '2021-09-28T21:48:32.000Z', '2021-09-28T21:48:32.000Z', '2021-09-28T21:48:32.000Z', '2021-09-28T21:48:32.000Z', '2021-09-28T21:48:32.000Z', '2021-09-28T21:48:32.000Z', '2021-09-28T21:48:32.000Z', '2021-09-28T21:48:32.000Z', '2021-09-28T21:48:32.000Z', '2021-09-28T21:48:32.000Z', '2021-09-28T21:48:32.000Z', '2021-09-28T21:48:32.000Z', '2021-09-28T21:48:32.000Z', '2021-09-28T21:48:32.000Z', '2021-09-28T21:48:32.000Z', '2021-09-28T21:48:32.000Z', '2021-09-28T21:48:32.000Z', '2021-09-28T21:48:32.000Z', '2021-09-28T21:48:32.000Z', '2021-09-28T21:48:32.000Z', '2021-09-28T21:48:32.000Z', '2021-09-28T21:48:32.000Z', '2021-09-28T21:48:32.000Z', '2021-09-28T21:48:32.000Z', '2021-09-28T21:48:32.000Z', '2021-09-28T21:48:32.000Z', '2021-09-28T21:48:32.000Z', '2021-09-28T21:48:32.000Z', '2021-09-28T21:48:32.000Z', '2021-09-28T21:48:32.000Z', '2021-09-28T21:48:32.000Z', '2021-09-28T21:48:32.000Z', '2021-09-28T21:48:32.000Z', '2021-09-28T21:48:32.000Z', '2021-09-28T21:48:32.000Z', '2021-09-28T21:48:32.000Z', '2021-09-28T21:48:32.000Z', '2021-09-28T21:48:32.000Z', '2021-09-28T21:48:32.000Z', '2021-09-28T21:48:32.000Z', '2021-09-28T21:48:32.000Z', '2021-09-28T21:48:32.000Z', '2021-09-28T21:48:32.000Z', '2021-09-28T21:48:32.000Z', '2021-09-28T21:48:32.000Z', '2021-09-28T21:48:32.000Z', '2021-09-28T21:48:32.000Z', '2021-09-28T21:48:32.000Z', '2021-09-28T21:48:32.000Z', '2021-09-28T21:48:32.000Z']\n"
     ]
    }
   ],
   "source": [
    "print(datetime)"
   ]
  },
  {
   "cell_type": "code",
   "execution_count": 68,
   "metadata": {},
   "outputs": [
    {
     "name": "stdout",
     "output_type": "stream",
     "text": [
      "['Bprophetable ⧖\\n@bprophetable\\n·\\nSep 28\\n#Pregnancy #Prison sadistic #UK legal system remnant of #DarkAges #misogynist cruelty to WOMEN.\\nMichelle Bennett\\n@mm_bennett\\n · Sep 28\\nPrison guards, but not the mother who cradled her baby for 12 hours before receiving help, get counselling after her baby dies in cell. \\n\\nNothing about this is normal. \\n\\nEnd mass imprisonment. Stop building prisons.  https://theguardian.com/society/2021/sep/25/prison-guards-but-not-mother-get-counselling-after-baby-dies-in-cell…\\n2\\n2', 'LSP - Portraiture and Botanical Art\\n@lspiresphoto\\n·\\nSep 28\\nMaternity… I like to make it dramatic…\\n#maternity #photography #pregnancy #berkshire #Buckinghamshire\\n3', 'My Child Magazine\\n@mychildmagazine\\n·\\nSep 28\\nThe miracle takes a little time. \\n\\n@pregnantline__\\n\\n#pregnancy #babybump #babyontheway #parenting #mychild #mychildmag #mychildmagazine #magazine #freemagazine #australia #parentinglifestyle #tips #tipsandtricks #skills #support #advice #lifestyle\\n1\\n1', 'UTSW Science\\n@UTSWScience\\n·\\nSep 29\\nNew findings from reproductive #biology researchers led by W. Lee Kraus, Ph.D., provide evidence for previously unknown function of PARP-1 and PARP-2 in successful #pregnancy. Read more in \\n@PNASNews\\n. https://bit.ly/3uqlMkj\\n3\\n6', 'Teresa Banner\\n@banner_teresa\\n·\\nSep 28\\nI’m not adding a whole jar of pickles to my \\n@IcelandFoods\\n order…. #pregnancy\\n1', 'Parentnoob.com\\n@parentnoob_com\\n·\\nSep 29\\nYou need to read this for tips and advice with breastfeeding #pregnancy #pregnant #contraception #newborn #parent #parents #newbaby #newmum #newdad #mum #dad #mother #father #grandad #grandma #grandparents #afterbirth\\n1\\n3', 'Jamaica Hospital\\n@JamaicaHospital\\n·\\nSep 28\\nIs the #COVIDVaccine safe in #pregnancy and while #breastfeeding? Dr. Shah answers these questions and more as part of our HealthyMother/HealthyBaby series.\\n1\\n1\\n1', \"Red Rock Fertility\\n@FertilityLV\\n·\\nSep 29\\nWhat are some weird #pregnancy side effects you've had? #pregnancysymptoms\\n1\"]\n"
     ]
    }
   ],
   "source": [
    "\n",
    "pseudo = \"//article[@role='article']//span[contains(text(),'@')]\"\n",
    "datetime = \"//article[@role='article']//a//time/@datetime\"\n",
    "tweet = \"//article[@role='article']//a//time/@datetime\""
   ]
  },
  {
   "cell_type": "raw",
   "metadata": {},
   "source": [
    "# Locating the driver\n",
    "driver_location = \"/Users/macbook16decamille/chromedriver\"\n",
    "driver = webdriver.Chrome(driver_location)\n",
    "\n",
    "# Activating the driver on frimm landing page\n",
    "driver.get('https://twitter.com/search-advanced?lang=en')\n",
    "time.sleep(3)\n",
    "\n",
    "driver.find_element_by_xpath('//input[@name=\"theseHashtags\"]').clear()\n",
    "driver.find_element_by_xpath('//input[@name=\"theseHashtags\"]').send_keys(\"#pregnancy\")\n",
    "time.sleep(0.5)\n",
    "\n",
    "driver.find_element_by_xpath('//select[@aria-labelledby=\"SELECTOR_2_LABEL\"]').click()\n",
    "driver.find_element_by_xpath('//select[@aria-labelledby=\"SELECTOR_2_LABEL\"]').send_keys(\"Sep\")\n",
    "time.sleep(0.5)\n",
    "#driver.find_element_by_xpath('//select[@aria-labelledby=\"SELECTOR_2_LABEL\"]').send_keys(Keys.ENTER)\n",
    "\n",
    "driver.find_element_by_xpath('//select[@aria-labelledby=\"SELECTOR_3_LABEL\"]').click()\n",
    "driver.find_element_by_xpath('//select[@aria-labelledby=\"SELECTOR_3_LABEL\"]').send_keys(\"1\")\n",
    "time.sleep(0.5)\n",
    "\n",
    "driver.find_element_by_xpath('//select[@aria-labelledby=\"SELECTOR_4_LABEL\"]').click()\n",
    "driver.find_element_by_xpath('//select[@aria-labelledby=\"SELECTOR_4_LABEL\"]').send_keys(\"2021\")\n",
    "time.sleep(0.5)\n",
    "\n",
    "driver.find_element_by_xpath('//select[@aria-labelledby=\"SELECTOR_5_LABEL\"]').click()\n",
    "driver.find_element_by_xpath('//select[@aria-labelledby=\"SELECTOR_5_LABEL\"]').send_keys(\"Sep\")\n",
    "time.sleep(0.5)\n",
    "\n",
    "driver.find_element_by_xpath('//select[@aria-labelledby=\"SELECTOR_6_LABEL\"]').click()\n",
    "driver.find_element_by_xpath('//select[@aria-labelledby=\"SELECTOR_6_LABEL\"]').send_keys(\"29\")\n",
    "time.sleep(0.5)\n",
    "\n",
    "driver.find_element_by_xpath('//select[@aria-labelledby=\"SELECTOR_7_LABEL\"]').click()\n",
    "driver.find_element_by_xpath('//select[@aria-labelledby=\"SELECTOR_7_LABEL\"]').send_keys(\"2021\")\n",
    "time.sleep(0.5)\n",
    "\n",
    "driver.find_element_by_xpath('//select[@aria-labelledby=\"SELECTOR_7_LABEL\"]').send_keys(Keys.ENTER)"
   ]
  }
 ],
 "metadata": {
  "kernelspec": {
   "display_name": "Python 3",
   "language": "python",
   "name": "python3"
  },
  "language_info": {
   "codemirror_mode": {
    "name": "ipython",
    "version": 3
   },
   "file_extension": ".py",
   "mimetype": "text/x-python",
   "name": "python",
   "nbconvert_exporter": "python",
   "pygments_lexer": "ipython3",
   "version": "3.8.3"
  }
 },
 "nbformat": 4,
 "nbformat_minor": 4
}
