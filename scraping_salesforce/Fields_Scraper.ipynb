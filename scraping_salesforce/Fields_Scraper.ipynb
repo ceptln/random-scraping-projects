{
 "cells": [
  {
   "cell_type": "code",
   "execution_count": 30,
   "metadata": {},
   "outputs": [],
   "source": [
    "# Importing needed packages\n",
    "from bs4 import BeautifulSoup\n",
    "from selenium import webdriver\n",
    "import time\n",
    "import pandas as pd"
   ]
  },
  {
   "cell_type": "code",
   "execution_count": 47,
   "metadata": {},
   "outputs": [
    {
     "name": "stdout",
     "output_type": "stream",
     "text": [
      "['acceptedeventrelation', 'account', 'accountbrand', 'accountcontactrelation', 'accountcleaninfo', 'accountcontactrole', 'accountinsight', 'accountownersharingrule', 'accountpartner', 'accountrelationship', 'accountrelationshipsharerule', 'accountshare', 'accounttag', 'accountteammember', 'accountterritoryassignmentrule', 'accountterritoryassignmentruleitem', 'accountterritorysharingrule', 'accountuserterritory2view', 'actioncadence', 'actioncadencerule', 'actioncadencerulecondition', 'actioncadencestep', 'actioncadencesteptracker', 'actioncadencetracker', 'actionlinkgrouptemplate', 'actionlinktemplate', 'actionplan', 'actionplanitem', 'actionplantemplate', 'actionplantemplateitem', 'actionplantemplateitemvalue', 'actionplantemplateversion', 'activescratchorg', 'activityhistory', 'activitymetric', 'additionalnumber', 'address', 'agentwork', 'agentworkskill', 'aiinsightaction', 'aiinsightfeedback', 'aiinsightreason', 'aiinsightvalue', 'airecordinsight', 'allowedemaildomain', 'announcement', 'apexclass', 'apexcomponent', 'apexlog', 'apexpage', 'apexpageinfo', 'apextestqueueitem', 'apextestresult', 'apextestresultlimits', 'apextestrunresult', 'apextestsuite', 'apextrigger', 'appanalyticsqueryrequest', 'appdefinition', 'appextension', 'appmenuitem', 'appledomainverification', 'appointmentschedulingpolicy', 'approval', 'apptabmember', 'asset', 'assetdowntimeperiod', 'assetownersharingrule', 'assetrelationship', 'assetshare', 'assettag', 'assettokenevent', 'assetwarranty', 'assignedresource', 'assignmentrule', 'associatedlocation', 'asyncapexjob', 'attachedcontentdocument', 'attachedcontentnote', 'attachment', 'audience', 'auradefinition', 'auradefinitionbundle', 'auradefinitionbundleinfo', 'auradefinitioninfo', 'authconfig', 'authconfigproviders', 'authorizationform', 'authorizationformconsent', 'authorizationformdatause', 'authorizationformtext', 'authprovider', 'authsession', 'backgroundoperation', 'backgroundoperationresult', 'batchapexerrorevent', 'bookmark', 'brandtemplate', 'businesshours', 'businessprocess', 'businessprocessdefinition', 'businessprocessfeedback', 'businessprocessgroup', 'buyergrouppricebook', 'calendar', 'calendarview', 'callcenter', 'callcoachconfigmodifyevent', 'callcoachingmediaprovider', 'calldisposition', 'calldispositioncategory', 'calltemplate', 'campaign', 'campaigninfluence', 'campaigninfluencemodel', 'campaignmember', 'campaignmemberstatus', 'campaignownersharingrule', 'campaignshare', 'campaigntag', 'cardpaymentmethod', 'cartcheckoutsession', 'cartdeliverygroup', 'cartdeliverygroupmethod', 'cartitem', 'carttax', 'cartvalidationoutput', 'case', 'casearticle', 'casecomment', 'casecontactrole', 'casehistory', 'casemilestone', 'caseownersharingrule', 'caseshare', 'casesolution', 'casestatus', 'casesubjectparticle', 'casetag', 'caseteammember', 'caseteamrole', 'caseteamtemplate', 'caseteamtemplatemember', 'caseteamtemplaterecord', 'categorydata', 'categorynode', 'categorynodelocalization', 'channelobjectlinkingrule', 'channelprogram', 'channelprogramlevel', 'channelprogrammember', 'chatteractivity', 'chatteranswersactivity', 'chatteranswersreputationlevel', 'chatterconversation', 'chatterconversationmember', 'chatterextension', 'chatterextensionconfig', 'chattermessage', 'clientbrowser', 'collaborationgroup', 'collaborationgroupmember', 'collaborationgroupmemberrequest', 'collaborationgrouprecord', 'collaborationinvitation', 'collabuserengagementmetric', 'collabuserengmtrecordlink', 'colordefinition', 'combinedattachment', 'commerceentitlementbuyergroup', 'commerceentitlementpolicy', 'commerceentitlementpolicyshare', 'commerceentitlementproduct', 'commsubscription', 'commsubscriptionchanneltype', 'commsubscriptionconsent', 'commsubscriptiontiming', 'connectedapplication', 'contact', 'contactcleaninfo', 'contactpointaddress', 'contactpointconsent', 'contactpointemail', 'contactpointphone', 'contactpointtypeconsent', 'contactownersharingrule', 'contactrequest', 'contactrequestshare', 'contactshare', 'contactsuggestioninsight', 'contacttag', 'contentasset', 'contentbody', 'contentdistribution', 'contentdistributionview', 'contentdocument', 'contentdocumenthistory', 'contentdocumentlink', 'contentdocumentlistviewmapping', 'contentdocumentsubscription', 'contentfolder', 'contentfolderitem', 'contentfolderlink', 'contentfoldermember', 'contenthubitem', 'contenthubrepository', 'contentnote', 'contentnotification', 'contenttagsubscription', 'contentusersubscription', 'contentversion', 'contentversioncomment', 'contentversionhistory', 'contentversionrating', 'contentworkspace', 'contentworkspacedoc', 'contentworkspacemember', 'contentworkspacepermission', 'contentworkspacesubscription', 'contract', 'contractcontactrole', 'contractlineitem', 'contractstatus', 'contracttag', 'conversation', 'conversationcontextentry', 'conversationentry', 'conversationparticipant', 'corswhitelistentry', 'creditmemo', 'creditmemoline', 'crisis', 'cronjobdetail', 'crontrigger', 'csptrustedsite', 'currencytype', 'custombrand', 'custombrandasset', 'customhelpmenuitem', 'customhelpmenusection', 'customhttpheader', 'customnotificationtype', 'custompermission', 'custompermissiondependency', 'dandbcompany', 'dashboard', 'dashboardcomponent', 'dashboardtag', 'dataassessmentfieldmetric', 'dataassessmentmetric', 'dataassessmentvaluemetric', 'datacloudcompany', 'datacloudcontact', 'dataclouddandbcompany', 'datacloudownedentity', 'datacloudpurchaseusage', 'datacloudsocialhandle', 'dataintegrationrecordpurchasepermission', 'datasetexport', 'datasetexportpart', 'datauselegalbasis', 'datausepurpose', 'datedconversionrate', 'dcsocialprofile', 'dcsocialprofilehandle', 'declinedeventrelation', 'delegatedaccount', 'deleteevent', 'digitalsignature', 'digitalwallet', 'directmessage', 'division', 'divisionlocalization', 'document', 'documentattachmentmap', 'documenttag', 'domain', 'domainsite', 'dsarpolicy', 'dsarpolicylog', 'duplicatejob', 'duplicatejobdefinition', 'duplicatejobmatchingrule', 'duplicatejobmatchingruledefinition', 'duplicaterecorditem', 'duplicaterecordset', 'duplicaterule', 'electronicmediagroup', 'electronicmediause', 'emailcontent', 'emaildomainfilter', 'emaildomainkey', 'emailmessage', 'emailmessagerelation', 'emailrelay', 'emailservicesaddress', 'emailservicesfunction', 'emailstatus', 'emailtemplate', 'embeddedservicedetail', 'employee', 'employeecrisisassessment', 'engagementchanneltype', 'embeddedservicelabel', 'enhancedletterhead', 'entitlement', 'entitlementcontact', 'entitlementtemplate', 'entityhistory', 'entitymilestone', 'entitysubscription', 'environmenthubmember', 'event', 'eventlogfile', 'eventbussubscriber', 'eventtag', 'eventwhorelation', 'expense', 'expensereport', 'expensereportentry', 'expressionfilter', 'expressionfiltercriteria', 'externalaccounthierarchy', 'externalaccounthierarchyhistory', 'externaldatasource', 'externaldatauserauth', 'externalsocialaccount', 'feedattachment', 'feedcomment', 'feeditem', 'feedlike', 'feedpollchoice', 'feedpollvote', 'feedpost', 'feedrevision', 'feedsignal', 'feedtrackedchange', 'fieldhistoryarchive', 'fieldpermissions', 'fieldsecurityclassification', 'fieldservicemobilesettings', 'fiscalyearsettings', 'flexqueueitem', 'flowdefinitionview', 'flowinterview', 'flowinterviewownersharingrule', 'flowinterviewshare', 'flowrecordrelation', 'flowstagerelation', 'flowvariableview', 'flowversionview', 'folder', 'folderedcontentdocument', 'forecastingadjustment', 'forecastingdisplayedfamily', 'forecastingfact', 'forecastingitem', 'forecastingowneradjustment', 'forecastingquota', 'forecastingshare', 'forecastingtype', 'forecastinguserpreference', 'formulafunction', 'formulafunctionallowedtype', 'formulafunctioncategory', 'fulfillmentorder', 'fulfillmentorderitemadjustment', 'fulfillmentorderitemtax', 'fulfillmentorderlineitem', 'gtwyprovpaymentmethodtype', 'goal', 'goallink', 'googledoc', 'group', 'groupmember', 'hashtagdefinition', 'healthcarediagnosis', 'healthcareprocedure', 'holiday', 'icondefinition', 'idea', 'ideacomment', 'ideareputation', 'ideareputationlevel', 'ideatheme', 'idpeventlog', 'iframewhitelisturl', 'image', 'individual', 'individualhistory', 'individualshare', 'internalorganizationunit', 'invoice', 'invoiceline', 'jobprofile', 'knowledge__feed', 'knowledge__ka', 'knowledge__kav', 'knowledge__datacategoryselection', 'knowledgeableuser', 'knowledgearticle', 'knowledgearticleversion', 'knowledgearticleversionhistory', 'knowledgearticleviewstat', 'knowledgearticlevotestat', 'landingpage', 'lead', 'leadcleaninfo', 'leadownersharingrule', 'leadshare', 'leadstatus', 'leadtag', 'legalentity', 'lightningexperiencetheme', 'lightningonboardingconfig', 'lightningtogglemetrics', 'lightningusagebyapptypemetrics', 'lightningusagebybrowsermetrics', 'lightningusagebypagemetrics', 'lightningusagebyflexipagemetrics', 'lightningexitbypagemetrics', 'linkedarticle', 'linkedarticlefeed', 'linkedarticlehistory', 'listemail', 'listview', 'listviewchart', 'listviewchartinstance', 'liveagentsession', 'liveagentsessionhistory', 'liveagentsessionshare', 'livechatblockingrule', 'livechatbutton', 'livechatbuttondeployment', 'livechatbuttonskill', 'livechatdeployment', 'livechatsensitivedatarule', 'livechattranscript', 'livechattranscriptevent', 'livechattranscriptshare', 'livechattranscriptskill', 'livechatuserconfig', 'livechatuserconfigprofile', 'livechatuserconfiguser', 'livechatvisitor', 'location', 'locwaitlistmsgtemplate', 'locationwaitlist', 'locationwaitlistedparty', 'loginevent', 'logingeo', 'loginhistory', 'loginip', 'logouteventstream', 'lookedupfromactivity', 'macro', 'macroinstruction', 'macrousage', 'mailmergetemplate', 'maintenanceasset', 'maintenanceplan', 'maintenanceworkrule', 'managedcontentinfo', 'marketingform', 'marketinglink', 'matchingrule', 'matchingruleitem', 'messagingchannel', 'messagingchannelskill', 'messagingconfiguration', 'messagingdeliveryerror', 'messagingenduser', 'messaginglink', 'messagingsession', 'messagingtemplate', 'metadatapackage', 'metadatapackageversion', 'metric', 'metricdatalink', 'metricsdatafile', 'milestonetype', 'mobilesettingsassignment', 'msgchannellanguagekeyword', 'mydomaindiscoverablelogin', 'mutingpermissionset', 'name', 'namedcredential', 'namespaceregistry', 'navigationlinkset', 'navigationmenuitem', 'navigationmenuitemlocalization', 'network', 'networkactivityaudit', 'networkaffinity', 'networkdiscoverablelogin', 'networkmember', 'networkmembergroup', 'networkmoderation', 'networkpageoverride', 'networkselfregistration', 'networkuserhistoryrecent', 'note', 'noteandattachment', 'notetag', 'oauthcustomscope', 'oauthcustomscopeapp', 'oauthtoken', 'objectpermissions', 'objectterritory2assignmentrule', 'objectterritory2assignmentruleitem', 'objectterritory2association', 'openactivity', 'operatinghours', 'operatinghourshistory', 'opportunity', 'opportunitycompetitor', 'opportunitycontactrole', 'opportunitycontactrolesuggestioninsight', 'opportunityfieldhistory', 'opportunityhistory', 'opportunityinsight', 'opportunitylineitem', 'opportunitylineitemschedule', 'opportunityownersharingrule', 'opportunitypartner', 'opportunityshare', 'opportunitysplit', 'opportunitysplittype', 'opportunitystage', 'opportunitytag', 'opportunityteammember', 'order', 'orderadjustmentgroup', 'orderadjustmentgroupsummary', 'orderdeliverygroup', 'orderdeliverygroupsummary', 'orderdeliverymethod', 'orderhistory', 'orderitem', 'orderitemadjustmentlineitem', 'orderitemadjustmentlinesummary', 'orderitemsummary', 'orderitemsummarychange', 'orderitemtaxlineitem', 'orderitemtaxlineitemsummary', 'orderitemtype', 'orderownersharingrule', 'orderpaymentsummary', 'ordershare', 'orderstatus', 'ordersummary', 'organization', 'orgdeleterequest', 'orgwideemailaddress', 'outofoffice', 'outgoingemail', 'outgoingemailrelation', 'ownedcontentdocument', 'ownerchangeoptioninfo', 'packagelicense', 'packagepusherror', 'packagepushjob', 'packagepushrequest', 'packagesubscriber', 'partner', 'partnerfundallocation', 'partnerfundclaim', 'partnerfundrequest', 'partnermarketingbudget', 'partnernetworkconnection', 'partnernetworkrecordconnection', 'partnernetworksynclog', 'partnerrole', 'partyconsent', 'payment', 'paymentauthorization', 'paymentgateway', 'paymentgatewaylog', 'paymentgatewayprovider', 'paymentgroup', 'paymentlineinvoice', 'paymentmethod', 'pendingservicerouting', 'period', 'permissionset', 'permissionsetassignment', 'permissionsetgroup', 'permissionsetgroupcomponent', 'permissionsetlicense', 'permissionsetlicenseassign', 'permissionsettabsetting', 'personalizationtargetinfo', 'platformaction', 'platformeventusagemetric', 'platformstatusalertevent', 'portaldelegablepermissionset', 'presenceconfigdeclinereason', 'presencedeclinereason', 'presenceuserconfig', 'presenceuserconfigprofile', 'presenceuserconfiguser', 'pricebook2', 'pricebook2history', 'pricebookentry', 'processdefinition', 'processexception', 'processinstance', 'processinstancehistory', 'processinstancestep', 'processinstancenode', 'processinstanceworkitem', 'processnode', 'product2', 'product2datatranslation', 'productcategory', 'productcategorydatatranslation', 'productconsumed', 'productentitlementtemplate', 'productitem', 'productitemtransaction', 'productmedia', 'productrequest', 'productrequestlineitem', 'productrequired', 'producttransfer', 'productwarrantyterm', 'profile', 'profileskill', 'profileskillendorsement', 'profileskillshare', 'profileskilluser', 'prompt', 'promptaction', 'promptactionownersharingrule', 'promptactionshare', 'promptlocalization', 'promptversion', 'promptversionlocalization', 'pushtopic', 'queueroutingconfig', 'question', 'questiondatacategoryselection', 'questionreportabuse', 'questionsubscription', 'queuesobject', 'quicktext', 'quicktextusage', 'quote', 'quotedocument', 'quotelineitem', 'recentlyviewed', 'recommendation', 'recordaction', 'recordactionhistory', 'recordtype', 'recordtypelocalization', 'redirectwhitelisturl', 'refund', 'refundlinepayment', 'registeredexternalservice', 'remotekeycalloutevent', 'reply', 'replyreportabuse', 'replytext', 'report', 'reporttag', 'reputationlevel', 'reputationlevellocalization', 'reputationpointsrule', 'resourceabsence', 'resourcepreference', 'returnorder', 'returnorderitemadjustment', 'returnorderitemtax', 'returnorderlineitem', 'returnorderownersharingrule', 'ruleterritory2association', 'salesaiscorecycle', 'salesaiscoremodelfactor', 'saleschannel', 'salesworkqueuesettings', 'samlssoconfig', 'scontrol', 'scontrollocalization', 'scratchorginfo', 'searchpromotionrule', 'secureagent', 'secureagentscluster', 'securitycustombaseline', 'selfserviceuser', 'serviceappointment', 'serviceappointmentstatus', 'servicechannel', 'servicechannelfieldpriority', 'servicechannelstatus', 'servicechannelstatusfield', 'servicecontract', 'servicecontractownersharingrule', 'servicecrew', 'servicecrewmember', 'servicecrewownersharingrule', 'servicepresencestatus', 'servicereport', 'servicereportlayout', 'serviceresource', 'serviceresourcecapacity', 'serviceresourcecapacityhistory', 'serviceresourceownersharingrule', 'serviceresourceskill', 'serviceterritory', 'serviceterritorylocation', 'serviceterritorymember', 'serviceterritoryworktype', 'setupaudittrail', 'setupentityaccess', 'shaperepresentation', 'shift', 'shifthistory', 'shiftownersharingrule', 'shiftshare', 'shiftstatus', 'shipment', 'signuprequest', 'site', 'sitedetail', 'sitedomain', 'sitehistory', 'siteiframewhitelisturl', 'skill', 'skillprofile', 'skillrequirement', 'skilluser', 'slaprocess', 'snippet', 'snippetassignment', 'socialpersona', 'socialpost', 'solution', 'solutionstatus', 'solutiontag', 'sosdeployment', 'sossession', 'sossessionactivity', 'stamp', 'stampassignment', 'staticresource', 'storeintegratedservice', 'streamingchannel', 'survey', 'surveyemailbranding', 'surveyengagementcontext', 'surveyinvitation', 'surveypage', 'surveyquestion', 'surveyquestionchoice', 'surveyquestionresponse', 'surveyquestionscore', 'surveyresponse', 'surveysubject', 'surveyversion', 'surveyversionaddlinfo', 'tabdefinition', 'tagdefinition', 'task', 'taskpriority', 'taskrelation', 'taskstatus', 'tasktag', 'taskwhorelation', 'tenantsecret', 'territory', 'territory2', 'territory2model', 'territory2modelhistory', 'territory2type', 'testsuitemembership', 'thirdpartyaccountlink', 'threatdetectionfeedback', 'timesheet', 'timesheetentry', 'timeslot', 'timeslothistory', 'topic', 'topicassignment', 'topicuserevent', 'translation', 'twofactorinfo', 'twofactormethodsinfo', 'twofactortempcode', 'uiformulacriterion', 'uiformularule', 'undecidedeventrelation', 'user', 'useraccountteammember', 'userappinfo', 'userappmenucustomization', 'userappmenuitem', 'userauthcertificate', 'userconfigtransferbutton', 'userconfigtransferskill', 'usercustombadge', 'usercustombadgelocalization', 'userdevice', 'userdeviceapplication', 'userdevicehistory', 'useremailcalendarsync', 'useremailpreferredperson', 'useremailpreferredpersonshare', 'userlicense', 'userlistview', 'userlistviewcriterion', 'userlogin', 'userpackagelicense', 'userpermissionaccess', 'userpreference', 'userprofile', 'userprovaccount', 'userprovaccountstaging', 'userprovmocktarget', 'userprovisioningconfig', 'userprovisioninglog', 'userprovisioningrequest', 'userrecordaccess', 'userservicepresence', 'usershare', 'userteammember', 'userterritory', 'userterritory2association', 'userworklist', 'userworklistitem', 'verificationhistory', 'visualforceaccessmetrics', 'voicecall', 'voicecallfeed', 'voicecalllist', 'voicecalllistitem', 'voicecallqualityfeedback', 'voicecallrecording', 'voicecoaching', 'voicelocalpresencenumber', 'voicemailcontent', 'voicemailgreeting', 'voicemailmessage', 'voiceuserline', 'voiceuserpreferences', 'voicevendorinfo', 'voicevendorline', 'vote', 'warrantyterm', 'waveautoinstallrequest', 'webcart', 'webcarthistory', 'weblink', 'weblinklocalization', 'webstore', 'webstorecatalog', 'webstorepricebook', 'workaccess', 'workaccessshare', 'workbadge', 'workbadgedefinition', 'workcoaching', 'workfeedback', 'workfeedbackquestion', 'workfeedbackquestionset', 'workfeedbackrequest', 'workgoal', 'workgoalcollaborator', 'workgoalcollaboratorhistory', 'workgoalhistory', 'workgoallink', 'workgoalshare', 'workorder', 'workorderhistory', 'workorderlineitem', 'workorderlineitemhistory', 'workorderlineitemstatus', 'workordershare', 'workorderstatus', 'workperformancecycle', 'workreward', 'workrewardfund', 'workrewardfundtype', 'workthanks', 'worktype', 'worktypegroup', 'articletype__datacategoryselection', 'community', 'consumption_rate', 'consumption_schedule', 'eventattendee', 'listemail_individual_recipient', 'listemail_recipient_source', 'recordvisibility', 'sessionpermsetactivations', 'topiclocalization', 'transactionsecurity', 'usermembershiprule', 'role', 'wishlist', 'wishlistitem']\n"
     ]
    }
   ],
   "source": [
    "# Loading first page content\n",
    "first_url = 'https://developer.salesforce.com/docs/atlas.en-us.object_reference.meta/object_reference/sforce_api_objects_acceptedeventrelation.htm'\n",
    "emplacement_du_driver=\"/Users/macbook16decamille/chromedriver\"\n",
    "driver = webdriver.Chrome(emplacement_du_driver)\n",
    "driver.get(first_url)\n",
    "\n",
    "# Accepting cookies and closing footer\n",
    "time.sleep(4)\n",
    "driver.find_element_by_css_selector(\"button#onetrust-accept-btn-handler\").click()\n",
    "time.sleep(2)\n",
    "driver.find_element_by_css_selector(\"img.close-icon\").click()\n",
    "\n",
    "# Getting the list of all the pages of the current version\n",
    "liste_of_url_key=[]\n",
    "for el in driver.find_elements_by_css_selector(\"span.ng-binding.ng-scope\") :\n",
    "    liste_of_url_key.append(el.text)\n",
    "\n",
    "# Creating the list of all the url to scrape\n",
    "idx=liste_of_url_key.index(\"AcceptedEventRelation\")\n",
    "idx2=liste_of_url_key.index(\"WorkTypeGroupMember\")\n",
    "liste_of_url_key=liste_of_url_key[idx:idx2]\n",
    "for idx,url in enumerate(liste_of_url_key) : \n",
    "    liste_of_url_key[idx]=url.lower()\n",
    "\n",
    "# Cleaning liste_of_url_key\n",
    "remove_objects_list = ['article type__datacategoryselection','community (zone)','consumption rate','consumption schedule','eventrelation','listemailindividualrecipient','listemailrecipientsource','recordvisibility (pilot)','sessionpermsetactivation','salesforce surveys object model','topiclocalization—beta','transactionsecuritypolicy','usermembershipsharingrule','userrole','wishlist (beta)','wishlistitem (beta)']\n",
    "else_objects_list = ['articletype__datacategoryselection','community','consumption_rate','consumption_schedule','eventattendee','listemail_individual_recipient','listemail_recipient_source','recordvisibility','sessionpermsetactivations','topiclocalization','transactionsecurity','usermembershiprule','role','wishlist','wishlistitem']\n",
    "for el in remove_objects_list :\n",
    "    if el in liste_of_url_key:\n",
    "        liste_of_url_key.remove(el)\n",
    "for el in else_objects_list :\n",
    "    liste_of_url_key.append(el)\n",
    "    \n",
    "print(liste_of_url_key)"
   ]
  },
  {
   "cell_type": "code",
   "execution_count": 3,
   "metadata": {},
   "outputs": [
    {
     "name": "stdout",
     "output_type": "stream",
     "text": [
      "                 ObjectName           FieldName       Type  \\\n",
      "0     AcceptedEventRelation             EventId  reference   \n",
      "1     AcceptedEventRelation          RelationId  reference   \n",
      "2     AcceptedEventRelation       RespondedDate   dateTime   \n",
      "3     AcceptedEventRelation            Response     string   \n",
      "4     AcceptedEventRelation                Type     string   \n",
      "...                     ...                 ...        ...   \n",
      "9557          WorkTypeGroup            IsActive    boolean   \n",
      "9558          WorkTypeGroup  LastReferencedDate   dateTime   \n",
      "9559          WorkTypeGroup      LastViewedDate   dateTime   \n",
      "9560          WorkTypeGroup                Name     string   \n",
      "9561          WorkTypeGroup             OwnerId  reference   \n",
      "\n",
      "                                             Properties  \\\n",
      "0                         Filter, Group, Nillable, Sort   \n",
      "1                         Filter, Group, Nillable, Sort   \n",
      "2                                Filter, Nillable, Sort   \n",
      "3                         Filter, Group, Nillable, Sort   \n",
      "4                         Filter, Group, Nillable, Sort   \n",
      "...                                                 ...   \n",
      "9557  Create, Defaulted on create, Filter, Group, So...   \n",
      "9558                             Filter, Nillable, Sort   \n",
      "9559                             Filter, Nillable, Sort   \n",
      "9560      Create, Filter, Group, idLookup, Sort, Update   \n",
      "9561  Create, Defaulted on create, Filter, Group, So...   \n",
      "\n",
      "                                            Description  \n",
      "0                        Indicates the ID of the event.  \n",
      "1                      Indicates the ID of the invitee.  \n",
      "2     Indicates the most recent date and time when t...  \n",
      "3     Indicates the content of the response field. L...  \n",
      "4     Indicates whether the invitee is a user, lead ...  \n",
      "...                                                 ...  \n",
      "9557  Indicates whether this work type group can be ...  \n",
      "9558  The date and time that the current user last v...  \n",
      "9559  The timestamp for when the current user last v...  \n",
      "9560                  The name of this work type group.  \n",
      "9561        The ID of the user who created this record.  \n",
      "\n",
      "[9562 rows x 5 columns]\n"
     ]
    }
   ],
   "source": [
    "# Creating the 'Fields' dataframe\n",
    "df_fields = pd.DataFrame(columns=['ObjectName', 'FieldName', 'Type','Properties','Description'])\n",
    "error_list = []\n",
    "\n",
    "# For loop to go through the url list\n",
    "for url_key in liste_of_url_key:\n",
    "    url = \"https://developer.salesforce.com/docs/atlas.en-us.object_reference.meta/object_reference/sforce_api_objects_\"+url_key+\".htm\"\n",
    "    driver.get(url)\n",
    "    time.sleep(2)\n",
    "    soup = BeautifulSoup(driver.page_source, 'lxml')\n",
    "    try :\n",
    "        # Extracting Object Name\n",
    "        object_name_html = soup.select('span[id=\"topic-title\"]')\n",
    "        if len(object_name_html)>0:\n",
    "            object_name = object_name_html[0].text\n",
    "        else : \n",
    "            object_name_html = soup.select('h1[class=\"helpHead1\"]') \n",
    "            object_name = object_name_html[0].text\n",
    "\n",
    "        # Extracting the fields' names \n",
    "        field_names_html = soup.select('tr > td[data-title=\"Field Name\"]')\n",
    "        if len(field_names_html) == 0 : field_names_html = soup.select('tr > td[data-title=\"Field\"]')\n",
    "        if len(field_names_html) == 0 : field_names_html = soup.select('tr > td[data-title=\"Name\"]')\n",
    "        field_names_list = []\n",
    "        for i in range(len(field_names_html)):\n",
    "            field_names = field_names_html[i].text\n",
    "            field_names_clean = field_names.replace('\\n','')\n",
    "            field_names_list.append(field_names_clean)\n",
    "\n",
    "        # Extracting the details and creating a dictionnary for each field\n",
    "        field_details_html = soup.select('tr > td[data-title=\"Details\"]')\n",
    "        field_details_list = []\n",
    "        for i in range(len(field_details_html)):\n",
    "            field_details = field_details_html[i].text\n",
    "            field_details.replace('\\n','')\n",
    "            if 'Type' in field_details and 'Properties'in field_details and 'Description'in field_details: \n",
    "                # Splitting and joining the elements together\n",
    "                field_split = field_details.split()\n",
    "                type_index = field_split.index('Type')+1\n",
    "                properties_index = field_split.index('Properties')+1\n",
    "                description_index = field_split.index('Description')+1\n",
    "                field_type = ' '.join(field_split[type_index:properties_index-1])\n",
    "                field_properties = ' '.join(field_split[properties_index:description_index-1])\n",
    "                field_description = ' '.join(field_split[description_index:])\n",
    "                # Creating a dictionnary with each field elements\n",
    "                details_dict = {'ObjectName':object_name,'FieldName':field_names_list[i],'Type':field_type,'Properties':field_properties,'Description':field_description}\n",
    "            else:\n",
    "                details_dict = {'ObjectName':object_name,'FieldName':field_names_list[i],'Type':None,'Properties':None,'Description':None}\n",
    "            field_details_list.append(details_dict) \n",
    "\n",
    "        df_fields = df_fields.append(field_details_list, ignore_index=True)\n",
    "    except IndexError :\n",
    "        error_list.append(url)\n",
    "\n",
    "print(df_fields)"
   ]
  },
  {
   "cell_type": "code",
   "execution_count": 49,
   "metadata": {},
   "outputs": [
    {
     "data": {
      "text/html": [
       "<div>\n",
       "<style scoped>\n",
       "    .dataframe tbody tr th:only-of-type {\n",
       "        vertical-align: middle;\n",
       "    }\n",
       "\n",
       "    .dataframe tbody tr th {\n",
       "        vertical-align: top;\n",
       "    }\n",
       "\n",
       "    .dataframe thead th {\n",
       "        text-align: right;\n",
       "    }\n",
       "</style>\n",
       "<table border=\"1\" class=\"dataframe\">\n",
       "  <thead>\n",
       "    <tr style=\"text-align: right;\">\n",
       "      <th></th>\n",
       "      <th>ObjectName</th>\n",
       "      <th>FieldName</th>\n",
       "      <th>Type</th>\n",
       "      <th>Properties</th>\n",
       "      <th>Description</th>\n",
       "    </tr>\n",
       "  </thead>\n",
       "  <tbody>\n",
       "    <tr>\n",
       "      <th>0</th>\n",
       "      <td>AcceptedEventRelation</td>\n",
       "      <td>EventId</td>\n",
       "      <td>reference</td>\n",
       "      <td>Filter, Group, Nillable, Sort</td>\n",
       "      <td>Indicates the ID of the event.</td>\n",
       "    </tr>\n",
       "    <tr>\n",
       "      <th>1</th>\n",
       "      <td>AcceptedEventRelation</td>\n",
       "      <td>RelationId</td>\n",
       "      <td>reference</td>\n",
       "      <td>Filter, Group, Nillable, Sort</td>\n",
       "      <td>Indicates the ID of the invitee.</td>\n",
       "    </tr>\n",
       "    <tr>\n",
       "      <th>2</th>\n",
       "      <td>AcceptedEventRelation</td>\n",
       "      <td>RespondedDate</td>\n",
       "      <td>dateTime</td>\n",
       "      <td>Filter, Nillable, Sort</td>\n",
       "      <td>Indicates the most recent date and time when t...</td>\n",
       "    </tr>\n",
       "    <tr>\n",
       "      <th>3</th>\n",
       "      <td>AcceptedEventRelation</td>\n",
       "      <td>Response</td>\n",
       "      <td>string</td>\n",
       "      <td>Filter, Group, Nillable, Sort</td>\n",
       "      <td>Indicates the content of the response field. L...</td>\n",
       "    </tr>\n",
       "    <tr>\n",
       "      <th>4</th>\n",
       "      <td>AcceptedEventRelation</td>\n",
       "      <td>Type</td>\n",
       "      <td>string</td>\n",
       "      <td>Filter, Group, Nillable, Sort</td>\n",
       "      <td>Indicates whether the invitee is a user, lead ...</td>\n",
       "    </tr>\n",
       "    <tr>\n",
       "      <th>5</th>\n",
       "      <td>Account</td>\n",
       "      <td>AccountNumber</td>\n",
       "      <td>string</td>\n",
       "      <td>Create, Filter, Group, Nillable, Sort, Update</td>\n",
       "      <td>Account number assigned to this account (not t...</td>\n",
       "    </tr>\n",
       "    <tr>\n",
       "      <th>6</th>\n",
       "      <td>Account</td>\n",
       "      <td>AccountSource</td>\n",
       "      <td>picklist</td>\n",
       "      <td>Create, Filter, Group, Nillable, Sort, Update</td>\n",
       "      <td>The source of the account record. For example,...</td>\n",
       "    </tr>\n",
       "    <tr>\n",
       "      <th>7</th>\n",
       "      <td>Account</td>\n",
       "      <td>AnnualRevenue</td>\n",
       "      <td>currency</td>\n",
       "      <td>Create, Filter, Nillable, Sort, Update</td>\n",
       "      <td>Estimated annual revenue of the account.</td>\n",
       "    </tr>\n",
       "    <tr>\n",
       "      <th>8</th>\n",
       "      <td>Account</td>\n",
       "      <td>BillingAddress</td>\n",
       "      <td>address</td>\n",
       "      <td>Filter, Nillable</td>\n",
       "      <td>The compound form of the billing address. Read...</td>\n",
       "    </tr>\n",
       "    <tr>\n",
       "      <th>9</th>\n",
       "      <td>Account</td>\n",
       "      <td>BillingCity</td>\n",
       "      <td>string</td>\n",
       "      <td>Create, Filter, Group, Nillable, Sort, Update</td>\n",
       "      <td>Details for the billing address of this accoun...</td>\n",
       "    </tr>\n",
       "  </tbody>\n",
       "</table>\n",
       "</div>"
      ],
      "text/plain": [
       "              ObjectName       FieldName       Type  \\\n",
       "0  AcceptedEventRelation         EventId  reference   \n",
       "1  AcceptedEventRelation      RelationId  reference   \n",
       "2  AcceptedEventRelation   RespondedDate   dateTime   \n",
       "3  AcceptedEventRelation        Response     string   \n",
       "4  AcceptedEventRelation            Type     string   \n",
       "5                Account   AccountNumber     string   \n",
       "6                Account   AccountSource   picklist   \n",
       "7                Account   AnnualRevenue   currency   \n",
       "8                Account  BillingAddress    address   \n",
       "9                Account     BillingCity     string   \n",
       "\n",
       "                                      Properties  \\\n",
       "0                  Filter, Group, Nillable, Sort   \n",
       "1                  Filter, Group, Nillable, Sort   \n",
       "2                         Filter, Nillable, Sort   \n",
       "3                  Filter, Group, Nillable, Sort   \n",
       "4                  Filter, Group, Nillable, Sort   \n",
       "5  Create, Filter, Group, Nillable, Sort, Update   \n",
       "6  Create, Filter, Group, Nillable, Sort, Update   \n",
       "7         Create, Filter, Nillable, Sort, Update   \n",
       "8                               Filter, Nillable   \n",
       "9  Create, Filter, Group, Nillable, Sort, Update   \n",
       "\n",
       "                                         Description  \n",
       "0                     Indicates the ID of the event.  \n",
       "1                   Indicates the ID of the invitee.  \n",
       "2  Indicates the most recent date and time when t...  \n",
       "3  Indicates the content of the response field. L...  \n",
       "4  Indicates whether the invitee is a user, lead ...  \n",
       "5  Account number assigned to this account (not t...  \n",
       "6  The source of the account record. For example,...  \n",
       "7           Estimated annual revenue of the account.  \n",
       "8  The compound form of the billing address. Read...  \n",
       "9  Details for the billing address of this accoun...  "
      ]
     },
     "execution_count": 49,
     "metadata": {},
     "output_type": "execute_result"
    }
   ],
   "source": [
    "df_fields.head(10)"
   ]
  },
  {
   "cell_type": "code",
   "execution_count": 4,
   "metadata": {},
   "outputs": [
    {
     "name": "stdout",
     "output_type": "stream",
     "text": [
      "16\n"
     ]
    }
   ],
   "source": [
    "print(len(error_list))"
   ]
  },
  {
   "cell_type": "code",
   "execution_count": 5,
   "metadata": {},
   "outputs": [
    {
     "name": "stdout",
     "output_type": "stream",
     "text": [
      "['https://developer.salesforce.com/docs/atlas.en-us.object_reference.meta/object_reference/sforce_api_objects_article type__datacategoryselection.htm', 'https://developer.salesforce.com/docs/atlas.en-us.object_reference.meta/object_reference/sforce_api_objects_community (zone).htm', 'https://developer.salesforce.com/docs/atlas.en-us.object_reference.meta/object_reference/sforce_api_objects_consumption rate.htm', 'https://developer.salesforce.com/docs/atlas.en-us.object_reference.meta/object_reference/sforce_api_objects_consumption schedule.htm', 'https://developer.salesforce.com/docs/atlas.en-us.object_reference.meta/object_reference/sforce_api_objects_eventrelation.htm', 'https://developer.salesforce.com/docs/atlas.en-us.object_reference.meta/object_reference/sforce_api_objects_listemailindividualrecipient.htm', 'https://developer.salesforce.com/docs/atlas.en-us.object_reference.meta/object_reference/sforce_api_objects_listemailrecipientsource.htm', 'https://developer.salesforce.com/docs/atlas.en-us.object_reference.meta/object_reference/sforce_api_objects_recordvisibility (pilot).htm', 'https://developer.salesforce.com/docs/atlas.en-us.object_reference.meta/object_reference/sforce_api_objects_sessionpermsetactivation.htm', 'https://developer.salesforce.com/docs/atlas.en-us.object_reference.meta/object_reference/sforce_api_objects_salesforce surveys object model.htm', 'https://developer.salesforce.com/docs/atlas.en-us.object_reference.meta/object_reference/sforce_api_objects_topiclocalization—beta.htm', 'https://developer.salesforce.com/docs/atlas.en-us.object_reference.meta/object_reference/sforce_api_objects_transactionsecuritypolicy.htm', 'https://developer.salesforce.com/docs/atlas.en-us.object_reference.meta/object_reference/sforce_api_objects_usermembershipsharingrule.htm', 'https://developer.salesforce.com/docs/atlas.en-us.object_reference.meta/object_reference/sforce_api_objects_userrole.htm', 'https://developer.salesforce.com/docs/atlas.en-us.object_reference.meta/object_reference/sforce_api_objects_wishlist (beta).htm', 'https://developer.salesforce.com/docs/atlas.en-us.object_reference.meta/object_reference/sforce_api_objects_wishlistitem (beta).htm']\n"
     ]
    }
   ],
   "source": [
    "print(error_list)"
   ]
  },
  {
   "cell_type": "code",
   "execution_count": 40,
   "metadata": {},
   "outputs": [],
   "source": [
    "last_url_list = ['https://developer.salesforce.com/docs/atlas.en-us.object_reference.meta/object_reference/sforce_api_objects_articletype__datacategoryselection.htm', 'https://developer.salesforce.com/docs/atlas.en-us.object_reference.meta/object_reference/sforce_api_objects_community.htm','https://developer.salesforce.com/docs/atlas.en-us.object_reference.meta/object_reference/sforce_api_objects_consumption_rate.htm','https://developer.salesforce.com/docs/atlas.en-us.object_reference.meta/object_reference/sforce_api_objects_consumption_schedule.htm','https://developer.salesforce.com/docs/atlas.en-us.object_reference.meta/object_reference/sforce_api_objects_eventattendee.htm','https://developer.salesforce.com/docs/atlas.en-us.object_reference.meta/object_reference/sforce_api_objects_listemail_individual_recipient.htm','https://developer.salesforce.com/docs/atlas.en-us.object_reference.meta/object_reference/sforce_api_objects_listemail_recipient_source.htm','https://developer.salesforce.com/docs/atlas.en-us.object_reference.meta/object_reference/sforce_api_objects_recordvisibility.htm','https://developer.salesforce.com/docs/atlas.en-us.object_reference.meta/object_reference/sforce_api_objects_sessionpermsetactivations.htm','https://developer.salesforce.com/docs/atlas.en-us.object_reference.meta/object_reference/sforce_api_objects_topiclocalization.htm','https://developer.salesforce.com/docs/atlas.en-us.object_reference.meta/object_reference/sforce_api_objects_transactionsecurity.htm','https://developer.salesforce.com/docs/atlas.en-us.object_reference.meta/object_reference/sforce_api_objects_usermembershiprule.htm','https://developer.salesforce.com/docs/atlas.en-us.object_reference.meta/object_reference/sforce_api_objects_role.htm','https://developer.salesforce.com/docs/atlas.en-us.object_reference.meta/object_reference/sforce_api_objects_wishlist.htm','https://developer.salesforce.com/docs/atlas.en-us.object_reference.meta/object_reference/sforce_api_objects_wishlistitem.htm']"
   ]
  },
  {
   "cell_type": "code",
   "execution_count": 43,
   "metadata": {},
   "outputs": [],
   "source": [
    "remove_objects_list = ['article type__datacategoryselection','community (zone)','consumption rate','consumption schedule','eventrelation','listemailindividualrecipient','listemailrecipientsource','recordvisibility (pilot)','sessionpermsetactivation','salesforce surveys object model','topiclocalization—beta','transactionsecuritypolicy','usermembershipsharingrule','userrole','wishlist (beta)','wishlistitem (beta)']"
   ]
  },
  {
   "cell_type": "code",
   "execution_count": 41,
   "metadata": {},
   "outputs": [],
   "source": [
    "else_objects_list = ['articletype__datacategoryselection','community','consumption_rate','consumption_schedule','eventattendee','listemail_individual_recipient','listemail_recipient_source','recordvisibility','sessionpermsetactivations','topiclocalization','transactionsecurity','usermembershiprule','role','wishlist','wishlistitem']"
   ]
  },
  {
   "cell_type": "code",
   "execution_count": 45,
   "metadata": {},
   "outputs": [],
   "source": [
    "for el in remove_objects_list :\n",
    "    liste_of_url_key.remove(el)\n",
    "for el in else_objects_list :\n",
    "    liste_of_url_key.append(el)"
   ]
  },
  {
   "cell_type": "code",
   "execution_count": 31,
   "metadata": {},
   "outputs": [],
   "source": [
    "first_url = 'https://developer.salesforce.com/docs/atlas.en-us.object_reference.meta/object_reference/sforce_api_objects_acceptedeventrelation.htm'\n",
    "emplacement_du_driver=\"/Users/macbook16decamille/chromedriver\"\n",
    "driver = webdriver.Chrome(emplacement_du_driver)"
   ]
  },
  {
   "cell_type": "code",
   "execution_count": 32,
   "metadata": {},
   "outputs": [
    {
     "name": "stdout",
     "output_type": "stream",
     "text": [
      "                 ObjectName             FieldName       Type  \\\n",
      "0     AcceptedEventRelation               EventId  reference   \n",
      "1     AcceptedEventRelation            RelationId  reference   \n",
      "2     AcceptedEventRelation         RespondedDate   dateTime   \n",
      "3     AcceptedEventRelation              Response     string   \n",
      "4     AcceptedEventRelation                  Type     string   \n",
      "...                     ...                   ...        ...   \n",
      "9664        Wishlist (Beta)  WishlistProductCount        int   \n",
      "9665    WishlistItem (Beta)       CurrencyIsoCode   picklist   \n",
      "9666    WishlistItem (Beta)                  Name     string   \n",
      "9667    WishlistItem (Beta)            Product2Id  reference   \n",
      "9668    WishlistItem (Beta)            WishlistId  reference   \n",
      "\n",
      "                                             Properties  \\\n",
      "0                         Filter, Group, Nillable, Sort   \n",
      "1                         Filter, Group, Nillable, Sort   \n",
      "2                                Filter, Nillable, Sort   \n",
      "3                         Filter, Group, Nillable, Sort   \n",
      "4                         Filter, Group, Nillable, Sort   \n",
      "...                                                 ...   \n",
      "9664                      Filter, Group, Nillable, Sort   \n",
      "9665  Create, Defaulted on create, Filter, Group, Ni...   \n",
      "9666  Create, Filter, Group, idLookup, Name Field, S...   \n",
      "9667                Create, Filter, Group, Sort, Update   \n",
      "9668                        Create, Filter, Group, Sort   \n",
      "\n",
      "                                            Description  \n",
      "0                        Indicates the ID of the event.  \n",
      "1                      Indicates the ID of the invitee.  \n",
      "2     Indicates the most recent date and time when t...  \n",
      "3     Indicates the content of the response field. L...  \n",
      "4     Indicates whether the invitee is a user, lead ...  \n",
      "...                                                 ...  \n",
      "9664  The count of WishlistItems on this Wishlist. W...  \n",
      "9665  The ISO code for the currency that’s specified...  \n",
      "9666  The name of this WishlistItem record. Name can...  \n",
      "9667  The ID of the product represented by the Wishl...  \n",
      "9668  The ID of the parent Wishlist of this Wishlist...  \n",
      "\n",
      "[9669 rows x 5 columns]\n"
     ]
    }
   ],
   "source": [
    "# Creating the 'Fields' dataframe\n",
    "error_list_2 = []\n",
    "\n",
    "# For loop to go through the url list\n",
    "for url in last_url_list:\n",
    "    driver.get(url)\n",
    "    time.sleep(2)\n",
    "    soup = BeautifulSoup(driver.page_source, 'lxml')\n",
    "    try :\n",
    "        # Extracting Object Name\n",
    "        object_name_html = soup.select('span[id=\"topic-title\"]')\n",
    "        if len(object_name_html)>0:\n",
    "            object_name = object_name_html[0].text\n",
    "        else : \n",
    "            object_name_html = soup.select('h1[class=\"helpHead1\"]') \n",
    "            object_name = object_name_html[0].text\n",
    "\n",
    "        # Extracting the fields' names \n",
    "        field_names_html = soup.select('tr > td[data-title=\"Field Name\"]')\n",
    "        if len(field_names_html) == 0 : field_names_html = soup.select('tr > td[data-title=\"Field\"]')\n",
    "        if len(field_names_html) == 0 : field_names_html = soup.select('tr > td[data-title=\"Name\"]')\n",
    "        field_names_list = []\n",
    "        for i in range(len(field_names_html)):\n",
    "            field_names = field_names_html[i].text\n",
    "            field_names_clean = field_names.replace('\\n','')\n",
    "            field_names_list.append(field_names_clean)\n",
    "\n",
    "        # Extracting the details and creating a dictionnary for each field\n",
    "        field_details_html = soup.select('tr > td[data-title=\"Details\"]')\n",
    "        field_details_list = []\n",
    "        for i in range(len(field_details_html)):\n",
    "            field_details = field_details_html[i].text\n",
    "            field_details.replace('\\n','')\n",
    "            if 'Type' in field_details and 'Properties'in field_details and 'Description'in field_details: \n",
    "                # Splitting and joining the elements together\n",
    "                field_split = field_details.split()\n",
    "                type_index = field_split.index('Type')+1\n",
    "                properties_index = field_split.index('Properties')+1\n",
    "                description_index = field_split.index('Description')+1\n",
    "                field_type = ' '.join(field_split[type_index:properties_index-1])\n",
    "                field_properties = ' '.join(field_split[properties_index:description_index-1])\n",
    "                field_description = ' '.join(field_split[description_index:])\n",
    "                # Creating a dictionnary with each field elements\n",
    "                details_dict = {'ObjectName':object_name,'FieldName':field_names_list[i],'Type':field_type,'Properties':field_properties,'Description':field_description}\n",
    "            else:\n",
    "                details_dict = {'ObjectName':object_name,'FieldName':field_names_list[i],'Type':None,'Properties':None,'Description':None}\n",
    "            field_details_list.append(details_dict) \n",
    "\n",
    "        df_fields = df_fields.append(field_details_list, ignore_index=True)\n",
    "    except IndexError :\n",
    "        error_list_2.append(url)\n",
    "\n",
    "print(df_fields)"
   ]
  },
  {
   "cell_type": "code",
   "execution_count": 33,
   "metadata": {},
   "outputs": [
    {
     "data": {
      "text/plain": [
       "874"
      ]
     },
     "execution_count": 33,
     "metadata": {},
     "output_type": "execute_result"
    }
   ],
   "source": [
    "df_fields['ObjectName'].nunique()"
   ]
  },
  {
   "cell_type": "code",
   "execution_count": 34,
   "metadata": {},
   "outputs": [
    {
     "name": "stdout",
     "output_type": "stream",
     "text": [
      "[]\n"
     ]
    }
   ],
   "source": [
    "print(error_list_2)"
   ]
  },
  {
   "cell_type": "code",
   "execution_count": 7,
   "metadata": {},
   "outputs": [],
   "source": [
    "df_fields.to_csv(r'/Users/macbook16decamille/Castor/Fields.csv', index = False)"
   ]
  },
  {
   "cell_type": "code",
   "execution_count": 9,
   "metadata": {},
   "outputs": [
    {
     "name": "stdout",
     "output_type": "stream",
     "text": [
      "<class 'pandas.core.frame.DataFrame'>\n",
      "RangeIndex: 9562 entries, 0 to 9561\n",
      "Data columns (total 5 columns):\n",
      " #   Column       Non-Null Count  Dtype \n",
      "---  ------       --------------  ----- \n",
      " 0   ObjectName   9562 non-null   object\n",
      " 1   FieldName    9562 non-null   object\n",
      " 2   Type         9525 non-null   object\n",
      " 3   Properties   9525 non-null   object\n",
      " 4   Description  9525 non-null   object\n",
      "dtypes: object(5)\n",
      "memory usage: 373.6+ KB\n"
     ]
    }
   ],
   "source": [
    "df_fields.info()"
   ]
  },
  {
   "cell_type": "markdown",
   "metadata": {},
   "source": [
    "# VERSION 46"
   ]
  },
  {
   "cell_type": "code",
   "execution_count": 25,
   "metadata": {},
   "outputs": [
    {
     "name": "stdout",
     "output_type": "stream",
     "text": [
      "['acceptedeventrelation', 'account', 'accountbrand', 'accountbrandshare', 'accountcontactrelation', 'accountcleaninfo', 'accountcontactrole', 'accounthistory', 'accountinsight', 'accountownersharingrule', 'accountpartner', 'accountrelationship', 'accountrelationshiphistory', 'accountrelationshipshare', 'accountrelationshipsharerule', 'accountshare', 'accounttag', 'accountteammember', 'accountterritoryassignmentrule', 'accountterritoryassignmentruleitem', 'accountterritorysharingrule', 'accountuserterritory2view', 'actionlinkgrouptemplate', 'actionlinktemplate', 'actionplan', 'actionplanitem', 'actionplanshare', 'actionplantemplate', 'actionplantemplateitem', 'actionplantemplateitemvalue', 'actionplantemplateshare', 'actionplantemplateversion', 'activescratchorg', 'activityhistory', 'activitymetric', 'additionalnumber', 'address', 'agentwork', 'allowedemaildomain', 'announcement', 'apexclass', 'apexcomponent', 'apexlog', 'apexpage', 'apextestqueueitem', 'apextestresult', 'apextestresultlimits', 'apextestrunresult', 'apextestsuite', 'apextrigger', 'appanalyticsqueryrequest', 'appdefinition', 'appextension', 'appmenuitem', 'appointmentschedulingpolicy', 'approval', 'apptabmember', 'article type__datacategoryselection', 'asset', 'assetownersharingrule', 'assetrelationship', 'assetshare', 'assettag', 'assettokenevent', 'assignedresource', 'assignmentrule', 'associatedlocation', 'asyncapexjob', 'attachedcontentdocument', 'attachedcontentnote', 'attachment', 'audience', 'auradefinition', 'auradefinitionbundle', 'authconfig', 'authconfigproviders', 'authorizationform', 'authorizationformconsent', 'authorizationformconsenthistory', 'authorizationformdatause', 'authorizationformdatausehistory', 'authorizationformdatauseownersharingrule', 'authorizationformdatauseshare', 'authorizationformhistory', 'authorizationformownersharingrule', 'authorizationformshare', 'authorizationformtext', 'authorizationformtexthistory', 'authprovider', 'authsession', 'backgroundoperation', 'backgroundoperationresult', 'batchapexerrorevent', 'bookmark', 'brandtemplate', 'businesshours', 'businessprocess', 'calendar', 'callcenter', 'campaign', 'campaignhistory', 'campaigninfluence', 'campaigninfluencemodel', 'campaignmember', 'campaignmemberstatus', 'campaignownersharingrule', 'campaignshare', 'campaigntag', 'case', 'casearticle', 'casecomment', 'casecontactrole', 'casehistory', 'casemilestone', 'caseownersharingrule', 'caseshare', 'casesolution', 'casestatus', 'casetag', 'caseteammember', 'caseteamrole', 'caseteamtemplate', 'caseteamtemplatemember', 'caseteamtemplaterecord', 'categorydata', 'categorynode', 'categorynodelocalization', 'channelprogram', 'channelprogramhistory', 'channelprogramlevel', 'channelprogramlevelhistory', 'channelprogramlevelshare', 'channelprogrammember', 'channelprogrammemberhistory', 'channelprogrammembershare', 'channelprogramownersharingrule', 'channelprogramshare', 'chatteractivity', 'chatteranswersactivity', 'chatteranswersreputationlevel', 'chatterconversation', 'chatterconversationmember', 'chattermessage', 'clientbrowser', 'collaborationgroup', 'collaborationgroupmember', 'collaborationgroupmemberrequest', 'collaborationgrouprecord', 'collaborationinvitation', 'colordefinition', 'combinedattachment', 'community (zone)', 'connectedapplication', 'consumption rate', 'consumption schedule', 'contact', 'contactcleaninfo', 'contacthistory', 'contactpointtypeconsent', 'contactpointtypeconsenthistory', 'contactpointtypeconsentshare', 'contactownersharingrule', 'contactrequest', 'contactrequestshare', 'contactshare', 'contactsuggestioninsight', 'contacttag', 'contentasset', 'contentbody', 'contentdistribution', 'contentdistributionview', 'contentdocument', 'contentdocumenthistory', 'contentdocumentlink', 'contentdocumentlistviewmapping', 'contentdocumentsubscription', 'contentfolder', 'contentfolderitem', 'contentfolderlink', 'contentfoldermember', 'contenthubitem', 'contenthubrepository', 'contentnote', 'contentnotification', 'contenttagsubscription', 'contentusersubscription', 'contentversion', 'contentversioncomment', 'contentversionhistory', 'contentversionrating', 'contentworkspace', 'contentworkspacedoc', 'contentworkspacemember', 'contentworkspacepermission', 'contentworkspacesubscription', 'contract', 'contractcontactrole', 'contracthistory', 'contractlineitem', 'contractlineitemhistory', 'contractstatus', 'contracttag', 'conversationentry', 'corswhitelistentry', 'cronjobdetail', 'crontrigger', 'currencytype', 'custombrand', 'custombrandasset', 'customhelpmenuitem', 'customhelpmenusection', 'customhttpheader', 'custompermission', 'custompermissiondependency', 'dandbcompany', 'dashboard', 'dashboardcomponent', 'dashboardtag', 'dataassessmentfieldmetric', 'dataassessmentmetric', 'dataassessmentvaluemetric', 'datacloudcompany', 'datacloudcontact', 'dataclouddandbcompany', 'datacloudownedentity', 'datacloudpurchaseusage', 'datacloudsocialhandle', 'dataintegrationrecordpurchasepermission', 'datasetexport', 'datasetexportpart', 'datauselegalbasis', 'datauselegalbasishistory', 'datauselegalbasisownersharingrule', 'datauselegalbasisshare', 'datausepurpose', 'datausepurposehistory', 'datausepurposeownersharingrule', 'datausepurposeshare', 'datedconversionrate', 'dcsocialprofile', 'dcsocialprofilehandle', 'declinedeventrelation', 'digitalsignature', 'division', 'divisionlocalization', 'document', 'documentattachmentmap', 'documenttag', 'domain', 'domainsite', 'duplicatejob', 'duplicatejobdefinition', 'duplicatejobmatchingrule', 'duplicatejobmatchingruledefinition', 'duplicaterecorditem', 'duplicaterecordset', 'duplicaterule', 'emaildomainfilter', 'emaildomainkey', 'emailmessage', 'emailmessagerelation', 'emailrelay', 'emailservicesaddress', 'emailservicesfunction', 'emailstatus', 'emailtemplate', 'embeddedservicedetail', 'embeddedservicelabel', 'enhancedletterhead', 'entitlement', 'entitlementcontact', 'entitlementhistory', 'entitlementtemplate', 'entityhistory', 'entitymilestone', 'entitysubscription', 'environmenthubmember', 'event', 'eventlogfile', 'eventrelation', 'eventbussubscriber', 'eventtag', 'eventwhorelation', 'expressionfilter', 'expressionfiltercriteria', 'externaldatasource', 'externaldatauserauth', 'externalsocialaccount', 'feedattachment', 'feedcomment', 'feeditem', 'feedlike', 'feedpollchoice', 'feedpollvote', 'feedpost', 'feedrevision', 'feedtrackedchange', 'fieldhistoryarchive', 'fieldpermissions', 'fieldsecurityclassification', 'fieldservicemobilesettings', 'fiscalyearsettings', 'flexqueueitem', 'flowdefinitionview', 'flowinterview', 'flowinterviewownersharingrule', 'flowinterviewshare', 'flowrecordrelation', 'flowstagerelation', 'flowvariableview', 'flowversionview', 'folder', 'folderedcontentdocument', 'forecastingadjustment', 'forecastingdisplayedfamily', 'forecastingfact', 'forecastingitem', 'forecastingowneradjustment', 'forecastingquota', 'forecastingshare', 'forecastingtype', 'forecastinguserpreference', 'forecastshare', 'goal', 'goalhistory', 'goallink', 'goalshare', 'googledoc', 'group', 'groupmember', 'hashtagdefinition', 'healthcarediagnosis', 'healthcareprocedure', 'holiday', 'icondefinition', 'idea', 'ideacomment', 'ideareputation', 'ideareputationlevel', 'ideatheme', 'idpeventlog', 'iframewhitelisturl', 'individual', 'individualhistory', 'individualshare', 'knowledgeableuser', 'knowledgearticle', 'knowledgearticleversion', 'knowledgearticleversionhistory', 'knowledgearticleviewstat', 'knowledgearticlevotestat', 'landingpage', 'lead', 'leadcleaninfo', 'leadhistory', 'leadownersharingrule', 'leadshare', 'leadstatus', 'leadtag', 'lightningexperiencetheme', 'lightningtogglemetrics', 'lightningusagebyapptypemetrics', 'lightningusagebybrowsermetrics', 'lightningusagebypagemetrics', 'lightningusagebyflexipagemetrics', 'lightningexitbypagemetrics', 'lineitemoverride', 'linkedarticle', 'linkedarticlehistory', 'listemail', 'listemailindividualrecipient', 'listemailrecipientsource', 'listview', 'listviewchart', 'listviewchartinstance', 'liveagentsession', 'liveagentsessionhistory', 'liveagentsessionownersharingrule', 'liveagentsessionshare', 'livechatblockingrule', 'livechatbutton', 'livechatbuttondeployment', 'livechatbuttonskill', 'livechatdeployment', 'livechatsensitivedatarule', 'livechattranscript', 'livechattranscriptevent', 'livechattranscripthistory', 'livechattranscriptownersharingrule', 'livechattranscriptshare', 'livechattranscriptskill', 'livechatuserconfig', 'livechatuserconfigprofile', 'livechatuserconfiguser', 'livechatvisitor', 'location', 'loginevent', 'logingeo', 'loginhistory', 'loginip', 'logouteventstream (beta)', 'lookedupfromactivity', 'macro', 'macrohistory', 'macroinstruction', 'macroshare', 'mailmergetemplate', 'maintenanceasset', 'maintenanceplan', 'marketingform', 'marketinglink', 'matchingrule', 'matchingruleitem', 'messagingchannel', 'messagingchannelskill', 'metadatapackage', 'metadatapackageversion', 'metric', 'metricdatalink', 'metricdatalinkhistory', 'metrichistory', 'metricsdatafile', 'metricshare', 'milestonetype', 'mobilesettingsassignment', 'mydomaindiscoverablelogin', 'mutingpermissionset (pilot)', 'name', 'namedcredential', 'namespaceregistry', 'navigationlinkset', 'navigationmenuitem', 'navigationmenuitemlocalization', 'network', 'networkactivityaudit', 'networkaffinity', 'networkdiscoverablelogin', 'networkmember', 'networkmembergroup', 'networkmoderation', 'networkpageoverride', 'networkselfregistration', 'networkuserhistoryrecent', 'note', 'noteandattachment', 'notetag', 'oauthcustomscope', 'oauthtoken', 'objectpermissions', 'objectterritory2assignmentrule', 'objectterritory2assignmentruleitem', 'objectterritory2association', 'openactivity', 'operatinghours', 'operatinghourshistory', 'opportunity', 'opportunitycompetitor', 'opportunitycontactrole', 'opportunitycontactrolesuggestioninsight', 'opportunityfieldhistory', 'opportunityhistory', 'opportunityinsight', 'opportunitylineitem', 'opportunitylineitemschedule', 'opportunityoverride', 'opportunityownersharingrule', 'opportunitypartner', 'opportunityshare', 'opportunitysplit', 'opportunitysplittype', 'opportunitystage', 'opportunitytag', 'opportunityteammember', 'order', 'orderhistory', 'orderitem', 'orderitemhistory', 'orderownersharingrule', 'organization', 'orgdeleterequest', 'orgwideemailaddress', 'outofoffice', 'ownedcontentdocument', 'ownerchangeoptioninfo', 'packagelicense', 'packagepusherror', 'packagepushjob', 'packagepushrequest', 'packagesubscriber', 'partner', 'partnerfundallocation', 'partnerfundallocationhistory', 'partnerfundallocationownersharingrule', 'partnerfundallocationshare', 'partnerfundclaim', 'partnerfundclaimhistory', 'partnerfundclaimownersharingrule', 'partnerfundclaimshare', 'partnerfundrequest', 'partnerfundrequesthistory', 'partnerfundrequestownersharingrule', 'partnerfundrequestshare', 'partnermarketingbudget', 'partnermarketingbudgethistory', 'partnermarketingbudgetownersharingrule', 'partnermarketingbudgetshare', 'partnernetworkconnection', 'partnernetworkrecordconnection', 'partnernetworksynclog', 'partnerrole', 'period', 'permissionset', 'permissionsetassignment', 'permissionsetgroup (pilot)', 'permissionsetgroupcomponent (pilot)', 'permissionsetlicense', 'permissionsetlicenseassign', 'permissionsettabsetting', 'platformaction', 'platformstatusalertevent', 'presenceuserconfig', 'presenceuserconfigprofile', 'presenceuserconfiguser', 'pricebook2', 'pricebook2history', 'pricebookentry', 'processdefinition', 'processinstance', 'processinstancehistory', 'processinstancestep', 'processinstancenode', 'processinstanceworkitem', 'processnode', 'product2', 'productconsumed', 'productentitlementtemplate', 'productitem', 'productitemtransaction', 'productrequest', 'productrequesthistory', 'productrequestlineitem', 'productrequestownersharingrule', 'productrequestshare', 'productrequired', 'producttransfer', 'producttransferhistory', 'producttransferownersharingrule', 'producttransfershare', 'profile', 'profileskill', 'profileskillendorsement', 'profileskillendorsementhistory', 'profileskillhistory', 'profileskillshare', 'profileskilluser', 'profileskilluserhistory', 'prompt (beta)', 'promptaction (beta)', 'promptactionownersharingrule (beta)', 'promptactionshare (beta)', 'promptversion (beta)', 'reference: pushtopic', 'quantityforecast', 'quantityforecasthistory', 'queueroutingconfig', 'question', 'questiondatacategoryselection', 'questionreportabuse', 'questionsubscription', 'queuesobject', 'quicktext', 'quicktexthistory', 'quicktextownersharingrule', 'quicktextshare', 'quote', 'quotedocument', 'quotelineitem', 'quoteownersharingrule', 'quoteshare', 'recentlyviewed', 'recommendation', 'recordaction', 'recordactionhistory', 'recordtype', 'recordtypelocalization', 'recordvisibility (pilot)', 'remotekeycalloutevent', 'reply', 'replyreportabuse', 'report', 'reporttag', 'reputationlevel', 'reputationlevellocalization', 'reputationpointsrule', 'resourceabsence', 'resourceabsencehistory', 'resourcepreference', 'resourcepreferencehistory', 'returnorder', 'returnorderhistory', 'returnorderlineitem', 'returnorderlineitemhistory', 'returnorderownersharingrule', 'returnordershare', 'revenueforecast', 'revenueforecasthistory', 'ruleterritory2association', 'samlssoconfig', 'scontrol', 'scontrollocalization', 'scratchorginfo', 'searchpromotionrule', 'secureagent', 'secureagentscluster', 'securitycustombaseline', 'selfserviceuser', 'serviceappointment', 'serviceappointmentcapacityusage', 'serviceappointmentcapacityusagehistory', 'serviceappointmenthistory', 'serviceappointmentownersharingrule', 'serviceappointmentshare', 'serviceappointmentstatus', 'servicechannel', 'servicechannelstatus', 'servicecontract', 'servicecontracthistory', 'servicecontractownersharingrule', 'servicecontractshare', 'servicecrew', 'servicecrewhistory', 'servicecrewmember', 'servicecrewmemberhistory', 'servicecrewownersharingrule', 'servicecrewshare', 'servicepresencestatus', 'servicereport', 'servicereportlayout', 'serviceresource', 'serviceresourcecapacity', 'serviceresourcecapacityhistory', 'serviceresourcehistory', 'serviceresourceownersharingrule', 'serviceresourceshare', 'serviceresourceskill', 'serviceresourceskillhistory', 'serviceterritory', 'serviceterritoryhistory', 'serviceterritorylocation', 'serviceterritorymember', 'serviceterritorymemberhistory', 'serviceterritoryworktype', 'serviceterritoryworktypehistory', 'sessionpermsetactivation', 'setupaudittrail', 'setupentityaccess', 'shift', 'shifthistory', 'shiftownersharingrule', 'shiftshare', 'shiftstatus', 'shipment', 'signuprequest', 'site', 'sitedetail', 'sitedomain', 'sitehistory', 'siteiframewhitelisturl', 'skill', 'skillprofile', 'skillrequirement', 'skillrequirementhistory', 'skilluser', 'slaprocess', 'socialpersona', 'socialpersonahistory', 'socialpost', 'socialposthistory', 'socialpostshare', 'solution', 'solutionhistory', 'solutionstatus', 'solutiontag', 'sosdeployment', 'sossession', 'sossessionactivity', 'sossessionhistory', 'sossessionownersharingrule', 'sossessionshare', 'stamp', 'stampassignment', 'staticresource', 'reference: streamingchannel', 'salesforce surveys object model', 'survey', 'surveyemailbranding', 'surveyinvitation', 'surveyinvitationshare', 'surveypage', 'surveyquestion', 'surveyquestionchoice', 'surveyquestionresponse', 'surveyquestionscore', 'surveyresponse', 'surveyshare', 'surveysubject', 'surveyversion', 'tabdefinition', 'tagdefinition', 'task', 'taskpriority', 'taskrelation', 'taskstatus', 'tasktag', 'taskwhorelation', 'tenantsecret', 'territory', 'territory2', 'territory2model', 'territory2modelhistory', 'territory2type', 'testsuitemembership', 'thirdpartyaccountlink', 'timesheet', 'timesheetentry', 'timesheetentryhistory', 'timesheethistory', 'timesheetownersharingrule', 'timesheetshare', 'timeslot', 'timeslothistory', 'topic', 'topicassignment', 'topiclocalization—beta', 'topicuserevent', 'transactionsecuritypolicy', 'twofactorinfo', 'twofactormethodsinfo', 'twofactortempcode', 'undecidedeventrelation', 'user', 'useraccountteammember', 'userappinfo', 'userappmenucustomization', 'userappmenucustomizationshare', 'userappmenuitem', 'userauthcertificate', 'userconfigtransferbutton', 'userconfigtransferskill', 'usercustombadge', 'usercustombadgelocalization', 'userdevice', 'userdeviceapplication', 'useremailpreferredperson', 'useremailpreferredpersonshare', 'userlicense', 'userlistview', 'userlistviewcriterion', 'userlogin', 'usermembershipsharingrule', 'userpackagelicense', 'userpermissionaccess', 'userpreference', 'userprofile', 'userprovaccount', 'userprovaccountstaging', 'userprovmocktarget', 'userprovisioningconfig', 'userprovisioninglog', 'userprovisioningrequest', 'userprovisioningrequestownersharingrule', 'userprovisioningrequestshare', 'userrecordaccess', 'userrole', 'userservicepresence', 'usershare', 'userteammember', 'userterritory', 'userterritory2association', 'verificationhistory', 'visualforceaccessmetrics', 'voicecall', 'voicecalllist', 'voicecalllistitem', 'voicecalllistshare', 'voicecallqualityfeedback', 'voicecallqualityfeedbackshare', 'voicecallrecording', 'voicecallrecordingshare', 'voicecallshare', 'voicecoaching', 'voicecoachingshare', 'voicelocalpresencenumber', 'voicemailcontent', 'voicemailcontentshare', 'voicemailgreeting', 'voicemailgreetingshare', 'voicemailmessage', 'voicemailmessageshare', 'voiceuserline', 'voiceuserlineshare', 'voiceuserpreferences', 'voiceuserpreferencesshare', 'voicevendorinfo', 'voicevendorline', 'voicevendorlineshare', 'vote', 'weblink', 'weblinklocalization', 'workaccess', 'workaccessshare', 'workbadge', 'workbadgedefinition', 'workbadgedefinitionhistory', 'workbadgedefinitionshare', 'workcapacitylimit', 'workcapacitylimithistory', 'workcapacitylimitshare', 'workcapacityusage', 'workcapacityusagehistory', 'workcoaching', 'workcoachinghistory', 'workcoachingshare', 'workfeedback', 'workfeedbackhistory', 'workfeedbackquestion', 'workfeedbackquestionhistory', 'workfeedbackquestionset', 'workfeedbackquestionsethistory', 'workfeedbackquestionsetshare', 'workfeedbackquestionshare', 'workfeedbackrequest', 'workfeedbackrequesthistory', 'workfeedbackrequestshare', 'workfeedbackshare', 'workgoal', 'workgoalcollaborator', 'workgoalcollaboratorhistory', 'workgoalhistory', 'workgoallink', 'workgoalshare', 'workorder', 'workorderhistory', 'workorderlineitem', 'workorderlineitemhistory', 'workorderlineitemstatus', 'workordershare', 'workorderstatus', 'workperformancecycle', 'workperformancecyclehistory', 'workperformancecycleshare', 'workreward', 'workrewardfund', 'workrewardfundhistory', 'workrewardfundshare', 'workrewardfundtype', 'workrewardfundtypehistory', 'workrewardfundtypeshare', 'workrewardhistory', 'workrewardshare', 'workthanks', 'workthanksshare', 'worktype', 'worktypegroup', 'worktypegrouphistory']\n"
     ]
    }
   ],
   "source": [
    "## V.46\n",
    "# Loading first page content\n",
    "url_v46 = 'https://developer.salesforce.com/docs/atlas.en-us.220.0.api.meta/api/sforce_api_objects_acceptedeventrelation.htm'\n",
    "emplacement_du_driver=\"/Users/macbook16decamille/chromedriver\"\n",
    "driver = webdriver.Chrome(emplacement_du_driver)\n",
    "driver.get(url_v46)\n",
    "\n",
    "# Accepting cookies and closing footer\n",
    "time.sleep(4)\n",
    "driver.find_element_by_css_selector(\"button#onetrust-accept-btn-handler\").click()\n",
    "time.sleep(2)\n",
    "driver.find_element_by_css_selector(\"img.close-icon\").click()\n",
    "\n",
    "# Getting the list of all the pages of the current version\n",
    "liste_of_url_key_v46=[]\n",
    "for el in driver.find_elements_by_css_selector(\"span.ng-binding.ng-scope\") :\n",
    "    liste_of_url_key_v46.append(el.text)\n",
    "\n",
    "# Creating the list of all the url to scrape\n",
    "idx=liste_of_url_key_v46.index(\"AcceptedEventRelation\")\n",
    "idx2=liste_of_url_key_v46.index(\"WorkTypeGroupMember\")\n",
    "liste_of_url_key_v46=liste_of_url_key_v46[idx:idx2]\n",
    "for idx,url in enumerate(liste_of_url_key_v46) : \n",
    "    liste_of_url_key_v46[idx]=url.lower()\n",
    "print(liste_of_url_key_v46)"
   ]
  },
  {
   "cell_type": "code",
   "execution_count": 26,
   "metadata": {},
   "outputs": [
    {
     "name": "stdout",
     "output_type": "stream",
     "text": [
      "                  ObjectName                FieldName       Type  \\\n",
      "0      AcceptedEventRelation                  EventId  reference   \n",
      "1      AcceptedEventRelation               RelationId  reference   \n",
      "2      AcceptedEventRelation            RespondedDate   dateTime   \n",
      "3      AcceptedEventRelation                 Response     string   \n",
      "4      AcceptedEventRelation                     Type     string   \n",
      "..                       ...                      ...        ...   \n",
      "267  AccountOwnerSharingRule           DeveloperName      string   \n",
      "268  AccountOwnerSharingRule                  GroupId  reference   \n",
      "269  AccountOwnerSharingRule   OpportunityAccessLevel   picklist   \n",
      "270  AccountOwnerSharingRule                     Name     string   \n",
      "271  AccountOwnerSharingRule            UserOrGroupId  reference   \n",
      "\n",
      "                                            Properties  \\\n",
      "0                        Filter, Group, Nillable, Sort   \n",
      "1                        Filter, Group, Nillable, Sort   \n",
      "2                               Filter, Nillable, Sort   \n",
      "3                        Filter, Group, Nillable, Sort   \n",
      "4                        Filter, Group, Nillable, Sort   \n",
      "..                                                 ...   \n",
      "267  Create, Defaulted on create, Filter, Group, So...   \n",
      "268                        Create, Filter, Group, Sort   \n",
      "269  Create, Filter, Group, Restricted picklist, So...   \n",
      "270                Create, Filter, Group, Sort, Update   \n",
      "271                        Create, Filter, Group, Sort   \n",
      "\n",
      "                                           Description  \n",
      "0                       Indicates the ID of the event.  \n",
      "1                     Indicates the ID of the invitee.  \n",
      "2    Indicates the most recent date and time when t...  \n",
      "3    Indicates the content of the response field. L...  \n",
      "4    Indicates whether the invitee is a user, lead ...  \n",
      "..                                                 ...  \n",
      "267  The unique name of the object in the API. This...  \n",
      "268  The ID representing the source group. An Accou...  \n",
      "269  A value that represents the type of access gra...  \n",
      "270  Label of the sharing rule as it appears in the...  \n",
      "271  The ID representing the User or Group being gr...  \n",
      "\n",
      "[272 rows x 5 columns]\n"
     ]
    }
   ],
   "source": [
    "# Creating the 'Fields' dataframe\n",
    "df_fields_v46 = pd.DataFrame(columns=['ObjectName', 'FieldName', 'Type','Properties','Description'])\n",
    "error_list_v46 = []\n",
    "\n",
    "# For loop to go through the url list\n",
    "for url_key in liste_of_url_key_v46[0:10]:\n",
    "    url = \"https://developer.salesforce.com/docs/atlas.en-us.220.0.object_reference.meta/object_reference/sforce_api_objects_\"+url_key+\".htm\"\n",
    "    driver.get(url)\n",
    "    time.sleep(2)\n",
    "    soup = BeautifulSoup(driver.page_source, 'lxml')\n",
    "    try :\n",
    "        # Extracting Object Name\n",
    "        object_name_html = soup.select('span[id=\"topic-title\"]')\n",
    "        if len(object_name_html)>0:\n",
    "            object_name = object_name_html[0].text\n",
    "        else : \n",
    "            object_name_html = soup.select('h1[class=\"helpHead1\"]') \n",
    "            object_name = object_name_html[0].text\n",
    "\n",
    "        # Extracting the fields' names \n",
    "        field_names_html = soup.select('tr > td[data-title=\"Field Name\"]')\n",
    "        if len(field_names_html) == 0 : field_names_html = soup.select('tr > td[data-title=\"Field\"]')\n",
    "        if len(field_names_html) == 0 : field_names_html = soup.select('tr > td[data-title=\"Name\"]')\n",
    "        field_names_list = []\n",
    "        for i in range(len(field_names_html)):\n",
    "            field_names = field_names_html[i].text\n",
    "            field_names_clean = field_names.replace('\\n','')\n",
    "            field_names_list.append(field_names_clean)\n",
    "\n",
    "        # Extracting the details and creating a dictionnary for each field\n",
    "        field_details_html = soup.select('tr > td[data-title=\"Details\"]')\n",
    "        field_details_list = []\n",
    "        for i in range(len(field_details_html)):\n",
    "            field_details = field_details_html[i].text\n",
    "            field_details.replace('\\n','')\n",
    "            if 'Type' in field_details and 'Properties'in field_details and 'Description'in field_details: \n",
    "                # Splitting and joining the elements together\n",
    "                field_split = field_details.split()\n",
    "                type_index = field_split.index('Type')+1\n",
    "                properties_index = field_split.index('Properties')+1\n",
    "                description_index = field_split.index('Description')+1\n",
    "                field_type = ' '.join(field_split[type_index:properties_index-1])\n",
    "                field_properties = ' '.join(field_split[properties_index:description_index-1])\n",
    "                field_description = ' '.join(field_split[description_index:])\n",
    "                # Creating a dictionnary with each field elements\n",
    "                details_dict = {'ObjectName':object_name,'FieldName':field_names_list[i],'Type':field_type,'Properties':field_properties,'Description':field_description}\n",
    "            else:\n",
    "                details_dict = {'ObjectName':object_name,'FieldName':field_names_list[i],'Type':None,'Properties':None,'Description':None}\n",
    "            field_details_list.append(details_dict) \n",
    "\n",
    "        df_fields_v46 = df_fields_v46.append(field_details_list, ignore_index=True)\n",
    "    except IndexError :\n",
    "        error_list_v46.append(url)\n",
    "\n",
    "print(df_fields_v46)"
   ]
  },
  {
   "cell_type": "code",
   "execution_count": 27,
   "metadata": {},
   "outputs": [
    {
     "name": "stdout",
     "output_type": "stream",
     "text": [
      "0\n"
     ]
    }
   ],
   "source": [
    "print(len(error_list_v46))"
   ]
  },
  {
   "cell_type": "code",
   "execution_count": null,
   "metadata": {},
   "outputs": [],
   "source": []
  }
 ],
 "metadata": {
  "kernelspec": {
   "display_name": "Python 3",
   "language": "python",
   "name": "python3"
  },
  "language_info": {
   "codemirror_mode": {
    "name": "ipython",
    "version": 3
   },
   "file_extension": ".py",
   "mimetype": "text/x-python",
   "name": "python",
   "nbconvert_exporter": "python",
   "pygments_lexer": "ipython3",
   "version": "3.8.3"
  }
 },
 "nbformat": 4,
 "nbformat_minor": 2
}
